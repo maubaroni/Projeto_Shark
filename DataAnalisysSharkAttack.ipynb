{
 "cells": [
  {
   "cell_type": "markdown",
   "metadata": {},
   "source": [
    "# SHARK ATTACK CLEANING DATE"
   ]
  },
  {
   "cell_type": "code",
   "execution_count": 1,
   "metadata": {
    "ExecuteTime": {
     "end_time": "2021-01-13T23:51:29.835297Z",
     "start_time": "2021-01-13T23:51:29.065464Z"
    }
   },
   "outputs": [],
   "source": [
    "import pandas as pd\n",
    "import numpy as np\n",
    "import re"
   ]
  },
  {
   "cell_type": "code",
   "execution_count": 2,
   "metadata": {
    "ExecuteTime": {
     "end_time": "2021-01-13T23:51:30.487475Z",
     "start_time": "2021-01-13T23:51:30.327312Z"
    }
   },
   "outputs": [],
   "source": [
    "df=pd.read_csv(\"data/attacks.csv\", sep=',',encoding='ISO-8859-1')"
   ]
  },
  {
   "cell_type": "code",
   "execution_count": 113,
   "metadata": {
    "ExecuteTime": {
     "end_time": "2021-01-14T01:24:00.678695Z",
     "start_time": "2021-01-14T01:24:00.667320Z"
    }
   },
   "outputs": [],
   "source": [
    "pd.set_option('display.max_rows', 10)\n",
    "# Dica do GUI --- como mostrar numero máximo de linhas do dataframe"
   ]
  },
  {
   "cell_type": "code",
   "execution_count": 4,
   "metadata": {
    "ExecuteTime": {
     "end_time": "2021-01-13T23:51:32.415951Z",
     "start_time": "2021-01-13T23:51:32.335985Z"
    }
   },
   "outputs": [
    {
     "data": {
      "text/html": [
       "<div>\n",
       "<style scoped>\n",
       "    .dataframe tbody tr th:only-of-type {\n",
       "        vertical-align: middle;\n",
       "    }\n",
       "\n",
       "    .dataframe tbody tr th {\n",
       "        vertical-align: top;\n",
       "    }\n",
       "\n",
       "    .dataframe thead th {\n",
       "        text-align: right;\n",
       "    }\n",
       "</style>\n",
       "<table border=\"1\" class=\"dataframe\">\n",
       "  <thead>\n",
       "    <tr style=\"text-align: right;\">\n",
       "      <th></th>\n",
       "      <th>Case Number</th>\n",
       "      <th>Date</th>\n",
       "      <th>Year</th>\n",
       "      <th>Type</th>\n",
       "      <th>Country</th>\n",
       "      <th>Area</th>\n",
       "      <th>Location</th>\n",
       "      <th>Activity</th>\n",
       "      <th>Name</th>\n",
       "      <th>Sex</th>\n",
       "      <th>...</th>\n",
       "      <th>Species</th>\n",
       "      <th>Investigator or Source</th>\n",
       "      <th>pdf</th>\n",
       "      <th>href formula</th>\n",
       "      <th>href</th>\n",
       "      <th>Case Number.1</th>\n",
       "      <th>Case Number.2</th>\n",
       "      <th>original order</th>\n",
       "      <th>Unnamed: 22</th>\n",
       "      <th>Unnamed: 23</th>\n",
       "    </tr>\n",
       "  </thead>\n",
       "  <tbody>\n",
       "    <tr>\n",
       "      <th>0</th>\n",
       "      <td>2018.06.25</td>\n",
       "      <td>25-Jun-2018</td>\n",
       "      <td>2018.0</td>\n",
       "      <td>Boating</td>\n",
       "      <td>USA</td>\n",
       "      <td>California</td>\n",
       "      <td>Oceanside, San Diego County</td>\n",
       "      <td>Paddling</td>\n",
       "      <td>Julie Wolfe</td>\n",
       "      <td>F</td>\n",
       "      <td>...</td>\n",
       "      <td>White shark</td>\n",
       "      <td>R. Collier, GSAF</td>\n",
       "      <td>2018.06.25-Wolfe.pdf</td>\n",
       "      <td>http://sharkattackfile.net/spreadsheets/pdf_di...</td>\n",
       "      <td>http://sharkattackfile.net/spreadsheets/pdf_di...</td>\n",
       "      <td>2018.06.25</td>\n",
       "      <td>2018.06.25</td>\n",
       "      <td>6303.0</td>\n",
       "      <td>NaN</td>\n",
       "      <td>NaN</td>\n",
       "    </tr>\n",
       "    <tr>\n",
       "      <th>1</th>\n",
       "      <td>2018.06.18</td>\n",
       "      <td>18-Jun-2018</td>\n",
       "      <td>2018.0</td>\n",
       "      <td>Unprovoked</td>\n",
       "      <td>USA</td>\n",
       "      <td>Georgia</td>\n",
       "      <td>St. Simon Island, Glynn County</td>\n",
       "      <td>Standing</td>\n",
       "      <td>Adyson McNeely</td>\n",
       "      <td>F</td>\n",
       "      <td>...</td>\n",
       "      <td>NaN</td>\n",
       "      <td>K.McMurray, TrackingSharks.com</td>\n",
       "      <td>2018.06.18-McNeely.pdf</td>\n",
       "      <td>http://sharkattackfile.net/spreadsheets/pdf_di...</td>\n",
       "      <td>http://sharkattackfile.net/spreadsheets/pdf_di...</td>\n",
       "      <td>2018.06.18</td>\n",
       "      <td>2018.06.18</td>\n",
       "      <td>6302.0</td>\n",
       "      <td>NaN</td>\n",
       "      <td>NaN</td>\n",
       "    </tr>\n",
       "    <tr>\n",
       "      <th>2</th>\n",
       "      <td>2018.06.09</td>\n",
       "      <td>09-Jun-2018</td>\n",
       "      <td>2018.0</td>\n",
       "      <td>Invalid</td>\n",
       "      <td>USA</td>\n",
       "      <td>Hawaii</td>\n",
       "      <td>Habush, Oahu</td>\n",
       "      <td>Surfing</td>\n",
       "      <td>John Denges</td>\n",
       "      <td>M</td>\n",
       "      <td>...</td>\n",
       "      <td>NaN</td>\n",
       "      <td>K.McMurray, TrackingSharks.com</td>\n",
       "      <td>2018.06.09-Denges.pdf</td>\n",
       "      <td>http://sharkattackfile.net/spreadsheets/pdf_di...</td>\n",
       "      <td>http://sharkattackfile.net/spreadsheets/pdf_di...</td>\n",
       "      <td>2018.06.09</td>\n",
       "      <td>2018.06.09</td>\n",
       "      <td>6301.0</td>\n",
       "      <td>NaN</td>\n",
       "      <td>NaN</td>\n",
       "    </tr>\n",
       "    <tr>\n",
       "      <th>3</th>\n",
       "      <td>2018.06.08</td>\n",
       "      <td>08-Jun-2018</td>\n",
       "      <td>2018.0</td>\n",
       "      <td>Unprovoked</td>\n",
       "      <td>AUSTRALIA</td>\n",
       "      <td>New South Wales</td>\n",
       "      <td>Arrawarra Headland</td>\n",
       "      <td>Surfing</td>\n",
       "      <td>male</td>\n",
       "      <td>M</td>\n",
       "      <td>...</td>\n",
       "      <td>2 m shark</td>\n",
       "      <td>B. Myatt, GSAF</td>\n",
       "      <td>2018.06.08-Arrawarra.pdf</td>\n",
       "      <td>http://sharkattackfile.net/spreadsheets/pdf_di...</td>\n",
       "      <td>http://sharkattackfile.net/spreadsheets/pdf_di...</td>\n",
       "      <td>2018.06.08</td>\n",
       "      <td>2018.06.08</td>\n",
       "      <td>6300.0</td>\n",
       "      <td>NaN</td>\n",
       "      <td>NaN</td>\n",
       "    </tr>\n",
       "    <tr>\n",
       "      <th>4</th>\n",
       "      <td>2018.06.04</td>\n",
       "      <td>04-Jun-2018</td>\n",
       "      <td>2018.0</td>\n",
       "      <td>Provoked</td>\n",
       "      <td>MEXICO</td>\n",
       "      <td>Colima</td>\n",
       "      <td>La Ticla</td>\n",
       "      <td>Free diving</td>\n",
       "      <td>Gustavo Ramos</td>\n",
       "      <td>M</td>\n",
       "      <td>...</td>\n",
       "      <td>Tiger shark, 3m</td>\n",
       "      <td>A .Kipper</td>\n",
       "      <td>2018.06.04-Ramos.pdf</td>\n",
       "      <td>http://sharkattackfile.net/spreadsheets/pdf_di...</td>\n",
       "      <td>http://sharkattackfile.net/spreadsheets/pdf_di...</td>\n",
       "      <td>2018.06.04</td>\n",
       "      <td>2018.06.04</td>\n",
       "      <td>6299.0</td>\n",
       "      <td>NaN</td>\n",
       "      <td>NaN</td>\n",
       "    </tr>\n",
       "    <tr>\n",
       "      <th>...</th>\n",
       "      <td>...</td>\n",
       "      <td>...</td>\n",
       "      <td>...</td>\n",
       "      <td>...</td>\n",
       "      <td>...</td>\n",
       "      <td>...</td>\n",
       "      <td>...</td>\n",
       "      <td>...</td>\n",
       "      <td>...</td>\n",
       "      <td>...</td>\n",
       "      <td>...</td>\n",
       "      <td>...</td>\n",
       "      <td>...</td>\n",
       "      <td>...</td>\n",
       "      <td>...</td>\n",
       "      <td>...</td>\n",
       "      <td>...</td>\n",
       "      <td>...</td>\n",
       "      <td>...</td>\n",
       "      <td>...</td>\n",
       "      <td>...</td>\n",
       "    </tr>\n",
       "    <tr>\n",
       "      <th>25718</th>\n",
       "      <td>NaN</td>\n",
       "      <td>NaN</td>\n",
       "      <td>NaN</td>\n",
       "      <td>NaN</td>\n",
       "      <td>NaN</td>\n",
       "      <td>NaN</td>\n",
       "      <td>NaN</td>\n",
       "      <td>NaN</td>\n",
       "      <td>NaN</td>\n",
       "      <td>NaN</td>\n",
       "      <td>...</td>\n",
       "      <td>NaN</td>\n",
       "      <td>NaN</td>\n",
       "      <td>NaN</td>\n",
       "      <td>NaN</td>\n",
       "      <td>NaN</td>\n",
       "      <td>NaN</td>\n",
       "      <td>NaN</td>\n",
       "      <td>NaN</td>\n",
       "      <td>NaN</td>\n",
       "      <td>NaN</td>\n",
       "    </tr>\n",
       "    <tr>\n",
       "      <th>25719</th>\n",
       "      <td>NaN</td>\n",
       "      <td>NaN</td>\n",
       "      <td>NaN</td>\n",
       "      <td>NaN</td>\n",
       "      <td>NaN</td>\n",
       "      <td>NaN</td>\n",
       "      <td>NaN</td>\n",
       "      <td>NaN</td>\n",
       "      <td>NaN</td>\n",
       "      <td>NaN</td>\n",
       "      <td>...</td>\n",
       "      <td>NaN</td>\n",
       "      <td>NaN</td>\n",
       "      <td>NaN</td>\n",
       "      <td>NaN</td>\n",
       "      <td>NaN</td>\n",
       "      <td>NaN</td>\n",
       "      <td>NaN</td>\n",
       "      <td>NaN</td>\n",
       "      <td>NaN</td>\n",
       "      <td>NaN</td>\n",
       "    </tr>\n",
       "    <tr>\n",
       "      <th>25720</th>\n",
       "      <td>NaN</td>\n",
       "      <td>NaN</td>\n",
       "      <td>NaN</td>\n",
       "      <td>NaN</td>\n",
       "      <td>NaN</td>\n",
       "      <td>NaN</td>\n",
       "      <td>NaN</td>\n",
       "      <td>NaN</td>\n",
       "      <td>NaN</td>\n",
       "      <td>NaN</td>\n",
       "      <td>...</td>\n",
       "      <td>NaN</td>\n",
       "      <td>NaN</td>\n",
       "      <td>NaN</td>\n",
       "      <td>NaN</td>\n",
       "      <td>NaN</td>\n",
       "      <td>NaN</td>\n",
       "      <td>NaN</td>\n",
       "      <td>NaN</td>\n",
       "      <td>NaN</td>\n",
       "      <td>NaN</td>\n",
       "    </tr>\n",
       "    <tr>\n",
       "      <th>25721</th>\n",
       "      <td>NaN</td>\n",
       "      <td>NaN</td>\n",
       "      <td>NaN</td>\n",
       "      <td>NaN</td>\n",
       "      <td>NaN</td>\n",
       "      <td>NaN</td>\n",
       "      <td>NaN</td>\n",
       "      <td>NaN</td>\n",
       "      <td>NaN</td>\n",
       "      <td>NaN</td>\n",
       "      <td>...</td>\n",
       "      <td>NaN</td>\n",
       "      <td>NaN</td>\n",
       "      <td>NaN</td>\n",
       "      <td>NaN</td>\n",
       "      <td>NaN</td>\n",
       "      <td>NaN</td>\n",
       "      <td>NaN</td>\n",
       "      <td>NaN</td>\n",
       "      <td>NaN</td>\n",
       "      <td>NaN</td>\n",
       "    </tr>\n",
       "    <tr>\n",
       "      <th>25722</th>\n",
       "      <td>xx</td>\n",
       "      <td>NaN</td>\n",
       "      <td>NaN</td>\n",
       "      <td>NaN</td>\n",
       "      <td>NaN</td>\n",
       "      <td>NaN</td>\n",
       "      <td>NaN</td>\n",
       "      <td>NaN</td>\n",
       "      <td>NaN</td>\n",
       "      <td>NaN</td>\n",
       "      <td>...</td>\n",
       "      <td>NaN</td>\n",
       "      <td>NaN</td>\n",
       "      <td>NaN</td>\n",
       "      <td>NaN</td>\n",
       "      <td>NaN</td>\n",
       "      <td>NaN</td>\n",
       "      <td>NaN</td>\n",
       "      <td>NaN</td>\n",
       "      <td>NaN</td>\n",
       "      <td>NaN</td>\n",
       "    </tr>\n",
       "  </tbody>\n",
       "</table>\n",
       "<p>25723 rows × 24 columns</p>\n",
       "</div>"
      ],
      "text/plain": [
       "      Case Number         Date    Year        Type    Country  \\\n",
       "0      2018.06.25  25-Jun-2018  2018.0     Boating        USA   \n",
       "1      2018.06.18  18-Jun-2018  2018.0  Unprovoked        USA   \n",
       "2      2018.06.09  09-Jun-2018  2018.0     Invalid        USA   \n",
       "3      2018.06.08  08-Jun-2018  2018.0  Unprovoked  AUSTRALIA   \n",
       "4      2018.06.04  04-Jun-2018  2018.0    Provoked     MEXICO   \n",
       "...           ...          ...     ...         ...        ...   \n",
       "25718         NaN          NaN     NaN         NaN        NaN   \n",
       "25719         NaN          NaN     NaN         NaN        NaN   \n",
       "25720         NaN          NaN     NaN         NaN        NaN   \n",
       "25721         NaN          NaN     NaN         NaN        NaN   \n",
       "25722          xx          NaN     NaN         NaN        NaN   \n",
       "\n",
       "                  Area                        Location     Activity  \\\n",
       "0           California     Oceanside, San Diego County     Paddling   \n",
       "1              Georgia  St. Simon Island, Glynn County     Standing   \n",
       "2               Hawaii                    Habush, Oahu      Surfing   \n",
       "3      New South Wales              Arrawarra Headland      Surfing   \n",
       "4               Colima                        La Ticla  Free diving   \n",
       "...                ...                             ...          ...   \n",
       "25718              NaN                             NaN          NaN   \n",
       "25719              NaN                             NaN          NaN   \n",
       "25720              NaN                             NaN          NaN   \n",
       "25721              NaN                             NaN          NaN   \n",
       "25722              NaN                             NaN          NaN   \n",
       "\n",
       "                  Name Sex   ...         Species   \\\n",
       "0          Julie Wolfe    F  ...      White shark   \n",
       "1      Adyson McNeely     F  ...              NaN   \n",
       "2          John Denges    M  ...              NaN   \n",
       "3                 male    M  ...        2 m shark   \n",
       "4       Gustavo Ramos     M  ...  Tiger shark, 3m   \n",
       "...                ...  ...  ...              ...   \n",
       "25718              NaN  NaN  ...              NaN   \n",
       "25719              NaN  NaN  ...              NaN   \n",
       "25720              NaN  NaN  ...              NaN   \n",
       "25721              NaN  NaN  ...              NaN   \n",
       "25722              NaN  NaN  ...              NaN   \n",
       "\n",
       "               Investigator or Source                       pdf  \\\n",
       "0                    R. Collier, GSAF      2018.06.25-Wolfe.pdf   \n",
       "1      K.McMurray, TrackingSharks.com    2018.06.18-McNeely.pdf   \n",
       "2      K.McMurray, TrackingSharks.com     2018.06.09-Denges.pdf   \n",
       "3                      B. Myatt, GSAF  2018.06.08-Arrawarra.pdf   \n",
       "4                           A .Kipper      2018.06.04-Ramos.pdf   \n",
       "...                               ...                       ...   \n",
       "25718                             NaN                       NaN   \n",
       "25719                             NaN                       NaN   \n",
       "25720                             NaN                       NaN   \n",
       "25721                             NaN                       NaN   \n",
       "25722                             NaN                       NaN   \n",
       "\n",
       "                                            href formula  \\\n",
       "0      http://sharkattackfile.net/spreadsheets/pdf_di...   \n",
       "1      http://sharkattackfile.net/spreadsheets/pdf_di...   \n",
       "2      http://sharkattackfile.net/spreadsheets/pdf_di...   \n",
       "3      http://sharkattackfile.net/spreadsheets/pdf_di...   \n",
       "4      http://sharkattackfile.net/spreadsheets/pdf_di...   \n",
       "...                                                  ...   \n",
       "25718                                                NaN   \n",
       "25719                                                NaN   \n",
       "25720                                                NaN   \n",
       "25721                                                NaN   \n",
       "25722                                                NaN   \n",
       "\n",
       "                                                    href Case Number.1  \\\n",
       "0      http://sharkattackfile.net/spreadsheets/pdf_di...    2018.06.25   \n",
       "1      http://sharkattackfile.net/spreadsheets/pdf_di...    2018.06.18   \n",
       "2      http://sharkattackfile.net/spreadsheets/pdf_di...    2018.06.09   \n",
       "3      http://sharkattackfile.net/spreadsheets/pdf_di...    2018.06.08   \n",
       "4      http://sharkattackfile.net/spreadsheets/pdf_di...    2018.06.04   \n",
       "...                                                  ...           ...   \n",
       "25718                                                NaN           NaN   \n",
       "25719                                                NaN           NaN   \n",
       "25720                                                NaN           NaN   \n",
       "25721                                                NaN           NaN   \n",
       "25722                                                NaN           NaN   \n",
       "\n",
       "      Case Number.2 original order Unnamed: 22 Unnamed: 23  \n",
       "0        2018.06.25         6303.0         NaN         NaN  \n",
       "1        2018.06.18         6302.0         NaN         NaN  \n",
       "2        2018.06.09         6301.0         NaN         NaN  \n",
       "3        2018.06.08         6300.0         NaN         NaN  \n",
       "4        2018.06.04         6299.0         NaN         NaN  \n",
       "...             ...            ...         ...         ...  \n",
       "25718           NaN            NaN         NaN         NaN  \n",
       "25719           NaN            NaN         NaN         NaN  \n",
       "25720           NaN            NaN         NaN         NaN  \n",
       "25721           NaN            NaN         NaN         NaN  \n",
       "25722           NaN            NaN         NaN         NaN  \n",
       "\n",
       "[25723 rows x 24 columns]"
      ]
     },
     "execution_count": 4,
     "metadata": {},
     "output_type": "execute_result"
    }
   ],
   "source": [
    "df"
   ]
  },
  {
   "cell_type": "code",
   "execution_count": 5,
   "metadata": {
    "ExecuteTime": {
     "end_time": "2021-01-13T23:51:33.243572Z",
     "start_time": "2021-01-13T23:51:33.227571Z"
    },
    "cell_style": "center"
   },
   "outputs": [
    {
     "data": {
      "text/plain": [
       "(25723, 24)"
      ]
     },
     "execution_count": 5,
     "metadata": {},
     "output_type": "execute_result"
    }
   ],
   "source": [
    "df.shape"
   ]
  },
  {
   "cell_type": "code",
   "execution_count": 6,
   "metadata": {
    "ExecuteTime": {
     "end_time": "2021-01-13T23:51:33.895836Z",
     "start_time": "2021-01-13T23:51:33.879837Z"
    },
    "cell_style": "split",
    "scrolled": true
   },
   "outputs": [
    {
     "data": {
      "text/plain": [
       "Case Number        object\n",
       "Date               object\n",
       "Year              float64\n",
       "Type               object\n",
       "Country            object\n",
       "                   ...   \n",
       "Case Number.1      object\n",
       "Case Number.2      object\n",
       "original order    float64\n",
       "Unnamed: 22        object\n",
       "Unnamed: 23        object\n",
       "Length: 24, dtype: object"
      ]
     },
     "execution_count": 6,
     "metadata": {},
     "output_type": "execute_result"
    }
   ],
   "source": [
    "df.dtypes"
   ]
  },
  {
   "cell_type": "code",
   "execution_count": 7,
   "metadata": {
    "ExecuteTime": {
     "end_time": "2021-01-13T23:51:34.335836Z",
     "start_time": "2021-01-13T23:51:34.319836Z"
    },
    "cell_style": "split",
    "scrolled": true
   },
   "outputs": [
    {
     "data": {
      "text/plain": [
       "Index(['Case Number', 'Date', 'Year', 'Type', 'Country', 'Area', 'Location',\n",
       "       'Activity', 'Name', 'Sex ', 'Age', 'Injury', 'Fatal (Y/N)', 'Time',\n",
       "       'Species ', 'Investigator or Source', 'pdf', 'href formula', 'href',\n",
       "       'Case Number.1', 'Case Number.2', 'original order', 'Unnamed: 22',\n",
       "       'Unnamed: 23'],\n",
       "      dtype='object')"
      ]
     },
     "execution_count": 7,
     "metadata": {},
     "output_type": "execute_result"
    }
   ],
   "source": [
    "df.columns"
   ]
  },
  {
   "cell_type": "markdown",
   "metadata": {},
   "source": [
    "# DROP - Excluindo colunas irrelevantes ou redundantes"
   ]
  },
  {
   "cell_type": "code",
   "execution_count": 8,
   "metadata": {
    "ExecuteTime": {
     "end_time": "2021-01-13T23:51:35.026531Z",
     "start_time": "2021-01-13T23:51:35.010567Z"
    },
    "cell_style": "center"
   },
   "outputs": [
    {
     "data": {
      "text/plain": [
       "True     25722\n",
       "False        1\n",
       "Name: Unnamed: 22, dtype: int64"
      ]
     },
     "execution_count": 8,
     "metadata": {},
     "output_type": "execute_result"
    }
   ],
   "source": [
    "#testando valores nulos\n",
    "df['Unnamed: 22'].isnull().value_counts()"
   ]
  },
  {
   "cell_type": "code",
   "execution_count": 9,
   "metadata": {
    "ExecuteTime": {
     "end_time": "2021-01-13T23:51:35.315160Z",
     "start_time": "2021-01-13T23:51:35.275129Z"
    },
    "scrolled": true
   },
   "outputs": [
    {
     "data": {
      "text/plain": [
       "Case Number       17021\n",
       "Date              19421\n",
       "Year              19423\n",
       "Type              19425\n",
       "Country           19471\n",
       "                  ...  \n",
       "Case Number.1     19421\n",
       "Case Number.2     19421\n",
       "original order    19414\n",
       "Unnamed: 22       25722\n",
       "Unnamed: 23       25721\n",
       "Length: 24, dtype: int64"
      ]
     },
     "execution_count": 9,
     "metadata": {},
     "output_type": "execute_result"
    }
   ],
   "source": [
    "df.isnull().sum()"
   ]
  },
  {
   "cell_type": "code",
   "execution_count": 10,
   "metadata": {
    "ExecuteTime": {
     "end_time": "2021-01-13T23:51:35.531128Z",
     "start_time": "2021-01-13T23:51:35.507128Z"
    }
   },
   "outputs": [],
   "source": [
    "#droppando colunas desnecessárias\n",
    "df.drop(['Investigator or Source', 'pdf', 'href formula', 'href','Case Number.1', 'Case Number.2', 'original order', 'Unnamed: 22','Unnamed: 23', 'Case Number'],axis=1,inplace=True)"
   ]
  },
  {
   "cell_type": "code",
   "execution_count": 11,
   "metadata": {
    "ExecuteTime": {
     "end_time": "2021-01-13T23:51:35.731127Z",
     "start_time": "2021-01-13T23:51:35.723132Z"
    }
   },
   "outputs": [],
   "source": [
    "# GUI\n",
    "#dfnovo = df[['year','date' ... ]]"
   ]
  },
  {
   "cell_type": "code",
   "execution_count": 12,
   "metadata": {
    "ExecuteTime": {
     "end_time": "2021-01-13T23:51:35.948168Z",
     "start_time": "2021-01-13T23:51:35.932164Z"
    }
   },
   "outputs": [],
   "source": [
    "# GUI\n",
    "#df[['Year','Date']]"
   ]
  },
  {
   "cell_type": "markdown",
   "metadata": {},
   "source": [
    "# Novo DataFrame - removido as colunas:\n",
    "\n",
    "    'Investigator or Source', 'pdf', 'href formula', 'href','Case Number.1', 'Case Number.2', 'original order', 'Unnamed: 22','Unnamed: 23', 'Case Number'"
   ]
  },
  {
   "cell_type": "code",
   "execution_count": 13,
   "metadata": {
    "ExecuteTime": {
     "end_time": "2021-01-13T23:51:36.377742Z",
     "start_time": "2021-01-13T23:51:36.337741Z"
    },
    "scrolled": false
   },
   "outputs": [
    {
     "data": {
      "text/html": [
       "<div>\n",
       "<style scoped>\n",
       "    .dataframe tbody tr th:only-of-type {\n",
       "        vertical-align: middle;\n",
       "    }\n",
       "\n",
       "    .dataframe tbody tr th {\n",
       "        vertical-align: top;\n",
       "    }\n",
       "\n",
       "    .dataframe thead th {\n",
       "        text-align: right;\n",
       "    }\n",
       "</style>\n",
       "<table border=\"1\" class=\"dataframe\">\n",
       "  <thead>\n",
       "    <tr style=\"text-align: right;\">\n",
       "      <th></th>\n",
       "      <th>Date</th>\n",
       "      <th>Year</th>\n",
       "      <th>Type</th>\n",
       "      <th>Country</th>\n",
       "      <th>Area</th>\n",
       "      <th>Location</th>\n",
       "      <th>Activity</th>\n",
       "      <th>Name</th>\n",
       "      <th>Sex</th>\n",
       "      <th>Age</th>\n",
       "      <th>Injury</th>\n",
       "      <th>Fatal (Y/N)</th>\n",
       "      <th>Time</th>\n",
       "      <th>Species</th>\n",
       "    </tr>\n",
       "  </thead>\n",
       "  <tbody>\n",
       "    <tr>\n",
       "      <th>0</th>\n",
       "      <td>25-Jun-2018</td>\n",
       "      <td>2018.0</td>\n",
       "      <td>Boating</td>\n",
       "      <td>USA</td>\n",
       "      <td>California</td>\n",
       "      <td>Oceanside, San Diego County</td>\n",
       "      <td>Paddling</td>\n",
       "      <td>Julie Wolfe</td>\n",
       "      <td>F</td>\n",
       "      <td>57</td>\n",
       "      <td>No injury to occupant, outrigger canoe and pad...</td>\n",
       "      <td>N</td>\n",
       "      <td>18h00</td>\n",
       "      <td>White shark</td>\n",
       "    </tr>\n",
       "    <tr>\n",
       "      <th>1</th>\n",
       "      <td>18-Jun-2018</td>\n",
       "      <td>2018.0</td>\n",
       "      <td>Unprovoked</td>\n",
       "      <td>USA</td>\n",
       "      <td>Georgia</td>\n",
       "      <td>St. Simon Island, Glynn County</td>\n",
       "      <td>Standing</td>\n",
       "      <td>Adyson McNeely</td>\n",
       "      <td>F</td>\n",
       "      <td>11</td>\n",
       "      <td>Minor injury to left thigh</td>\n",
       "      <td>N</td>\n",
       "      <td>14h00  -15h00</td>\n",
       "      <td>NaN</td>\n",
       "    </tr>\n",
       "    <tr>\n",
       "      <th>2</th>\n",
       "      <td>09-Jun-2018</td>\n",
       "      <td>2018.0</td>\n",
       "      <td>Invalid</td>\n",
       "      <td>USA</td>\n",
       "      <td>Hawaii</td>\n",
       "      <td>Habush, Oahu</td>\n",
       "      <td>Surfing</td>\n",
       "      <td>John Denges</td>\n",
       "      <td>M</td>\n",
       "      <td>48</td>\n",
       "      <td>Injury to left lower leg from surfboard skeg</td>\n",
       "      <td>N</td>\n",
       "      <td>07h45</td>\n",
       "      <td>NaN</td>\n",
       "    </tr>\n",
       "  </tbody>\n",
       "</table>\n",
       "</div>"
      ],
      "text/plain": [
       "          Date    Year        Type Country        Area  \\\n",
       "0  25-Jun-2018  2018.0     Boating     USA  California   \n",
       "1  18-Jun-2018  2018.0  Unprovoked     USA     Georgia   \n",
       "2  09-Jun-2018  2018.0     Invalid     USA      Hawaii   \n",
       "\n",
       "                         Location  Activity             Name Sex  Age  \\\n",
       "0     Oceanside, San Diego County  Paddling      Julie Wolfe    F  57   \n",
       "1  St. Simon Island, Glynn County  Standing  Adyson McNeely     F  11   \n",
       "2                    Habush, Oahu   Surfing      John Denges    M  48   \n",
       "\n",
       "                                              Injury Fatal (Y/N)  \\\n",
       "0  No injury to occupant, outrigger canoe and pad...           N   \n",
       "1                         Minor injury to left thigh           N   \n",
       "2       Injury to left lower leg from surfboard skeg           N   \n",
       "\n",
       "            Time     Species   \n",
       "0          18h00  White shark  \n",
       "1  14h00  -15h00          NaN  \n",
       "2          07h45          NaN  "
      ]
     },
     "execution_count": 13,
     "metadata": {},
     "output_type": "execute_result"
    }
   ],
   "source": [
    "df.head(3)"
   ]
  },
  {
   "cell_type": "code",
   "execution_count": 14,
   "metadata": {
    "ExecuteTime": {
     "end_time": "2021-01-13T23:51:36.585701Z",
     "start_time": "2021-01-13T23:51:36.561744Z"
    },
    "scrolled": false
   },
   "outputs": [
    {
     "data": {
      "text/plain": [
       "Index(['Date', 'Year', 'Type', 'Country', 'Area', 'Location', 'Activity',\n",
       "       'Name', 'Sex ', 'Age', 'Injury', 'Fatal (Y/N)', 'Time', 'Species '],\n",
       "      dtype='object')"
      ]
     },
     "execution_count": 14,
     "metadata": {},
     "output_type": "execute_result"
    }
   ],
   "source": [
    "df.columns"
   ]
  },
  {
   "cell_type": "code",
   "execution_count": 15,
   "metadata": {
    "ExecuteTime": {
     "end_time": "2021-01-13T23:51:36.769732Z",
     "start_time": "2021-01-13T23:51:36.761702Z"
    }
   },
   "outputs": [],
   "source": [
    "#padronizando nomes das colunas em letras minúsculas e sem espaços\n",
    "colnames = []\n",
    "for col in df.columns:\n",
    "    colnames.append(col.lower())"
   ]
  },
  {
   "cell_type": "code",
   "execution_count": 16,
   "metadata": {
    "ExecuteTime": {
     "end_time": "2021-01-13T23:51:36.977701Z",
     "start_time": "2021-01-13T23:51:36.969704Z"
    }
   },
   "outputs": [],
   "source": [
    "df.columns = [col.lower().replace(' ','') for col in df.columns]"
   ]
  },
  {
   "cell_type": "code",
   "execution_count": 17,
   "metadata": {
    "ExecuteTime": {
     "end_time": "2021-01-13T23:51:37.177734Z",
     "start_time": "2021-01-13T23:51:37.161743Z"
    }
   },
   "outputs": [],
   "source": [
    "#alterando de SEX para GENDER\n",
    "df.rename(columns = {'sex':'gender','fatal(y/n)':'fatality'}, inplace = True)\n",
    "#df.rename(columns = {'fatal(y/n)':'fatality'}, inplace = True)"
   ]
  },
  {
   "cell_type": "markdown",
   "metadata": {},
   "source": [
    "# Removendo as linhas em que todas as colunas são nulas --- NaN"
   ]
  },
  {
   "cell_type": "code",
   "execution_count": 18,
   "metadata": {
    "ExecuteTime": {
     "end_time": "2021-01-13T23:51:37.645896Z",
     "start_time": "2021-01-13T23:51:37.573855Z"
    }
   },
   "outputs": [],
   "source": [
    "#removendo as linhas em que todas as colunas são nulas --- NaN\n",
    "df.dropna(how='all', inplace=True)"
   ]
  },
  {
   "cell_type": "code",
   "execution_count": 19,
   "metadata": {
    "ExecuteTime": {
     "end_time": "2021-01-13T23:51:37.789883Z",
     "start_time": "2021-01-13T23:51:37.773855Z"
    }
   },
   "outputs": [
    {
     "data": {
      "text/plain": [
       "(6302, 14)"
      ]
     },
     "execution_count": 19,
     "metadata": {},
     "output_type": "execute_result"
    }
   ],
   "source": [
    "df.shape"
   ]
  },
  {
   "cell_type": "code",
   "execution_count": 20,
   "metadata": {
    "ExecuteTime": {
     "end_time": "2021-01-13T23:51:37.997894Z",
     "start_time": "2021-01-13T23:51:37.965895Z"
    }
   },
   "outputs": [
    {
     "name": "stdout",
     "output_type": "stream",
     "text": [
      "date         0.000000\n",
      "year         0.031736\n",
      "type         0.063472\n",
      "country      0.793399\n",
      "area         7.219930\n",
      "              ...    \n",
      "age         44.922247\n",
      "injury       0.444303\n",
      "fatality     8.552840\n",
      "time        53.221200\n",
      "species     45.033323\n",
      "Length: 14, dtype: float64\n"
     ]
    }
   ],
   "source": [
    "faltantes = (df.isnull().sum() / (len(df['date'])))*100\n",
    "print(faltantes)"
   ]
  },
  {
   "cell_type": "markdown",
   "metadata": {},
   "source": [
    "# Verificando valores de cada coluna"
   ]
  },
  {
   "cell_type": "code",
   "execution_count": 21,
   "metadata": {
    "ExecuteTime": {
     "end_time": "2021-01-13T23:51:38.381853Z",
     "start_time": "2021-01-13T23:51:38.365854Z"
    },
    "cell_style": "split"
   },
   "outputs": [
    {
     "data": {
      "text/plain": [
       "False    6302\n",
       "Name: date, dtype: int64"
      ]
     },
     "execution_count": 21,
     "metadata": {},
     "output_type": "execute_result"
    }
   ],
   "source": [
    "#100% dos casos possuem datas\n",
    "df['date'].isnull().value_counts()"
   ]
  },
  {
   "cell_type": "code",
   "execution_count": 22,
   "metadata": {
    "ExecuteTime": {
     "end_time": "2021-01-13T23:51:38.788522Z",
     "start_time": "2021-01-13T23:51:38.772521Z"
    },
    "cell_style": "split"
   },
   "outputs": [
    {
     "data": {
      "text/plain": [
       "False    6300\n",
       "True        2\n",
       "Name: year, dtype: int64"
      ]
     },
     "execution_count": 22,
     "metadata": {},
     "output_type": "execute_result"
    }
   ],
   "source": [
    "#não há informação de ano para 2 casos\n",
    "df['year'].isnull().value_counts()"
   ]
  },
  {
   "cell_type": "code",
   "execution_count": 23,
   "metadata": {
    "ExecuteTime": {
     "end_time": "2021-01-13T23:51:39.004483Z",
     "start_time": "2021-01-13T23:51:38.988523Z"
    },
    "cell_style": "split"
   },
   "outputs": [
    {
     "data": {
      "text/plain": [
       "False    6298\n",
       "True        4\n",
       "Name: type, dtype: int64"
      ]
     },
     "execution_count": 23,
     "metadata": {},
     "output_type": "execute_result"
    }
   ],
   "source": [
    "#não há informação de tipo para 4 casos\n",
    "df['type'].isnull().value_counts()"
   ]
  },
  {
   "cell_type": "code",
   "execution_count": 24,
   "metadata": {
    "ExecuteTime": {
     "end_time": "2021-01-13T23:51:39.212484Z",
     "start_time": "2021-01-13T23:51:39.196481Z"
    },
    "cell_style": "split"
   },
   "outputs": [
    {
     "data": {
      "text/plain": [
       "False    6252\n",
       "True       50\n",
       "Name: country, dtype: int64"
      ]
     },
     "execution_count": 24,
     "metadata": {},
     "output_type": "execute_result"
    }
   ],
   "source": [
    "#não há informação de país para 50 casos\n",
    "df['country'].isnull().value_counts()"
   ]
  },
  {
   "cell_type": "code",
   "execution_count": 25,
   "metadata": {
    "ExecuteTime": {
     "end_time": "2021-01-13T23:51:39.420479Z",
     "start_time": "2021-01-13T23:51:39.404482Z"
    },
    "cell_style": "split"
   },
   "outputs": [
    {
     "data": {
      "text/plain": [
       "False    5847\n",
       "True      455\n",
       "Name: area, dtype: int64"
      ]
     },
     "execution_count": 25,
     "metadata": {},
     "output_type": "execute_result"
    }
   ],
   "source": [
    "#não há informação de area para 455 casos\n",
    "df['area'].isnull().value_counts()"
   ]
  },
  {
   "cell_type": "code",
   "execution_count": 26,
   "metadata": {
    "ExecuteTime": {
     "end_time": "2021-01-13T23:51:39.636525Z",
     "start_time": "2021-01-13T23:51:39.612523Z"
    },
    "cell_style": "split"
   },
   "outputs": [
    {
     "data": {
      "text/plain": [
       "False    5762\n",
       "True      540\n",
       "Name: location, dtype: int64"
      ]
     },
     "execution_count": 26,
     "metadata": {},
     "output_type": "execute_result"
    }
   ],
   "source": [
    "#não há informação de localização para 540 casos\n",
    "df['location'].isnull().value_counts()"
   ]
  },
  {
   "cell_type": "code",
   "execution_count": 27,
   "metadata": {
    "ExecuteTime": {
     "end_time": "2021-01-13T23:51:39.844525Z",
     "start_time": "2021-01-13T23:51:39.820512Z"
    },
    "cell_style": "split"
   },
   "outputs": [
    {
     "data": {
      "text/plain": [
       "False    5758\n",
       "True      544\n",
       "Name: activity, dtype: int64"
      ]
     },
     "execution_count": 27,
     "metadata": {},
     "output_type": "execute_result"
    }
   ],
   "source": [
    "#não há informação de atividade para 544 casos\n",
    "df['activity'].isnull().value_counts()"
   ]
  },
  {
   "cell_type": "code",
   "execution_count": 28,
   "metadata": {
    "ExecuteTime": {
     "end_time": "2021-01-13T23:51:40.068483Z",
     "start_time": "2021-01-13T23:51:40.044481Z"
    },
    "cell_style": "split"
   },
   "outputs": [
    {
     "data": {
      "text/plain": [
       "False    6092\n",
       "True      210\n",
       "Name: name, dtype: int64"
      ]
     },
     "execution_count": 28,
     "metadata": {},
     "output_type": "execute_result"
    }
   ],
   "source": [
    "#não há informação de nome pessoa para 210 casos\n",
    "df['name'].isnull().value_counts()"
   ]
  },
  {
   "cell_type": "code",
   "execution_count": 29,
   "metadata": {
    "ExecuteTime": {
     "end_time": "2021-01-13T23:51:40.260483Z",
     "start_time": "2021-01-13T23:51:40.236482Z"
    },
    "cell_style": "split"
   },
   "outputs": [
    {
     "data": {
      "text/plain": [
       "False    5737\n",
       "True      565\n",
       "Name: gender, dtype: int64"
      ]
     },
     "execution_count": 29,
     "metadata": {},
     "output_type": "execute_result"
    }
   ],
   "source": [
    "#não há informação de gênero para 565 casos\n",
    "df['gender'].isnull().value_counts()"
   ]
  },
  {
   "cell_type": "code",
   "execution_count": 30,
   "metadata": {
    "ExecuteTime": {
     "end_time": "2021-01-13T23:51:40.476484Z",
     "start_time": "2021-01-13T23:51:40.460481Z"
    },
    "cell_style": "split",
    "scrolled": true
   },
   "outputs": [
    {
     "data": {
      "text/plain": [
       "False    3471\n",
       "True     2831\n",
       "Name: age, dtype: int64"
      ]
     },
     "execution_count": 30,
     "metadata": {},
     "output_type": "execute_result"
    }
   ],
   "source": [
    "#não há informação de idade para 2831 casos\n",
    "df['age'].isnull().value_counts()"
   ]
  },
  {
   "cell_type": "code",
   "execution_count": 31,
   "metadata": {
    "ExecuteTime": {
     "end_time": "2021-01-13T23:51:40.684480Z",
     "start_time": "2021-01-13T23:51:40.668481Z"
    },
    "cell_style": "split"
   },
   "outputs": [
    {
     "data": {
      "text/plain": [
       "False    6274\n",
       "True       28\n",
       "Name: injury, dtype: int64"
      ]
     },
     "execution_count": 31,
     "metadata": {},
     "output_type": "execute_result"
    }
   ],
   "source": [
    "#não há informação de dano para 28 casos\n",
    "df['injury'].isnull().value_counts()"
   ]
  },
  {
   "cell_type": "code",
   "execution_count": 32,
   "metadata": {
    "ExecuteTime": {
     "end_time": "2021-01-13T23:51:40.888456Z",
     "start_time": "2021-01-13T23:51:40.872418Z"
    },
    "cell_style": "split"
   },
   "outputs": [
    {
     "data": {
      "text/plain": [
       "False    5763\n",
       "True      539\n",
       "Name: fatality, dtype: int64"
      ]
     },
     "execution_count": 32,
     "metadata": {},
     "output_type": "execute_result"
    }
   ],
   "source": [
    "#não há informação sobre fatalidade para 539 casos\n",
    "df['fatality'].isnull().value_counts()"
   ]
  },
  {
   "cell_type": "code",
   "execution_count": 33,
   "metadata": {
    "ExecuteTime": {
     "end_time": "2021-01-13T23:51:41.104460Z",
     "start_time": "2021-01-13T23:51:41.088417Z"
    },
    "cell_style": "split"
   },
   "outputs": [
    {
     "data": {
      "text/plain": [
       "True     3354\n",
       "False    2948\n",
       "Name: time, dtype: int64"
      ]
     },
     "execution_count": 33,
     "metadata": {},
     "output_type": "execute_result"
    }
   ],
   "source": [
    "#não há informação de hora para 2948 casos\n",
    "df['time'].isnull().value_counts()"
   ]
  },
  {
   "cell_type": "code",
   "execution_count": 34,
   "metadata": {
    "ExecuteTime": {
     "end_time": "2021-01-13T23:51:41.312415Z",
     "start_time": "2021-01-13T23:51:41.296422Z"
    },
    "cell_style": "split"
   },
   "outputs": [
    {
     "data": {
      "text/plain": [
       "False    3464\n",
       "True     2838\n",
       "Name: species, dtype: int64"
      ]
     },
     "execution_count": 34,
     "metadata": {},
     "output_type": "execute_result"
    }
   ],
   "source": [
    "#não há informação de espécie do tubarão para 2838 casos\n",
    "df['species'].isnull().value_counts()"
   ]
  },
  {
   "cell_type": "code",
   "execution_count": 35,
   "metadata": {
    "ExecuteTime": {
     "end_time": "2021-01-13T23:51:41.520420Z",
     "start_time": "2021-01-13T23:51:41.496419Z"
    },
    "cell_style": "split"
   },
   "outputs": [
    {
     "data": {
      "text/plain": [
       "1957           11\n",
       "1942            9\n",
       "1956            8\n",
       "1958            7\n",
       "1941            7\n",
       "               ..\n",
       "23-Nov-1999     1\n",
       "15-Dec-1892     1\n",
       "30-Oct-2009     1\n",
       "01-Aug-1961     1\n",
       "31-May-1944     1\n",
       "Name: date, Length: 5433, dtype: int64"
      ]
     },
     "execution_count": 35,
     "metadata": {},
     "output_type": "execute_result"
    }
   ],
   "source": [
    "df['date'].value_counts()"
   ]
  },
  {
   "cell_type": "code",
   "execution_count": 36,
   "metadata": {
    "ExecuteTime": {
     "end_time": "2021-01-13T23:51:41.712451Z",
     "start_time": "2021-01-13T23:51:41.696445Z"
    },
    "cell_style": "split"
   },
   "outputs": [
    {
     "data": {
      "text/plain": [
       "2015.0    143\n",
       "2017.0    136\n",
       "2016.0    130\n",
       "2011.0    128\n",
       "2014.0    127\n",
       "         ... \n",
       "1801.0      1\n",
       "1638.0      1\n",
       "1834.0      1\n",
       "1723.0      1\n",
       "1786.0      1\n",
       "Name: year, Length: 249, dtype: int64"
      ]
     },
     "execution_count": 36,
     "metadata": {},
     "output_type": "execute_result"
    }
   ],
   "source": [
    "df['year'].value_counts()"
   ]
  },
  {
   "cell_type": "code",
   "execution_count": 37,
   "metadata": {
    "ExecuteTime": {
     "end_time": "2021-01-13T23:51:41.920415Z",
     "start_time": "2021-01-13T23:51:41.904415Z"
    },
    "cell_style": "split"
   },
   "outputs": [
    {
     "data": {
      "text/plain": [
       "Unprovoked      4595\n",
       "Provoked         574\n",
       "Invalid          547\n",
       "Sea Disaster     239\n",
       "Boating          203\n",
       "Boat             137\n",
       "Questionable       2\n",
       "Boatomg            1\n",
       "Name: type, dtype: int64"
      ]
     },
     "execution_count": 37,
     "metadata": {},
     "output_type": "execute_result"
    }
   ],
   "source": [
    "df['type'].value_counts()"
   ]
  },
  {
   "cell_type": "code",
   "execution_count": 38,
   "metadata": {
    "ExecuteTime": {
     "end_time": "2021-01-13T23:51:42.128418Z",
     "start_time": "2021-01-13T23:51:42.112418Z"
    },
    "cell_style": "split",
    "scrolled": true
   },
   "outputs": [
    {
     "data": {
      "text/plain": [
       "USA                     2229\n",
       "AUSTRALIA               1338\n",
       "SOUTH AFRICA             579\n",
       "PAPUA NEW GUINEA         134\n",
       "NEW ZEALAND              128\n",
       "                        ... \n",
       "BANGLADESH                 1\n",
       "ANDAMAN ISLANDS            1\n",
       "NETHERLANDS ANTILLES       1\n",
       "ALGERIA                    1\n",
       "COOK ISLANDS               1\n",
       "Name: country, Length: 212, dtype: int64"
      ]
     },
     "execution_count": 38,
     "metadata": {},
     "output_type": "execute_result"
    }
   ],
   "source": [
    "df['country'].value_counts()"
   ]
  },
  {
   "cell_type": "code",
   "execution_count": 39,
   "metadata": {
    "ExecuteTime": {
     "end_time": "2021-01-13T23:51:42.344417Z",
     "start_time": "2021-01-13T23:51:42.328422Z"
    },
    "cell_style": "split"
   },
   "outputs": [
    {
     "data": {
      "text/plain": [
       "Florida              1037\n",
       "New South Wales       486\n",
       "Queensland            311\n",
       "Hawaii                298\n",
       "California            290\n",
       "                     ... \n",
       "Southern District       1\n",
       "Bay of Maputu           1\n",
       "Socotra Islands         1\n",
       "Ancona Province         1\n",
       "Masbate                 1\n",
       "Name: area, Length: 825, dtype: int64"
      ]
     },
     "execution_count": 39,
     "metadata": {},
     "output_type": "execute_result"
    }
   ],
   "source": [
    "df['area'].value_counts()"
   ]
  },
  {
   "cell_type": "code",
   "execution_count": 40,
   "metadata": {
    "ExecuteTime": {
     "end_time": "2021-01-13T23:51:42.552415Z",
     "start_time": "2021-01-13T23:51:42.536458Z"
    },
    "cell_style": "split"
   },
   "outputs": [
    {
     "data": {
      "text/plain": [
       "New Smyrna Beach, Volusia County        163\n",
       "Daytona Beach, Volusia County            30\n",
       "Ponce Inlet, Volusia County              20\n",
       "Melbourne Beach, Brevard County          18\n",
       "Myrtle Beach, Horry County               17\n",
       "                                       ... \n",
       "Xefina Island, Bay of Maputo              1\n",
       "Qolera River                              1\n",
       "Atol das Rochas                           1\n",
       "Near Croker Island                        1\n",
       "Basalt Island, 9km from Silverstrand      1\n",
       "Name: location, Length: 4108, dtype: int64"
      ]
     },
     "execution_count": 40,
     "metadata": {},
     "output_type": "execute_result"
    }
   ],
   "source": [
    "df['location'].value_counts()"
   ]
  },
  {
   "cell_type": "code",
   "execution_count": 41,
   "metadata": {
    "ExecuteTime": {
     "end_time": "2021-01-13T23:51:42.768460Z",
     "start_time": "2021-01-13T23:51:42.752424Z"
    },
    "cell_style": "split"
   },
   "outputs": [
    {
     "data": {
      "text/plain": [
       "Surfing                                                                               971\n",
       "Swimming                                                                              869\n",
       "Fishing                                                                               431\n",
       "Spearfishing                                                                          333\n",
       "Bathing                                                                               162\n",
       "                                                                                     ... \n",
       "Wreck of the Sovereign                                                                  1\n",
       "Commercial Salvage Diving                                                               1\n",
       "Lashing logs together when he fell into the water                                       1\n",
       "The 3540-ton Alfonso Penna was torpedoed & sunk by the Italian submarine Barbarigo      1\n",
       "Unknown, but it was said to be the \"First known attack in Sydney Harbour\"               1\n",
       "Name: activity, Length: 1532, dtype: int64"
      ]
     },
     "execution_count": 41,
     "metadata": {},
     "output_type": "execute_result"
    }
   ],
   "source": [
    "df['activity'].value_counts()"
   ]
  },
  {
   "cell_type": "code",
   "execution_count": 42,
   "metadata": {
    "ExecuteTime": {
     "end_time": "2021-01-13T23:51:42.968415Z",
     "start_time": "2021-01-13T23:51:42.952419Z"
    },
    "cell_style": "split"
   },
   "outputs": [
    {
     "data": {
      "text/plain": [
       "M      5094\n",
       "F       637\n",
       "N         2\n",
       "M         2\n",
       ".         1\n",
       "lli       1\n",
       "Name: gender, dtype: int64"
      ]
     },
     "execution_count": 42,
     "metadata": {},
     "output_type": "execute_result"
    }
   ],
   "source": [
    "df['gender'].value_counts()"
   ]
  },
  {
   "cell_type": "code",
   "execution_count": 43,
   "metadata": {
    "ExecuteTime": {
     "end_time": "2021-01-13T23:51:43.160415Z",
     "start_time": "2021-01-13T23:51:43.152416Z"
    },
    "cell_style": "split"
   },
   "outputs": [
    {
     "data": {
      "text/plain": [
       "17                         154\n",
       "18                         150\n",
       "19                         142\n",
       "20                         141\n",
       "15                         139\n",
       "                          ... \n",
       "37, 67, 35, 27,  ? & 27      1\n",
       "25 or 28                     1\n",
       "7      &    31               1\n",
       "67                           1\n",
       "X                            1\n",
       "Name: age, Length: 157, dtype: int64"
      ]
     },
     "execution_count": 43,
     "metadata": {},
     "output_type": "execute_result"
    }
   ],
   "source": [
    "df['age'].value_counts()"
   ]
  },
  {
   "cell_type": "code",
   "execution_count": 44,
   "metadata": {
    "ExecuteTime": {
     "end_time": "2021-01-13T23:51:43.368415Z",
     "start_time": "2021-01-13T23:51:43.352419Z"
    },
    "cell_style": "split"
   },
   "outputs": [
    {
     "data": {
      "text/plain": [
       "FATAL                                                                             802\n",
       "Survived                                                                           97\n",
       "Foot bitten                                                                        87\n",
       "No injury                                                                          82\n",
       "Leg bitten                                                                         72\n",
       "                                                                                 ... \n",
       "2 people out of +70 survived, one of whom was bitten by sharks                      1\n",
       "Both hands bitten while helping companion land speared shark PROVOKED INCIDENT      1\n",
       "Multiple injuries, left leg surgically amputated at knee                            1\n",
       "4\" cut on left foot                                                                 1\n",
       "Right elbow bitten                                                                  1\n",
       "Name: injury, Length: 3737, dtype: int64"
      ]
     },
     "execution_count": 44,
     "metadata": {},
     "output_type": "execute_result"
    }
   ],
   "source": [
    "df['injury'].value_counts()"
   ]
  },
  {
   "cell_type": "code",
   "execution_count": 45,
   "metadata": {
    "ExecuteTime": {
     "end_time": "2021-01-13T23:51:43.576414Z",
     "start_time": "2021-01-13T23:51:43.560449Z"
    },
    "cell_style": "split"
   },
   "outputs": [
    {
     "data": {
      "text/plain": [
       "N          4293\n",
       "Y          1388\n",
       "UNKNOWN      71\n",
       " N            7\n",
       "M             1\n",
       "2017          1\n",
       "y             1\n",
       "N             1\n",
       "Name: fatality, dtype: int64"
      ]
     },
     "execution_count": 45,
     "metadata": {},
     "output_type": "execute_result"
    }
   ],
   "source": [
    "df['fatality'].value_counts()"
   ]
  },
  {
   "cell_type": "code",
   "execution_count": 46,
   "metadata": {
    "ExecuteTime": {
     "end_time": "2021-01-13T23:51:43.799082Z",
     "start_time": "2021-01-13T23:51:43.780897Z"
    },
    "cell_style": "split"
   },
   "outputs": [
    {
     "data": {
      "text/plain": [
       "Afternoon      187\n",
       "11h00          128\n",
       "Morning        121\n",
       "12h00          109\n",
       "15h00          108\n",
       "              ... \n",
       "After dusk       1\n",
       ">08h00           1\n",
       "19h00-20h00      1\n",
       "15h00j           1\n",
       "08h55            1\n",
       "Name: time, Length: 366, dtype: int64"
      ]
     },
     "execution_count": 46,
     "metadata": {},
     "output_type": "execute_result"
    }
   ],
   "source": [
    "df['time'].value_counts()"
   ]
  },
  {
   "cell_type": "code",
   "execution_count": 47,
   "metadata": {
    "ExecuteTime": {
     "end_time": "2021-01-13T23:51:43.996930Z",
     "start_time": "2021-01-13T23:51:43.982916Z"
    },
    "cell_style": "split",
    "scrolled": true
   },
   "outputs": [
    {
     "data": {
      "text/plain": [
       "White shark                                                                                                                                      163\n",
       "Shark involvement prior to death was not confirmed                                                                                               105\n",
       "Invalid                                                                                                                                          102\n",
       "Shark involvement not confirmed                                                                                                                   88\n",
       "Tiger shark                                                                                                                                       73\n",
       "                                                                                                                                                ... \n",
       "Raggedtooth shark, 2 m [6'9\"]                                                                                                                      1\n",
       "\"Blue nose shark\"                                                                                                                                  1\n",
       "Grey reef shark, 1.8 m [6'] grey reef shark, identified by Dr. L.P. L. Schultz based on photographs; identified as C. melanopterus by Stewart      1\n",
       "White shark, 3m                                                                                                                                    1\n",
       "Tiger shark, 2.5 m [8.25']                                                                                                                         1\n",
       "Name: species, Length: 1549, dtype: int64"
      ]
     },
     "execution_count": 47,
     "metadata": {},
     "output_type": "execute_result"
    }
   ],
   "source": [
    "df['species'].value_counts()"
   ]
  },
  {
   "cell_type": "code",
   "execution_count": null,
   "metadata": {},
   "outputs": [],
   "source": []
  },
  {
   "cell_type": "markdown",
   "metadata": {},
   "source": [
    "# Atribuindo valores para nulos em cada coluna"
   ]
  },
  {
   "cell_type": "code",
   "execution_count": 48,
   "metadata": {
    "ExecuteTime": {
     "end_time": "2021-01-13T23:51:44.611848Z",
     "start_time": "2021-01-13T23:51:44.594046Z"
    },
    "cell_style": "split",
    "scrolled": false
   },
   "outputs": [
    {
     "data": {
      "text/plain": [
       "date        False\n",
       "year         True\n",
       "type         True\n",
       "country      True\n",
       "area         True\n",
       "            ...  \n",
       "age          True\n",
       "injury       True\n",
       "fatality     True\n",
       "time         True\n",
       "species      True\n",
       "Length: 14, dtype: bool"
      ]
     },
     "execution_count": 48,
     "metadata": {},
     "output_type": "execute_result"
    }
   ],
   "source": [
    "#teste 1: todas as colunas possuem valores nulos\n",
    "df.isnull().any()"
   ]
  },
  {
   "cell_type": "code",
   "execution_count": 49,
   "metadata": {
    "ExecuteTime": {
     "end_time": "2021-01-13T23:51:44.815118Z",
     "start_time": "2021-01-13T23:51:44.797340Z"
    },
    "cell_style": "split"
   },
   "outputs": [
    {
     "data": {
      "text/plain": [
       "date         True\n",
       "year        False\n",
       "type        False\n",
       "country     False\n",
       "area        False\n",
       "            ...  \n",
       "age         False\n",
       "injury      False\n",
       "fatality    False\n",
       "time        False\n",
       "species     False\n",
       "Length: 14, dtype: bool"
      ]
     },
     "execution_count": 49,
     "metadata": {},
     "output_type": "execute_result"
    }
   ],
   "source": [
    "#teste 1: todas as colunas possuem valores em branco\n",
    "df.notnull().all()"
   ]
  },
  {
   "cell_type": "code",
   "execution_count": 50,
   "metadata": {
    "ExecuteTime": {
     "end_time": "2021-01-13T23:51:45.031059Z",
     "start_time": "2021-01-13T23:51:45.006035Z"
    }
   },
   "outputs": [],
   "source": [
    "#Atribuindo string 'UNKNOWN' para todas as células sem valores\n",
    "df['date'].fillna('Unknown', inplace = True)\n",
    "df['year'].fillna('Unknown', inplace = True)\n",
    "df['type'].fillna('Unknown', inplace = True)\n",
    "df['country'].fillna('Unknown', inplace = True)\n",
    "df['area'].fillna('Unknown', inplace = True)\n",
    "df['location'].fillna('Unknown', inplace = True)\n",
    "df['activity'].fillna('Unknown', inplace = True)\n",
    "df['name'].fillna('Unknown', inplace = True)\n",
    "df['gender'].fillna('Unknown', inplace = True)\n",
    "df['age'].fillna('Unknown', inplace = True)\n",
    "df['injury'].fillna('Unknown', inplace = True)\n",
    "df['fatality'].fillna('Unknown', inplace = True)\n",
    "df['time'].fillna('Unknown', inplace = True)\n",
    "df['species'].fillna('Unknown', inplace = True)\n"
   ]
  },
  {
   "cell_type": "markdown",
   "metadata": {},
   "source": [
    "# Tratando dados individualmente em cada coluna"
   ]
  },
  {
   "cell_type": "markdown",
   "metadata": {},
   "source": [
    "   ## COLUNA GENDER"
   ]
  },
  {
   "cell_type": "code",
   "execution_count": 51,
   "metadata": {
    "ExecuteTime": {
     "end_time": "2021-01-13T23:51:45.636283Z",
     "start_time": "2021-01-13T23:51:45.616680Z"
    }
   },
   "outputs": [
    {
     "data": {
      "text/plain": [
       "array(['F', 'M', 'Unknown', 'M ', 'lli', 'N', '.'], dtype=object)"
      ]
     },
     "execution_count": 51,
     "metadata": {},
     "output_type": "execute_result"
    }
   ],
   "source": [
    "df.gender.unique()"
   ]
  },
  {
   "cell_type": "code",
   "execution_count": 52,
   "metadata": {
    "ExecuteTime": {
     "end_time": "2021-01-13T23:51:45.833143Z",
     "start_time": "2021-01-13T23:51:45.823584Z"
    }
   },
   "outputs": [],
   "source": [
    "df['gender'].replace(['lli','N', '.'], 'Unknown', inplace = True)\n",
    "df['gender'].replace(['M '], 'M', inplace = True)"
   ]
  },
  {
   "cell_type": "code",
   "execution_count": 53,
   "metadata": {
    "ExecuteTime": {
     "end_time": "2021-01-13T23:51:46.045343Z",
     "start_time": "2021-01-13T23:51:46.038489Z"
    }
   },
   "outputs": [
    {
     "data": {
      "text/plain": [
       "array(['F', 'M', 'Unknown'], dtype=object)"
      ]
     },
     "execution_count": 53,
     "metadata": {},
     "output_type": "execute_result"
    }
   ],
   "source": [
    "df.gender.unique()"
   ]
  },
  {
   "cell_type": "markdown",
   "metadata": {},
   "source": [
    "## COLUNA FATALITY"
   ]
  },
  {
   "cell_type": "code",
   "execution_count": 54,
   "metadata": {
    "ExecuteTime": {
     "end_time": "2021-01-13T23:51:46.460340Z",
     "start_time": "2021-01-13T23:51:46.443749Z"
    }
   },
   "outputs": [
    {
     "data": {
      "text/plain": [
       "array(['N', 'Y', 'Unknown', 'M', 'UNKNOWN', '2017', ' N', 'N ', 'y'],\n",
       "      dtype=object)"
      ]
     },
     "execution_count": 54,
     "metadata": {},
     "output_type": "execute_result"
    }
   ],
   "source": [
    "df.fatality.unique()"
   ]
  },
  {
   "cell_type": "code",
   "execution_count": 55,
   "metadata": {
    "ExecuteTime": {
     "end_time": "2021-01-13T23:51:46.685933Z",
     "start_time": "2021-01-13T23:51:46.662656Z"
    }
   },
   "outputs": [],
   "source": [
    "df['fatality'].replace(['M',' N', 'N ','N'], 'NO', inplace = True)\n",
    "df['fatality'].replace(['2017','UNKNOWN'], 'Unknown', inplace = True)\n",
    "df['fatality'].replace(['y', 'Y'], 'YES', inplace = True)"
   ]
  },
  {
   "cell_type": "code",
   "execution_count": 56,
   "metadata": {
    "ExecuteTime": {
     "end_time": "2021-01-13T23:51:46.949564Z",
     "start_time": "2021-01-13T23:51:46.942215Z"
    }
   },
   "outputs": [
    {
     "data": {
      "text/plain": [
       "array(['NO', 'YES', 'Unknown'], dtype=object)"
      ]
     },
     "execution_count": 56,
     "metadata": {},
     "output_type": "execute_result"
    }
   ],
   "source": [
    "df.fatality.unique()"
   ]
  },
  {
   "cell_type": "markdown",
   "metadata": {},
   "source": [
    "## COLUNA TYPE"
   ]
  },
  {
   "cell_type": "code",
   "execution_count": 57,
   "metadata": {
    "ExecuteTime": {
     "end_time": "2021-01-13T23:51:47.982784Z",
     "start_time": "2021-01-13T23:51:47.973528Z"
    },
    "scrolled": true
   },
   "outputs": [
    {
     "data": {
      "text/plain": [
       "array(['Boating', 'Unprovoked', 'Invalid', 'Provoked', 'Questionable',\n",
       "       'Sea Disaster', 'Unknown', 'Boat', 'Boatomg'], dtype=object)"
      ]
     },
     "execution_count": 57,
     "metadata": {},
     "output_type": "execute_result"
    }
   ],
   "source": [
    "df['type'].unique()"
   ]
  },
  {
   "cell_type": "code",
   "execution_count": 58,
   "metadata": {
    "ExecuteTime": {
     "end_time": "2021-01-13T23:51:48.257840Z",
     "start_time": "2021-01-13T23:51:48.236018Z"
    }
   },
   "outputs": [],
   "source": [
    "df['type'].replace(['Boat','Boatomg'], 'Boating', inplace = True)\n",
    "df['type'].replace(['Invalid','Questionable'], 'Unknown', inplace = True)"
   ]
  },
  {
   "cell_type": "code",
   "execution_count": 59,
   "metadata": {
    "ExecuteTime": {
     "end_time": "2021-01-13T23:51:48.571360Z",
     "start_time": "2021-01-13T23:51:48.552291Z"
    }
   },
   "outputs": [
    {
     "data": {
      "text/plain": [
       "array(['Boating', 'Unprovoked', 'Unknown', 'Provoked', 'Sea Disaster'],\n",
       "      dtype=object)"
      ]
     },
     "execution_count": 59,
     "metadata": {},
     "output_type": "execute_result"
    }
   ],
   "source": [
    "df['type'].unique()"
   ]
  },
  {
   "cell_type": "markdown",
   "metadata": {},
   "source": [
    "# REMOVENDO LINHAS DUPLICADAS"
   ]
  },
  {
   "cell_type": "code",
   "execution_count": 60,
   "metadata": {
    "ExecuteTime": {
     "end_time": "2021-01-13T23:51:49.034777Z",
     "start_time": "2021-01-13T23:51:48.986282Z"
    }
   },
   "outputs": [
    {
     "data": {
      "text/html": [
       "<div>\n",
       "<style scoped>\n",
       "    .dataframe tbody tr th:only-of-type {\n",
       "        vertical-align: middle;\n",
       "    }\n",
       "\n",
       "    .dataframe tbody tr th {\n",
       "        vertical-align: top;\n",
       "    }\n",
       "\n",
       "    .dataframe thead th {\n",
       "        text-align: right;\n",
       "    }\n",
       "</style>\n",
       "<table border=\"1\" class=\"dataframe\">\n",
       "  <thead>\n",
       "    <tr style=\"text-align: right;\">\n",
       "      <th></th>\n",
       "      <th>date</th>\n",
       "      <th>year</th>\n",
       "      <th>type</th>\n",
       "      <th>country</th>\n",
       "      <th>area</th>\n",
       "      <th>location</th>\n",
       "      <th>activity</th>\n",
       "      <th>name</th>\n",
       "      <th>gender</th>\n",
       "      <th>age</th>\n",
       "      <th>injury</th>\n",
       "      <th>fatality</th>\n",
       "      <th>time</th>\n",
       "      <th>species</th>\n",
       "    </tr>\n",
       "  </thead>\n",
       "  <tbody>\n",
       "    <tr>\n",
       "      <th>4687</th>\n",
       "      <td>Fall 1943</td>\n",
       "      <td>1943</td>\n",
       "      <td>Unprovoked</td>\n",
       "      <td>USA</td>\n",
       "      <td>Hawaii</td>\n",
       "      <td>Midway Island, Northwestern Hawaiian Islands</td>\n",
       "      <td>Spearfishing</td>\n",
       "      <td>2 males</td>\n",
       "      <td>M</td>\n",
       "      <td>Unknown</td>\n",
       "      <td>Calf nipped in each case</td>\n",
       "      <td>NO</td>\n",
       "      <td>Unknown</td>\n",
       "      <td>\"small sharks\"</td>\n",
       "    </tr>\n",
       "    <tr>\n",
       "      <th>4688</th>\n",
       "      <td>Fall 1943</td>\n",
       "      <td>1943</td>\n",
       "      <td>Unprovoked</td>\n",
       "      <td>USA</td>\n",
       "      <td>Hawaii</td>\n",
       "      <td>Midway Island, Northwestern Hawaiian Islands</td>\n",
       "      <td>Spearfishing</td>\n",
       "      <td>2 males</td>\n",
       "      <td>M</td>\n",
       "      <td>Unknown</td>\n",
       "      <td>Calf nipped in each case</td>\n",
       "      <td>NO</td>\n",
       "      <td>Unknown</td>\n",
       "      <td>\"small sharks\"</td>\n",
       "    </tr>\n",
       "    <tr>\n",
       "      <th>5708</th>\n",
       "      <td>1890</td>\n",
       "      <td>1890</td>\n",
       "      <td>Unprovoked</td>\n",
       "      <td>INDIA</td>\n",
       "      <td>Tamil Nadu</td>\n",
       "      <td>Tuticorin</td>\n",
       "      <td>Diving</td>\n",
       "      <td>a pearl diver</td>\n",
       "      <td>M</td>\n",
       "      <td>Unknown</td>\n",
       "      <td>No details</td>\n",
       "      <td>Unknown</td>\n",
       "      <td>Unknown</td>\n",
       "      <td>Unknown</td>\n",
       "    </tr>\n",
       "    <tr>\n",
       "      <th>5709</th>\n",
       "      <td>1890</td>\n",
       "      <td>1890</td>\n",
       "      <td>Unprovoked</td>\n",
       "      <td>INDIA</td>\n",
       "      <td>Tamil Nadu</td>\n",
       "      <td>Tuticorin</td>\n",
       "      <td>Diving</td>\n",
       "      <td>a pearl diver</td>\n",
       "      <td>M</td>\n",
       "      <td>Unknown</td>\n",
       "      <td>No details</td>\n",
       "      <td>Unknown</td>\n",
       "      <td>Unknown</td>\n",
       "      <td>Unknown</td>\n",
       "    </tr>\n",
       "  </tbody>\n",
       "</table>\n",
       "</div>"
      ],
      "text/plain": [
       "           date  year        type country        area  \\\n",
       "4687  Fall 1943  1943  Unprovoked     USA      Hawaii   \n",
       "4688  Fall 1943  1943  Unprovoked     USA      Hawaii   \n",
       "5708       1890  1890  Unprovoked   INDIA  Tamil Nadu   \n",
       "5709       1890  1890  Unprovoked   INDIA  Tamil Nadu   \n",
       "\n",
       "                                          location      activity  \\\n",
       "4687  Midway Island, Northwestern Hawaiian Islands  Spearfishing   \n",
       "4688  Midway Island, Northwestern Hawaiian Islands  Spearfishing   \n",
       "5708                                     Tuticorin        Diving   \n",
       "5709                                     Tuticorin        Diving   \n",
       "\n",
       "               name gender      age                    injury fatality  \\\n",
       "4687        2 males      M  Unknown  Calf nipped in each case       NO   \n",
       "4688        2 males      M  Unknown  Calf nipped in each case       NO   \n",
       "5708  a pearl diver      M  Unknown                No details  Unknown   \n",
       "5709  a pearl diver      M  Unknown                No details  Unknown   \n",
       "\n",
       "         time         species  \n",
       "4687  Unknown  \"small sharks\"  \n",
       "4688  Unknown  \"small sharks\"  \n",
       "5708  Unknown         Unknown  \n",
       "5709  Unknown         Unknown  "
      ]
     },
     "execution_count": 60,
     "metadata": {},
     "output_type": "execute_result"
    }
   ],
   "source": [
    "df.loc[df.duplicated(keep=False), :]"
   ]
  },
  {
   "cell_type": "code",
   "execution_count": 61,
   "metadata": {
    "ExecuteTime": {
     "end_time": "2021-01-13T23:51:49.207985Z",
     "start_time": "2021-01-13T23:51:49.191356Z"
    }
   },
   "outputs": [],
   "source": [
    "# removidas apenas estas duas linhas, antes de executar o DROP em 'name'\n",
    "df.drop([4688, 5709],inplace=True)"
   ]
  },
  {
   "cell_type": "code",
   "execution_count": 62,
   "metadata": {
    "ExecuteTime": {
     "end_time": "2021-01-13T23:51:49.499184Z",
     "start_time": "2021-01-13T23:51:49.492157Z"
    },
    "scrolled": true
   },
   "outputs": [
    {
     "data": {
      "text/plain": [
       "(6300, 14)"
      ]
     },
     "execution_count": 62,
     "metadata": {},
     "output_type": "execute_result"
    }
   ],
   "source": [
    "df.shape"
   ]
  },
  {
   "cell_type": "markdown",
   "metadata": {},
   "source": [
    "\n",
    "# CRIANDO NOVA COLUNA PARA ATIVIDADE (usando principal palavra chave)"
   ]
  },
  {
   "cell_type": "markdown",
   "metadata": {},
   "source": [
    "## Dicas do GUI\n",
    "\n",
    "usar REGEX \n",
    "\n",
    "lista_atividades = list(df['activity'].unique())\n",
    "\n",
    "df['activity'].value_counts().head(10)\n",
    "\n",
    "def diminuirletra(row):\n",
    "    try:\n",
    "        return row.lower()\n",
    "    except:\n",
    "        return row\n",
    "        \n",
    "df['activities'] = df['activity'].apply(diminuirletra)"
   ]
  },
  {
   "cell_type": "code",
   "execution_count": 63,
   "metadata": {
    "ExecuteTime": {
     "end_time": "2021-01-13T23:51:51.055551Z",
     "start_time": "2021-01-13T23:51:51.037331Z"
    }
   },
   "outputs": [],
   "source": [
    "main_activity = ['sailing','crabbing','boating','splashing','spearing fish','playing','jumping','touching a shark','tagging sharks','teasing a shark','shark watching','cleaning fish','measuring sharks','sea disaster','feeding sharks','paddling','swimming','fishing','bathing','wading','diving','standing','snorkeling','boarding','kayaking','overboard','treading water','windsurfing','walking','floating','canoeing','surf','rowing']"
   ]
  },
  {
   "cell_type": "code",
   "execution_count": 64,
   "metadata": {
    "ExecuteTime": {
     "end_time": "2021-01-13T23:51:51.718143Z",
     "start_time": "2021-01-13T23:51:51.709099Z"
    }
   },
   "outputs": [
    {
     "data": {
      "text/plain": [
       "'sailing|crabbing|boating|splashing|spearing fish|playing|jumping|touching a shark|tagging sharks|teasing a shark|shark watching|cleaning fish|measuring sharks|sea disaster|feeding sharks|paddling|swimming|fishing|bathing|wading|diving|standing|snorkeling|boarding|kayaking|overboard|treading water|windsurfing|walking|floating|canoeing|surf|rowing'"
      ]
     },
     "execution_count": 64,
     "metadata": {},
     "output_type": "execute_result"
    }
   ],
   "source": [
    "'|'.join(main_activity)"
   ]
  },
  {
   "cell_type": "code",
   "execution_count": 92,
   "metadata": {
    "ExecuteTime": {
     "end_time": "2021-01-14T01:05:12.389073Z",
     "start_time": "2021-01-14T01:05:12.368509Z"
    }
   },
   "outputs": [],
   "source": [
    "def search_activity(row,atividades):\n",
    "    listactivity = '|'.join(atividades)\n",
    "    \n",
    "    try:\n",
    "        return re.findall(listactivity, row,flags=re.IGNORECASE)[0-1].lower()\n",
    "    except:\n",
    "        return 'others'\n"
   ]
  },
  {
   "cell_type": "code",
   "execution_count": 66,
   "metadata": {
    "ExecuteTime": {
     "end_time": "2021-01-13T23:51:53.164274Z",
     "start_time": "2021-01-13T23:51:53.079536Z"
    }
   },
   "outputs": [],
   "source": [
    "df['activities'] = df['activity'].apply(search_activity,atividades=main_activity)"
   ]
  },
  {
   "cell_type": "markdown",
   "metadata": {
    "ExecuteTime": {
     "end_time": "2021-01-13T02:06:29.454528Z",
     "start_time": "2021-01-13T02:06:29.438534Z"
    }
   },
   "source": [
    "## Dicas do GUI --- para visualizar o df com filtro de um valor e mostrando duas colunas\n",
    "\n",
    "mask=df['activities']=='others'\n",
    "\n",
    "df.loc[mask,['activity','activities']]\n",
    "\n",
    "df[['injury','fatality']]"
   ]
  },
  {
   "cell_type": "markdown",
   "metadata": {},
   "source": [
    "# CRIANDO NOVA COLUNA PARA INJURY (usando principal palavra chave)"
   ]
  },
  {
   "cell_type": "code",
   "execution_count": 77,
   "metadata": {
    "ExecuteTime": {
     "end_time": "2021-01-14T00:52:54.045801Z",
     "start_time": "2021-01-14T00:52:54.025859Z"
    }
   },
   "outputs": [],
   "source": [
    "main_injury = ['survived','foot','no injury','leg','hand','thigh','calf','arm','ankle','heel','knee','finger','forearm','torso','swim','shourder','elbow','buttock','hip','head','chest','abdomen','shin','toe','wrist','face','neck','back','ribs','groin','feet','bicep','jaw','tooth']"
   ]
  },
  {
   "cell_type": "code",
   "execution_count": 78,
   "metadata": {
    "ExecuteTime": {
     "end_time": "2021-01-14T00:52:58.531090Z",
     "start_time": "2021-01-14T00:52:58.513057Z"
    }
   },
   "outputs": [
    {
     "data": {
      "text/plain": [
       "'survived|foot|no injury|leg|hand|thigh|calf|arm|ankle|heel|knee|finger|forearm|torso|swim|shourder|elbow|buttock|hip|head|chest|abdomen|shin|toe|wrist|face|neck|back|ribs|groin|feet|bicep|jaw|tooth'"
      ]
     },
     "execution_count": 78,
     "metadata": {},
     "output_type": "execute_result"
    }
   ],
   "source": [
    "'|'.join(main_injury)"
   ]
  },
  {
   "cell_type": "code",
   "execution_count": 109,
   "metadata": {
    "ExecuteTime": {
     "end_time": "2021-01-14T01:18:49.716105Z",
     "start_time": "2021-01-14T01:18:49.696138Z"
    }
   },
   "outputs": [],
   "source": [
    "def search_dano(row,injuries):\n",
    "    listadano = '|'.join(injuries)\n",
    "    \n",
    "    try:\n",
    "        return re.findall(listadano, row,flags=re.IGNORECASE)[0].lower()\n",
    "    except:\n",
    "        return 'minor injury'"
   ]
  },
  {
   "cell_type": "code",
   "execution_count": 111,
   "metadata": {
    "ExecuteTime": {
     "end_time": "2021-01-14T01:19:14.125307Z",
     "start_time": "2021-01-14T01:19:13.913020Z"
    }
   },
   "outputs": [],
   "source": [
    "df['injuries']=df['injury'].apply(search_dano,injuries=main_injury)"
   ]
  },
  {
   "cell_type": "markdown",
   "metadata": {
    "ExecuteTime": {
     "end_time": "2021-01-14T01:31:43.793964Z",
     "start_time": "2021-01-14T01:31:43.781827Z"
    }
   },
   "source": [
    "# CRIANDO NOVA COLUNA PARA ANO (YEAR) A PARTIR DA COLUNA DATA"
   ]
  },
  {
   "cell_type": "code",
   "execution_count": 169,
   "metadata": {
    "ExecuteTime": {
     "end_time": "2021-01-14T02:16:51.489563Z",
     "start_time": "2021-01-14T02:16:51.451978Z"
    }
   },
   "outputs": [
    {
     "data": {
      "text/plain": [
       "['25-Jun-2018',\n",
       " '18-Jun-2018',\n",
       " '09-Jun-2018',\n",
       " '08-Jun-2018',\n",
       " '04-Jun-2018',\n",
       " '03-Jun-2018',\n",
       " '03-Jun-2018',\n",
       " '27-May-2018',\n",
       " '26-May-2018',\n",
       " '26-May-2018',\n",
       " '24-May-2018',\n",
       " '21-May-2018',\n",
       " '13-May-2018',\n",
       " '13-May-2018',\n",
       " 'May 2018',\n",
       " '12-May-2018',\n",
       " '09-May-2018',\n",
       " 'Reported 30-Apr-2018',\n",
       " '28-Apr-2018',\n",
       " '28-Apr-2018',\n",
       " '25-Apr-2018',\n",
       " '25-Apr-2018',\n",
       " '24-Apr-2018',\n",
       " '23-Apr-2018',\n",
       " '22-Apr-2018',\n",
       " '19-Apr-2018',\n",
       " '15-Apr-2018',\n",
       " '15-Apr-2018',\n",
       " '15-Apr-2018',\n",
       " '15-Apr-2018',\n",
       " '14-Apr-2018',\n",
       " 'Reported 10-Apr-2018',\n",
       " '09-Apr-2018',\n",
       " '05-Apr-2018',\n",
       " '03-Apr-2018',\n",
       " '31-Mar-2018',\n",
       " '14-Mar-2018',\n",
       " '9-Mar-2018',\n",
       " '9-Mar-2018',\n",
       " '24-Feb-2018',\n",
       " '23-Feb-2018',\n",
       " '18-Feb-2018',\n",
       " '15-Feb-2018',\n",
       " '14-Feb-2018',\n",
       " '11-Feb-2018',\n",
       " '03-Feb-2018',\n",
       " '01-Feb-2018',\n",
       " '28-Jan-2018',\n",
       " '21-Jan-2018',\n",
       " '14-Jan-2018',\n",
       " '13-Jan-2018',\n",
       " '12-Jan-2018',\n",
       " '05-Jan-2018',\n",
       " '31-Dec-2017',\n",
       " '30-Dec-2017',\n",
       " '21-Dec-2017',\n",
       " '09-Dec-2017',\n",
       " '30-Nov-2017',\n",
       " '30-Nov-2017',\n",
       " 'Reported 25-Nov-2017',\n",
       " '24-Nov-2017',\n",
       " '18-Nov-2017',\n",
       " 'Reported 13-Nov-2017',\n",
       " '13-Nov-2017',\n",
       " '04-Nov-2017',\n",
       " 'Reported 31-Oct-2017',\n",
       " '28-Oct-2017',\n",
       " '26-Oct-2017',\n",
       " '23-Oct-2017',\n",
       " '23-Oct-2017',\n",
       " '23-Oct-2017',\n",
       " '22-Oct-2017',\n",
       " '21-Oct-2017',\n",
       " '18-Oct-2017',\n",
       " '09-Oct-2017',\n",
       " '05-Oct-2017',\n",
       " '01-Oct-2017',\n",
       " '25-Sep-2017',\n",
       " '25-Sep-2017',\n",
       " '24-Sep-2017',\n",
       " '24-Sep-2017',\n",
       " '20-Sep-2017',\n",
       " '16-Sep-2017',\n",
       " '16-Sep-2017',\n",
       " '15-Sep-2017',\n",
       " '15-Sep-2017',\n",
       " 'Sep-2017',\n",
       " '13-Sep-2017',\n",
       " '10-Sep-2017',\n",
       " '10-Sep-2017',\n",
       " 'Reported 06-Sep-2017',\n",
       " '03-Sep-2017',\n",
       " '03-Sep-2017',\n",
       " '02-Sep-2017',\n",
       " '02-Sep-2017',\n",
       " '02-Sep-2017',\n",
       " '29-Aug-2017',\n",
       " '27-Aug-2017',\n",
       " '26-Aug-2017',\n",
       " '26-Aug-2017',\n",
       " '23-Aug-2017',\n",
       " '18-Aug-2017',\n",
       " '10-Aug-2017',\n",
       " '05-Aug-2017',\n",
       " '03-Aug-2017',\n",
       " '01-Aug-2017',\n",
       " '31-Jul-2017',\n",
       " '29-Jul-2017',\n",
       " '29-Jul-2017',\n",
       " '27-Jul-2017',\n",
       " 'Reported 26-Jul-2017',\n",
       " '24-Jul-2017',\n",
       " '23-Jul-2017',\n",
       " '23-Jul-2017',\n",
       " '22-Jul-2017',\n",
       " '20-Jul-2017',\n",
       " '20-Jul-2017',\n",
       " '20-Jul-2017',\n",
       " '14-Jul-2017',\n",
       " '14-Jul-2017',\n",
       " '11-Jul-2017',\n",
       " '09-Jul-2017',\n",
       " 'Reported 07-Jul-2017',\n",
       " '07-Jul-2017',\n",
       " '02-Jul-2017',\n",
       " '29-Jun-2017',\n",
       " '21-Jun-2017',\n",
       " '19-Jun-2017',\n",
       " '18-Jun-2017',\n",
       " '18-Jun-2017',\n",
       " '17-Jun-2017',\n",
       " '2017.06.05',\n",
       " 'Reported 14-Jun-2017',\n",
       " '11-Jun-2017',\n",
       " '10-Jun-2017',\n",
       " '10-Jun-2017',\n",
       " 'Reported 07-Jun-2017',\n",
       " '04-Jun-2017',\n",
       " '02-Jun-2017',\n",
       " '30-May-2017',\n",
       " '28-May-2017',\n",
       " '27-May-2017',\n",
       " '12-May-2017',\n",
       " 'Reported 06-May-2017',\n",
       " '05-May-2017',\n",
       " '03-May-2017',\n",
       " '29-Apr-2017',\n",
       " '29-Apr-2017',\n",
       " '29-Apr-2017',\n",
       " '29-Apr-2017',\n",
       " '27-Apr-2017',\n",
       " '26-Apr-2017',\n",
       " '22-Apr-2017',\n",
       " '20-Apr-2017',\n",
       " '17-Apr-2017',\n",
       " '17-Apr-2017',\n",
       " '14-Apr-2017',\n",
       " '13-Apr-2017',\n",
       " '12-Apr-2017',\n",
       " '12-Apr-2017',\n",
       " '11-Apr-2017',\n",
       " '10-Apr-2017',\n",
       " '10-Apr-2017',\n",
       " '06-Apr-2017',\n",
       " '05-Apr-2017',\n",
       " '02-Apr-2017',\n",
       " '02-Apr-2017',\n",
       " '27-Mar-2017',\n",
       " '19-Mar-2017',\n",
       " '18-Mar-2017',\n",
       " '11-Mar-2017',\n",
       " 'Reported 09-Mar-2017',\n",
       " '25-Feb-2017',\n",
       " '24-Feb-2017',\n",
       " '21-Feb-2017',\n",
       " '17-Feb-2017',\n",
       " '11-Feb-2017',\n",
       " '06-Feb-2017',\n",
       " '06-Feb-2017',\n",
       " '01-Feb-2017',\n",
       " '01-Feb-2017',\n",
       " '24-Jan-2017',\n",
       " '22-Jan-2017',\n",
       " '21-Jan-2017',\n",
       " '13-Jan-2017',\n",
       " '13-Jan-2017',\n",
       " '09-Jan-2017',\n",
       " 'Reported 08-Jan-2017',\n",
       " '05-Jan-2017',\n",
       " '03-Jan-2017',\n",
       " '27-Dec-2016',\n",
       " '24-Dec-2016',\n",
       " '19-Dec-2016',\n",
       " '14-Dec-2016',\n",
       " '11-Dec-2016',\n",
       " '11-Dec-2016',\n",
       " '06-Dec-2016',\n",
       " '01-Dec-2016',\n",
       " '28-Nov-2016',\n",
       " '14-Nov-2016',\n",
       " '30-Oct-2016',\n",
       " '29-Oct-2016',\n",
       " '24-Oct-2016',\n",
       " '21-Oct-2016',\n",
       " '15-Oct-2016',\n",
       " '14-Oct-2016',\n",
       " '13-Oct-2016',\n",
       " '12-Oct-2016',\n",
       " '10-Oct-2016',\n",
       " '02-Oct-2016',\n",
       " '01-Oct-2016',\n",
       " '26-Sep-2016',\n",
       " '18-Sep-2016',\n",
       " '18-Sep-2016',\n",
       " '18-Sep-2016',\n",
       " '17-Sep-2016',\n",
       " '17-Sep-2016',\n",
       " '16-Sep-2016',\n",
       " '15-Sep-2016',\n",
       " '11-Sep-2016',\n",
       " '07-Sep-2016',\n",
       " '06-Sep-2016',\n",
       " '05-Sep-2016',\n",
       " '05-Sep-2016',\n",
       " '04-Sep-2016',\n",
       " '01-Sep-2016',\n",
       " 'Sep-2016',\n",
       " '29-Aug-2016',\n",
       " '29-Aug-2016',\n",
       " '27-Aug-2016',\n",
       " '25-Aug-2016',\n",
       " '07-Aug-2016',\n",
       " '06-Aug-2016',\n",
       " '04-Aug-2016',\n",
       " '29-Jul-2016',\n",
       " '28-Jul-2016',\n",
       " '28-Jul-2016',\n",
       " '27-Jul-2016',\n",
       " '26-Jul-2016',\n",
       " '24-Jul-2016',\n",
       " '23-Jul-2016',\n",
       " '23-Jul-2016',\n",
       " '20-Jul-2016',\n",
       " '17-Jul-2016',\n",
       " '16-Jul-2016',\n",
       " '16-Jul-2016',\n",
       " '15-Jul-2016',\n",
       " '15-Jul-2016',\n",
       " 'Reported  14-Jul-2016',\n",
       " 'Reported 08-Jul-2016',\n",
       " '08-Jul-2016',\n",
       " '07-Jul-2016',\n",
       " '07-Jul-2016',\n",
       " '06-Jul-2016',\n",
       " '04-Jul-2016',\n",
       " '27-Jun-2016',\n",
       " '25-Jun-2016',\n",
       " '24-Jun-2016',\n",
       " '23-Jun-2016',\n",
       " '21-Jun-2016',\n",
       " '21-Jun-2016',\n",
       " '15-Jun-2016',\n",
       " '15-Jun-2016',\n",
       " '14-Jun-2016',\n",
       " '11-Jun-2016',\n",
       " '07-Jun-2016',\n",
       " '05-Jun-2016',\n",
       " '05-Jun-2016',\n",
       " '04-Jun-2016',\n",
       " '02-Jun-2016',\n",
       " '02-Jun-2016',\n",
       " '31-May-2016',\n",
       " '29-May-2016',\n",
       " '29-May-2016',\n",
       " '22-May-2016',\n",
       " '21-May-2016',\n",
       " '21-May-2016',\n",
       " '18-May-2016',\n",
       " '15-May-2016',\n",
       " '03-May-2016',\n",
       " '02-May-2016',\n",
       " '25-Apr-2016',\n",
       " '23-Apr-2016',\n",
       " '22-Apr-2016',\n",
       " '19-Apr-2016',\n",
       " '18-Apr-2016',\n",
       " '18-Apr-2016',\n",
       " '13-Apr-2016',\n",
       " '09-Apr-2016',\n",
       " '08-Apr-2016',\n",
       " '07-Apr-2016',\n",
       " '07-Apr-2016',\n",
       " '31-Mar-2016',\n",
       " '30-Mar-2016',\n",
       " '28-Mar-2016',\n",
       " '28-Mar-2016',\n",
       " '26-Mar-2016',\n",
       " '13-Mar-2016',\n",
       " '11-Mar-2016',\n",
       " '10-Mar-2016',\n",
       " '04-Mar-2016',\n",
       " 'Reported 03-Mar-2016',\n",
       " '02-Mar-2016',\n",
       " '22-Feb-2016',\n",
       " ' 19-Feb-2016',\n",
       " '12-Feb-2016',\n",
       " 'Reported 10-Feb-2016',\n",
       " '10-Feb-2016',\n",
       " '05-Feb-2016',\n",
       " '04-Feb-2016',\n",
       " '02-Feb-2016',\n",
       " '29-Jan-2016',\n",
       " '28-Jan-2016',\n",
       " '25-Jan-2016',\n",
       " '24-Jan-2016',\n",
       " '24-Jan-2016',\n",
       " '23-Jan-2016',\n",
       " 'Reported 11-Jan-2016',\n",
       " '05-Jan-2016',\n",
       " '02-Jan-2016',\n",
       " '26-Dec-2015',\n",
       " '25-Dec-2015',\n",
       " '22-Dec-2015',\n",
       " '21-Dec-2015',\n",
       " '21-Dec-2015',\n",
       " '19-Dec-2015',\n",
       " '13-Dec-2015',\n",
       " '11-Dec-2015',\n",
       " '08-Dec-2015',\n",
       " '20-Nov-2015',\n",
       " '16-Nov-2015',\n",
       " '15-Nov-2015',\n",
       " '15-Nov-2015',\n",
       " '10-Nov-2015',\n",
       " '07-Nov-2015',\n",
       " '03-Nov-2015',\n",
       " '01-Nov-2015',\n",
       " '01-Nov-2015',\n",
       " '30-Oct-2015',\n",
       " '28-Oct-2015',\n",
       " '25-Oct-2015',\n",
       " '21-Oct-2015',\n",
       " '19-Oct-2015',\n",
       " '17-Oct-2015',\n",
       " '17-Oct-2015',\n",
       " '17-Oct-2015',\n",
       " '13-Oct-2015',\n",
       " '09-Oct-2015',\n",
       " '09-Oct-2015',\n",
       " '08-Oct-2015',\n",
       " '07-Oct-2015',\n",
       " '05-Oct-2015',\n",
       " '05-Oct-2015',\n",
       " '04-Oct-2015',\n",
       " '29-Sep-2015',\n",
       " '26-Sep-2015',\n",
       " '24-Sep-2015',\n",
       " '20-Sep-2015',\n",
       " '20-Sep-2015',\n",
       " '20-Sep-2015',\n",
       " '20-Sep-2015',\n",
       " '19-Sep-2015',\n",
       " '18-Sep-2015',\n",
       " '17-Sep-2015',\n",
       " '08-Sep-2015',\n",
       " '06-Sep-2015',\n",
       " '05-Sep-2015',\n",
       " '04-Sep-2015',\n",
       " '03-Sep-2015',\n",
       " '01-Sep-2015',\n",
       " 'Sep-2015',\n",
       " '29-Aug-2015',\n",
       " '29-Aug-2015',\n",
       " '22-Aug-2015',\n",
       " '22-Aug-2015',\n",
       " '20-Aug-2015',\n",
       " '19-Aug-2015',\n",
       " '18-Aug-2015',\n",
       " '18-Aug-2015',\n",
       " '10-Aug-2015',\n",
       " '31-Jul-2015',\n",
       " '28-Jul-2015',\n",
       " '27-Jul-2015',\n",
       " '26-Jul-2015',\n",
       " '26-Jul-2015',\n",
       " '25-Jul-2015',\n",
       " '23-Jul-2015',\n",
       " '23-Jul-2015',\n",
       " '22-Jul-2015',\n",
       " '19-Jul-2015',\n",
       " '10-Jul-2015',\n",
       " '08-Jul-2015',\n",
       " '06-Jul-2015',\n",
       " '04-Jul-2015',\n",
       " '04-Jul-2015',\n",
       " '03-Jul-2015',\n",
       " '02-Jul-2015',\n",
       " '01-Jul-2015',\n",
       " '30-Jun-2015',\n",
       " '30-Jun-2015',\n",
       " '27-Jun-2015',\n",
       " '27-Jun-2015',\n",
       " '26-Jun-2015',\n",
       " '26-Jun-2015',\n",
       " '26-Jun-2015',\n",
       " 'Reported 25-Jun-2015',\n",
       " '25-Jun-2015',\n",
       " '24-Jun-2015',\n",
       " '24-Jun-2015',\n",
       " '23-Jun-2015',\n",
       " '19-Jun-2015',\n",
       " '17-Jun-2015',\n",
       " '14-Jun-2015',\n",
       " '14-Jun-2015',\n",
       " '13-Jun-2015',\n",
       " '11-Jun-2015',\n",
       " '07-Jun-2015',\n",
       " '05-Jun-2015',\n",
       " '01-Jun-2015',\n",
       " '29-May-2015',\n",
       " '29-May-2015',\n",
       " '25-May-2015',\n",
       " '24-May-2015',\n",
       " '20-May2015',\n",
       " '15-May-2015',\n",
       " '09-May-2015',\n",
       " '07-May-2015',\n",
       " '03-May-2015',\n",
       " '02-May-2015',\n",
       " '29-Apr-2015',\n",
       " '26-Apr-2015',\n",
       " '25-Apr-2015',\n",
       " '24-Jun-2015',\n",
       " '13-Apr-2015',\n",
       " '12-Apr-2015',\n",
       " '11-Apr-2015',\n",
       " '03-Apr-2015',\n",
       " '29-Mar-2015',\n",
       " '31-Mar-2015',\n",
       " '26-Mar-2015',\n",
       " '21-Mar-2015',\n",
       " '18-Mar-2015',\n",
       " '16-Mar-2015',\n",
       " '11-Mar-2015',\n",
       " '10-Mar-2015',\n",
       " '07-Mar-2015',\n",
       " '15-Feb-2015',\n",
       " '14-Feb-2015',\n",
       " '09-Feb-2015',\n",
       " '08-Feb-2015',\n",
       " '05-Feb-2015',\n",
       " '30-Jan-2015',\n",
       " '27-Jan-2015',\n",
       " '24-Jan-2015',\n",
       " '23-Jan-2015',\n",
       " '19-Jan-2015',\n",
       " '19-Jan-2015',\n",
       " '17-Jan-2015',\n",
       " '16-Jan-2015',\n",
       " '08-Jan-2015',\n",
       " '06-Jan-2015',\n",
       " '03-Jan-2015',\n",
       " '01-Jan-2015',\n",
       " '29-Dec-2014',\n",
       " '29-Dec-2014',\n",
       " '28-Dec-2014',\n",
       " '28-Dec-2014',\n",
       " '28-Dec-2014',\n",
       " '28-Dec-2014',\n",
       " 'Reported 23-Dec-2014',\n",
       " '15-Dec-2014',\n",
       " 'Reported 03-Dec-2014',\n",
       " '29-Nov-2014',\n",
       " '20-Nov-2014',\n",
       " '19-Nov-2014',\n",
       " 'Reported 17-Nov-2014',\n",
       " '16-Nov-2014',\n",
       " '13-Nov-2014',\n",
       " '10-Nov-2014',\n",
       " '08-Nov-2014',\n",
       " '31-Oct-2014',\n",
       " '29-Oct-2014',\n",
       " '22-Oct-2014',\n",
       " '20-Oct-2014',\n",
       " '19-Oct-2014',\n",
       " '18-Oct-2014',\n",
       " '17-Oct-2014',\n",
       " '14-Oct-2014',\n",
       " '12-Oct-2014',\n",
       " '11-Oct-2014',\n",
       " '05-Oct-2014',\n",
       " '07-Oct-2014',\n",
       " '05-Oct-2014',\n",
       " '03-Oct-2014',\n",
       " '03-Oct-2014',\n",
       " '02-Oct-2014',\n",
       " '02-Oct-2014',\n",
       " '21-Sep-2014',\n",
       " 'Reported 12-Sep-2014',\n",
       " '13-Sep-2014',\n",
       " '09-Sep-2014',\n",
       " '06-Sep-2014',\n",
       " '03-Sep-2014',\n",
       " '02-Sep-2014',\n",
       " 'Sep-2014',\n",
       " '31-Aug-2014',\n",
       " '29-Aug-2014',\n",
       " '29-Aug-2014',\n",
       " '28-Aug-2014',\n",
       " '27-Aug-2014',\n",
       " '27-Aug-2014',\n",
       " '27-Aug-2014',\n",
       " 'Reported 25-Aug-2014',\n",
       " '24-Aug-2014',\n",
       " '16-Aug-2014',\n",
       " '12-Aug-2014',\n",
       " '10-Aug-2014',\n",
       " '09-Aug-2014',\n",
       " '09-Aug-2014',\n",
       " '08-Aug-2014',\n",
       " '06-Aug-2014',\n",
       " '05-Aug-2014',\n",
       " '02-Aug-2014',\n",
       " '02-Aug-2014',\n",
       " '01-Aug-2014',\n",
       " 'Aug-2014',\n",
       " '27-Jul-2014',\n",
       " '22-Jul-2014',\n",
       " '21-Jul-2014',\n",
       " '20-Jul-2014',\n",
       " '16-Jul-2014',\n",
       " '14-Jul-2014',\n",
       " '13-Jul-2014',\n",
       " '12-Jul-2014',\n",
       " '9-Jul-2014',\n",
       " '5-Jul-2014',\n",
       " '5-Jul-2014',\n",
       " '3-Jul-2014',\n",
       " 'Reported 27-Jun-2014',\n",
       " '25-Jun-2014',\n",
       " '18-Jun-2014',\n",
       " '18-Jun-2014',\n",
       " 'Reported 17-Jun-2014',\n",
       " '09-Jun-2014',\n",
       " '09-Jun-2014',\n",
       " '09-Jun-2014',\n",
       " '08-Jun-2014',\n",
       " '07-Jun-2014',\n",
       " '01-Jun-2014',\n",
       " '01-Jun-2014',\n",
       " '01-Jun-2014',\n",
       " '24-May-2014',\n",
       " '23-May-2014',\n",
       " '22-May-2014',\n",
       " '15-May-2014',\n",
       " '14-May-2014',\n",
       " '13-May2014',\n",
       " '11-May-2014',\n",
       " 'Reported 10-May-2014',\n",
       " '06-May-2014',\n",
       " '04-May-2014',\n",
       " '01-May-2014',\n",
       " '24-Apr-2014',\n",
       " '22-Apr-2014',\n",
       " '15-Apr-2014',\n",
       " 'Reported 12-Apr-2014',\n",
       " '12-Apr-2014',\n",
       " '04-Apr-2014',\n",
       " '04-Apr-2014',\n",
       " '03-Apr-2014',\n",
       " '29-Mar-2014',\n",
       " '22-Mar-2014',\n",
       " '22-Mar-2014',\n",
       " '21-Mar-2014',\n",
       " '18-Mar-2014',\n",
       " '18-Mar-2014',\n",
       " '18-Mar-2014',\n",
       " '12-Mar-2014',\n",
       " '13-Mar-2014',\n",
       " '02-Mar-2014',\n",
       " '20-Feb-2014',\n",
       " 'Reported 17-Feb-2014',\n",
       " '08-Feb-2014',\n",
       " '07-Feb-2014',\n",
       " '07-Feb-2014',\n",
       " '26-Jan-2014',\n",
       " '25-Jan-2014',\n",
       " '04-Jan-2014',\n",
       " '2014',\n",
       " '2014',\n",
       " '25-Dec-2013',\n",
       " '16-Dec-2013',\n",
       " '13-Dec-2013',\n",
       " '11-Dec-2013',\n",
       " '10-Dec-2013',\n",
       " '05-Dec-2013',\n",
       " '02-Dec-2013',\n",
       " '30-Nov-2013',\n",
       " '29-Nov2013',\n",
       " '23-Nov-2013',\n",
       " '22-Nov-2013',\n",
       " '12-Nov-2013',\n",
       " '10-Nov-2013',\n",
       " '07-Nov-2013',\n",
       " '07-Nov-2013',\n",
       " '31-Oct-2013',\n",
       " '28-Oct-2013',\n",
       " '26-Oct-2013',\n",
       " '26-Oct-2013',\n",
       " '24-Oct-2013',\n",
       " '23-Oct-2013',\n",
       " '20-Oct-2013',\n",
       " '19-Oct-2013',\n",
       " '11-Oct-2013',\n",
       " '08-Oct-2013',\n",
       " '06-Oct-2013',\n",
       " '10-Oct-2013',\n",
       " '29-Sep-2013',\n",
       " '29-Sep-2013',\n",
       " ' 25-Sep-2013',\n",
       " ' 21-Sep-2013',\n",
       " ' 21-Sep-2013',\n",
       " ' 14-Sep-2013',\n",
       " ' 12-Sep-2013',\n",
       " '08-Sep-2013',\n",
       " ' 07-Sep-2013',\n",
       " ' 07-Sep-2013',\n",
       " ' 02-Sep-2013',\n",
       " ' 01-Sep-2013',\n",
       " ' 01-Sep-2013',\n",
       " ' 01-Sep-2013',\n",
       " '31-Aug-2013',\n",
       " '31-Aug-2013',\n",
       " '29-Aug-2013',\n",
       " '26-Aug-2013',\n",
       " ' 25-Aug-2013',\n",
       " ' 25-Aug-2013',\n",
       " ' 18-Aug-2013',\n",
       " '17-Aug-2013',\n",
       " ' 14-Aug-2013',\n",
       " ' 13-Aug-2013',\n",
       " '11-Aug-2013',\n",
       " 'Reported 08-Aug-2013',\n",
       " ' 05-Aug-2013',\n",
       " '  31-Jul-2013',\n",
       " '  30-Jul-2013',\n",
       " '28-Jul-2013',\n",
       " '  29-Jul-2013',\n",
       " '  29-Jul-2013',\n",
       " '28-Jul-2013',\n",
       " '28-Jul-2013',\n",
       " '    22-Jul-2013',\n",
       " '19-Jul-2013',\n",
       " 'Reported 17-Jul-2013',\n",
       " '15-Jul-2013',\n",
       " '14-Jul-2013',\n",
       " '11-Jul-2013',\n",
       " '07-Jul-2013',\n",
       " '02-Jul-2013',\n",
       " '30-Jun-2013',\n",
       " '27-Jun-2013',\n",
       " '25-Jun-2013',\n",
       " '25-Jun-2013',\n",
       " '25-Jun-2013',\n",
       " '18-Jun-2013',\n",
       " '17-Jun-2013',\n",
       " '16-Jun-2013',\n",
       " '15-Jun-2013',\n",
       " 'Reported 14-Jun-2013',\n",
       " '06-Jun-2013',\n",
       " '06-Jun-2013',\n",
       " '27-May-2013',\n",
       " '27-May-2013',\n",
       " '23-May-2013',\n",
       " '23-May-2013',\n",
       " '14-May-2014',\n",
       " '08-May-2013',\n",
       " '08-May-2013',\n",
       " '04-May-2013',\n",
       " '28-Apr-2013',\n",
       " '24-Apr-2013',\n",
       " '21-Apr-2013',\n",
       " '17-Apr-2013',\n",
       " '14-Apr-2013',\n",
       " '13-Apr-2013',\n",
       " '13-Apr-2013',\n",
       " '10-Apr-2013',\n",
       " '04-Apr-2013',\n",
       " 'Reported 02-Apr-2013',\n",
       " '02-Apr-2013',\n",
       " '31-Mar-2013',\n",
       " '29-Mar-2013',\n",
       " 'Reported 21-Mar-2013',\n",
       " '21-Mar-2013',\n",
       " '16-Mar-2013',\n",
       " '16-Mar-2013',\n",
       " '12-Mar-2013',\n",
       " '10-Mar-2013',\n",
       " '10-Mar-2013',\n",
       " '03-Mar-2013',\n",
       " '27-Feb-2013',\n",
       " '21-Feb-2013',\n",
       " '21-Feb-2013',\n",
       " '10-Feb-2013',\n",
       " '09-Feb-2013',\n",
       " '01-Feb-2013',\n",
       " '26-Jan-2013',\n",
       " '25-Jan-2013',\n",
       " 'Reported 21-Jan-2013',\n",
       " '16-Jan-2013',\n",
       " '13-Jan-2013',\n",
       " '05-Jan-2013',\n",
       " '31-Dec-2012',\n",
       " '30-Dec-2012',\n",
       " '28-Dec-2012',\n",
       " '25-Dec-2012',\n",
       " '19-Dec-2012',\n",
       " '05-Dec-2012',\n",
       " '02-Dec-2012',\n",
       " 'December 2012',\n",
       " '30-Nov-2012',\n",
       " '27-Nov-2012',\n",
       " '22-Nov-2012',\n",
       " '19-Nov-2012',\n",
       " '04-Nov-2012',\n",
       " '04-Nov-2012',\n",
       " '30-Oct-2012',\n",
       " '27-Oct-2012',\n",
       " '23-Oct-2012',\n",
       " '19-Oct-2012',\n",
       " '18-Oct-2012',\n",
       " '18-Oct-2012',\n",
       " '16-Oct-2012',\n",
       " 'Reported 11-Oct-2012',\n",
       " '10-Oct-2012',\n",
       " '02-Oct-2012',\n",
       " '25-Sep-2012',\n",
       " '24-Sep-2012',\n",
       " '16-Sep-2012',\n",
       " '10-Sep-2012',\n",
       " '09-Sep-2012',\n",
       " '08-Sep-2012',\n",
       " '08-Sep-2012',\n",
       " '06-Sep-2012',\n",
       " '06-Sep-2012',\n",
       " '04-Sep-2012',\n",
       " '02-Sep-2012',\n",
       " '02-Sep-2012',\n",
       " '02-Sep-2012',\n",
       " '31-Aug-2012',\n",
       " '28-Aug-2012',\n",
       " '26-Aug-2012',\n",
       " '15-Aug-2012',\n",
       " '11-Aug-2012',\n",
       " '08-Aug-2012',\n",
       " '06-Aug-2012',\n",
       " '04-Aug-2012',\n",
       " '31-Jul-2012',\n",
       " '31-Jul-2012',\n",
       " '30-Jul-2012',\n",
       " '30-Jul-2012',\n",
       " '24-Jul-2012',\n",
       " '23-Jul-2012',\n",
       " '21-Jul-2012',\n",
       " '19-Jul-2012',\n",
       " '14-Jul-2012',\n",
       " '08-Jul-2012',\n",
       " '07-July-2012',\n",
       " '07-Jul-2012',\n",
       " '07-Jul-2012',\n",
       " '06-Jul-2012',\n",
       " 'Reported 28-Jun-2012',\n",
       " '26-Jun-2012',\n",
       " '26-Jun-2012',\n",
       " '26-Jun-2012',\n",
       " '22-Jun-2012',\n",
       " '22-Jun-2012',\n",
       " '20-Jun-2012',\n",
       " '19-Jun-2012',\n",
       " '18-Jun-2012',\n",
       " '15-Jun-2012',\n",
       " '14-Jun-2012',\n",
       " '14-Jun-2012',\n",
       " '14-Jun-2012',\n",
       " '14-Jun-2012',\n",
       " '12-Jun-2012',\n",
       " '10-Jun-2012',\n",
       " '03-Jun-2012',\n",
       " '02-Jun-2012',\n",
       " '02-Jun-2012',\n",
       " '31-May-2012',\n",
       " '29-May-2012',\n",
       " '23-May-2012',\n",
       " '20-May-2012',\n",
       " '16-May-2012',\n",
       " '12-May-2012',\n",
       " '09-May-2012',\n",
       " '06-May-2012',\n",
       " '19-Apr-2012',\n",
       " '19-Apr-2012',\n",
       " '11-Apr-2012',\n",
       " '03-Apr-2012',\n",
       " 'Apr-2013',\n",
       " '31-Mar-2012',\n",
       " '24-Mar-2012',\n",
       " '22-Mar-2012',\n",
       " '20-Mar-2012',\n",
       " '15-Mar-2012',\n",
       " '14-Mar-2012',\n",
       " '14-Mar-2012',\n",
       " '06-Mar-2012',\n",
       " '06-Mar-2012',\n",
       " '05-Mar-2012',\n",
       " '04-Mar-2012',\n",
       " '03-Mar-2012',\n",
       " '01-Mar-2012',\n",
       " '26-Feb-2012',\n",
       " '25-Feb-2012',\n",
       " '20-Feb-2012',\n",
       " '06-Feb-2012',\n",
       " '27-Jan-2012',\n",
       " '19-Jan-2012',\n",
       " 'Reported 22-Jan-2012',\n",
       " '18-Jan-2012',\n",
       " '18-Jan-2012',\n",
       " '15-Jan-2012',\n",
       " '13-Jan-2012',\n",
       " '03-Jan-2012',\n",
       " '02-Jan-2012',\n",
       " '31-Dec-2011',\n",
       " 'Reported 26-Dec-2011',\n",
       " '25-Dec-2011',\n",
       " '23-Dec-2011',\n",
       " '21-Dec-2011',\n",
       " '21-Dec-2011',\n",
       " '11-Dec-2011',\n",
       " '07-Dec-2011',\n",
       " '07-Dec-2011',\n",
       " '06-Dec-2011',\n",
       " '05-Dec-2011',\n",
       " '02-Dec-2011',\n",
       " '29-Nov-2011',\n",
       " '28-Nov-2011',\n",
       " '22-Nov-2011',\n",
       " 'Reported 20-Nov-2011',\n",
       " '12-Nov-2011',\n",
       " '11-Nov-2011',\n",
       " '  29-Oct-2011',\n",
       " 'Reported 28-Oct-2011',\n",
       " '  29-Oct-2011',\n",
       " '22-Oct-2011',\n",
       " '20-Oct-2011',\n",
       " '19-Oct-2011',\n",
       " '11-Oct-2011',\n",
       " '10-Oct-2011',\n",
       " '09-Oct-2011',\n",
       " '05-Oct-2011',\n",
       " '02-Oct-2011',\n",
       " '01-Oct-2011',\n",
       " '30-Sep-2011',\n",
       " '28-Sep-2011',\n",
       " '28-Sep-2011',\n",
       " '24-Sep-2011',\n",
       " '24-Sep-2011',\n",
       " '20-Sep-2011',\n",
       " '19-Sep-2011',\n",
       " '17-Sep-2011',\n",
       " '16-Sep-2011',\n",
       " '11-Sep-2011',\n",
       " '11-Sep-2011',\n",
       " '04-Sep-2011',\n",
       " '04-Sep-2011',\n",
       " '02-Sep-2011',\n",
       " '31-Aug-2011',\n",
       " '28-Aug-2011',\n",
       " '28-Aug-2011',\n",
       " '26-Aug-2011',\n",
       " '24-Aug-2011 ',\n",
       " '24-Aug-2011 ',\n",
       " '23-Aug-2011',\n",
       " '18-Aug-2011',\n",
       " '17-Aug-2011',\n",
       " '17-Aug-2011',\n",
       " '17-Aug-2011',\n",
       " '16-Aug-2011',\n",
       " '16-Aug--2011',\n",
       " '16-Aug-2011',\n",
       " '15-Aug-2011',\n",
       " '11-Aug--2011',\n",
       " '01-Aug-2011',\n",
       " '31-Jul-2011',\n",
       " '30-Jul-2011',\n",
       " '25-Jul-2011',\n",
       " '22-Jul-2011',\n",
       " '19-Jul-2011',\n",
       " '15-Jul-2011',\n",
       " '13-Jul-2011',\n",
       " '13-Jul-2011',\n",
       " '07-Jul-2011',\n",
       " '07-Jul-2011',\n",
       " '06-Jul-2011',\n",
       " '05-Jul-2011',\n",
       " '30-Jun-2011',\n",
       " '29-Jun-2011',\n",
       " '28-Jun-2011',\n",
       " '26-Jun-2008',\n",
       " '24-Jun-2011',\n",
       " '21-Jun-2011',\n",
       " '19-Jun-2011',\n",
       " '19-Jun-2011',\n",
       " '15-Jun-2011',\n",
       " 'Reported 14-Jun-2011',\n",
       " '12-Jun-2011',\n",
       " 'Reported 06-Jun-2011',\n",
       " '06-Jun-2011',\n",
       " '06-Jun-2011',\n",
       " '01-Jun-2011',\n",
       " '30-May-2011',\n",
       " '29-May-2011',\n",
       " '25-May-2011',\n",
       " '22-May-2011',\n",
       " '21-May-2011',\n",
       " '13-May-2011',\n",
       " '21-May-2011',\n",
       " '13-May-2011',\n",
       " '10-May-2011',\n",
       " 'Reported 07-May-2011',\n",
       " '04-May-2011',\n",
       " '26-Apr-2011',\n",
       " '23-Apr-2011',\n",
       " '22-Apr-2011',\n",
       " '16-Apr-2011',\n",
       " '13-Apr-2011',\n",
       " '08-Apr-2011',\n",
       " 'Reported 29-Mar-2011',\n",
       " '24-Mar-2011',\n",
       " '23-Mar-2011',\n",
       " '21-Mar-2011',\n",
       " '21-Mar-2011',\n",
       " '16-Mar-2011',\n",
       " 'Reported 10-Mar-2010',\n",
       " '10-Mar-2011',\n",
       " 'Reported 28-Feb-2011',\n",
       " '23-Feb-2011',\n",
       " '18-Feb-2011',\n",
       " '17-Feb-2011',\n",
       " '13-Feb-2011',\n",
       " '12-Feb-2011',\n",
       " 'Reported 04-Feb-2011',\n",
       " '02-Feb-2011',\n",
       " '31-Jan-2011',\n",
       " '28-Jan-2011',\n",
       " '26-Jan-2011',\n",
       " '20-Jan-2011',\n",
       " '15-Jan-2011',\n",
       " 'Reported 12-Jan 2011',\n",
       " '03-Jan-2011',\n",
       " '26-Dec-2010',\n",
       " '17-Dec-2010',\n",
       " '11-Dec-2010',\n",
       " '05-Dec-2010',\n",
       " 'Reported 03-Dec-2010',\n",
       " '01-Dec-2010',\n",
       " '01-Dec-2010',\n",
       " '30-Nov-2010',\n",
       " '30-Nov-2010',\n",
       " 'Reported 27-Nov-2010',\n",
       " '27-Nov-2010',\n",
       " '19-Nov-2010',\n",
       " '15-Nov-2010',\n",
       " '14-Nov-2010',\n",
       " 'Reported 12-Nov-2010',\n",
       " '30-Oct-2010',\n",
       " 'Reported 28-Oct-2010',\n",
       " '28-Oct-2010',\n",
       " '25-Oct-2010',\n",
       " '23-Oct-2010',\n",
       " '23-Oct-2010',\n",
       " '22-Oct-2010',\n",
       " '20-Oct-2010',\n",
       " '09-Oct-2010',\n",
       " '02-Oct-2010',\n",
       " '02-Oct-2010',\n",
       " '01-Oct-2010',\n",
       " '27-Sep-2010',\n",
       " '24-Sep-2010',\n",
       " '21-Sep-2010',\n",
       " ' 13-Sep-2010',\n",
       " '07-Sep-2010',\n",
       " 'Reported 06-Sep-2010',\n",
       " ' 04-Sep-2010',\n",
       " '03-Sep-2010',\n",
       " '03-Sep-2010',\n",
       " '02-Sep-2010',\n",
       " '29-Aug-2010',\n",
       " '18-Aug-2010',\n",
       " '17-Aug-2010',\n",
       " '14-Aug-2010',\n",
       " '10-Aug-2010',\n",
       " '10-Aug-2010',\n",
       " ...]"
      ]
     },
     "execution_count": 169,
     "metadata": {},
     "output_type": "execute_result"
    }
   ],
   "source": [
    "dateyear = list(df['date'])\n",
    "dateyear"
   ]
  },
  {
   "cell_type": "code",
   "execution_count": null,
   "metadata": {},
   "outputs": [],
   "source": [
    "for x in dateyear "
   ]
  },
  {
   "cell_type": "markdown",
   "metadata": {},
   "source": [
    "# DATAFRAME FINAL APÓS DADOS TRATADOS"
   ]
  },
  {
   "cell_type": "code",
   "execution_count": 115,
   "metadata": {
    "ExecuteTime": {
     "end_time": "2021-01-14T01:28:32.485652Z",
     "start_time": "2021-01-14T01:28:32.463748Z"
    }
   },
   "outputs": [],
   "source": [
    "df_final = df[['year','type','country','area','name','gender','age','time','species','activities','injuries','fatality']]"
   ]
  },
  {
   "cell_type": "code",
   "execution_count": 116,
   "metadata": {
    "ExecuteTime": {
     "end_time": "2021-01-14T01:29:39.552205Z",
     "start_time": "2021-01-14T01:29:39.520278Z"
    }
   },
   "outputs": [
    {
     "data": {
      "text/html": [
       "<div>\n",
       "<style scoped>\n",
       "    .dataframe tbody tr th:only-of-type {\n",
       "        vertical-align: middle;\n",
       "    }\n",
       "\n",
       "    .dataframe tbody tr th {\n",
       "        vertical-align: top;\n",
       "    }\n",
       "\n",
       "    .dataframe thead th {\n",
       "        text-align: right;\n",
       "    }\n",
       "</style>\n",
       "<table border=\"1\" class=\"dataframe\">\n",
       "  <thead>\n",
       "    <tr style=\"text-align: right;\">\n",
       "      <th></th>\n",
       "      <th>year</th>\n",
       "      <th>type</th>\n",
       "      <th>country</th>\n",
       "      <th>area</th>\n",
       "      <th>name</th>\n",
       "      <th>gender</th>\n",
       "      <th>age</th>\n",
       "      <th>time</th>\n",
       "      <th>species</th>\n",
       "      <th>activities</th>\n",
       "      <th>injuries</th>\n",
       "      <th>fatality</th>\n",
       "    </tr>\n",
       "  </thead>\n",
       "  <tbody>\n",
       "    <tr>\n",
       "      <th>0</th>\n",
       "      <td>2018</td>\n",
       "      <td>Boating</td>\n",
       "      <td>USA</td>\n",
       "      <td>California</td>\n",
       "      <td>Julie Wolfe</td>\n",
       "      <td>F</td>\n",
       "      <td>57</td>\n",
       "      <td>18h00</td>\n",
       "      <td>White shark</td>\n",
       "      <td>paddling</td>\n",
       "      <td>no injury</td>\n",
       "      <td>NO</td>\n",
       "    </tr>\n",
       "    <tr>\n",
       "      <th>1</th>\n",
       "      <td>2018</td>\n",
       "      <td>Unprovoked</td>\n",
       "      <td>USA</td>\n",
       "      <td>Georgia</td>\n",
       "      <td>Adyson McNeely</td>\n",
       "      <td>F</td>\n",
       "      <td>11</td>\n",
       "      <td>14h00  -15h00</td>\n",
       "      <td>Unknown</td>\n",
       "      <td>standing</td>\n",
       "      <td>thigh</td>\n",
       "      <td>NO</td>\n",
       "    </tr>\n",
       "    <tr>\n",
       "      <th>2</th>\n",
       "      <td>2018</td>\n",
       "      <td>Unknown</td>\n",
       "      <td>USA</td>\n",
       "      <td>Hawaii</td>\n",
       "      <td>John Denges</td>\n",
       "      <td>M</td>\n",
       "      <td>48</td>\n",
       "      <td>07h45</td>\n",
       "      <td>Unknown</td>\n",
       "      <td>surf</td>\n",
       "      <td>leg</td>\n",
       "      <td>NO</td>\n",
       "    </tr>\n",
       "    <tr>\n",
       "      <th>3</th>\n",
       "      <td>2018</td>\n",
       "      <td>Unprovoked</td>\n",
       "      <td>AUSTRALIA</td>\n",
       "      <td>New South Wales</td>\n",
       "      <td>male</td>\n",
       "      <td>M</td>\n",
       "      <td>Unknown</td>\n",
       "      <td>Unknown</td>\n",
       "      <td>2 m shark</td>\n",
       "      <td>surf</td>\n",
       "      <td>leg</td>\n",
       "      <td>NO</td>\n",
       "    </tr>\n",
       "    <tr>\n",
       "      <th>4</th>\n",
       "      <td>2018</td>\n",
       "      <td>Provoked</td>\n",
       "      <td>MEXICO</td>\n",
       "      <td>Colima</td>\n",
       "      <td>Gustavo Ramos</td>\n",
       "      <td>M</td>\n",
       "      <td>Unknown</td>\n",
       "      <td>Unknown</td>\n",
       "      <td>Tiger shark, 3m</td>\n",
       "      <td>diving</td>\n",
       "      <td>leg</td>\n",
       "      <td>NO</td>\n",
       "    </tr>\n",
       "    <tr>\n",
       "      <th>...</th>\n",
       "      <td>...</td>\n",
       "      <td>...</td>\n",
       "      <td>...</td>\n",
       "      <td>...</td>\n",
       "      <td>...</td>\n",
       "      <td>...</td>\n",
       "      <td>...</td>\n",
       "      <td>...</td>\n",
       "      <td>...</td>\n",
       "      <td>...</td>\n",
       "      <td>...</td>\n",
       "      <td>...</td>\n",
       "    </tr>\n",
       "    <tr>\n",
       "      <th>6297</th>\n",
       "      <td>0</td>\n",
       "      <td>Unprovoked</td>\n",
       "      <td>AUSTRALIA</td>\n",
       "      <td>Western Australia</td>\n",
       "      <td>male</td>\n",
       "      <td>M</td>\n",
       "      <td>Unknown</td>\n",
       "      <td>Unknown</td>\n",
       "      <td>Unknown</td>\n",
       "      <td>diving</td>\n",
       "      <td>minor injury</td>\n",
       "      <td>YES</td>\n",
       "    </tr>\n",
       "    <tr>\n",
       "      <th>6298</th>\n",
       "      <td>0</td>\n",
       "      <td>Unprovoked</td>\n",
       "      <td>AUSTRALIA</td>\n",
       "      <td>Western Australia</td>\n",
       "      <td>Ahmun</td>\n",
       "      <td>M</td>\n",
       "      <td>Unknown</td>\n",
       "      <td>Unknown</td>\n",
       "      <td>Unknown</td>\n",
       "      <td>diving</td>\n",
       "      <td>minor injury</td>\n",
       "      <td>YES</td>\n",
       "    </tr>\n",
       "    <tr>\n",
       "      <th>6299</th>\n",
       "      <td>0</td>\n",
       "      <td>Unprovoked</td>\n",
       "      <td>USA</td>\n",
       "      <td>North Carolina</td>\n",
       "      <td>Coast Guard personnel</td>\n",
       "      <td>M</td>\n",
       "      <td>Unknown</td>\n",
       "      <td>Unknown</td>\n",
       "      <td>Unknown</td>\n",
       "      <td>swimming</td>\n",
       "      <td>minor injury</td>\n",
       "      <td>YES</td>\n",
       "    </tr>\n",
       "    <tr>\n",
       "      <th>6300</th>\n",
       "      <td>0</td>\n",
       "      <td>Unprovoked</td>\n",
       "      <td>PANAMA</td>\n",
       "      <td>Unknown</td>\n",
       "      <td>Jules Patterson</td>\n",
       "      <td>M</td>\n",
       "      <td>Unknown</td>\n",
       "      <td>Unknown</td>\n",
       "      <td>Unknown</td>\n",
       "      <td>others</td>\n",
       "      <td>minor injury</td>\n",
       "      <td>YES</td>\n",
       "    </tr>\n",
       "    <tr>\n",
       "      <th>6301</th>\n",
       "      <td>0</td>\n",
       "      <td>Unprovoked</td>\n",
       "      <td>CEYLON (SRI LANKA)</td>\n",
       "      <td>Eastern Province</td>\n",
       "      <td>male</td>\n",
       "      <td>M</td>\n",
       "      <td>15</td>\n",
       "      <td>Unknown</td>\n",
       "      <td>Unknown</td>\n",
       "      <td>swimming</td>\n",
       "      <td>minor injury</td>\n",
       "      <td>YES</td>\n",
       "    </tr>\n",
       "  </tbody>\n",
       "</table>\n",
       "<p>6300 rows × 12 columns</p>\n",
       "</div>"
      ],
      "text/plain": [
       "      year        type             country               area  \\\n",
       "0     2018     Boating                 USA         California   \n",
       "1     2018  Unprovoked                 USA            Georgia   \n",
       "2     2018     Unknown                 USA             Hawaii   \n",
       "3     2018  Unprovoked           AUSTRALIA    New South Wales   \n",
       "4     2018    Provoked              MEXICO             Colima   \n",
       "...    ...         ...                 ...                ...   \n",
       "6297     0  Unprovoked           AUSTRALIA  Western Australia   \n",
       "6298     0  Unprovoked           AUSTRALIA  Western Australia   \n",
       "6299     0  Unprovoked                 USA     North Carolina   \n",
       "6300     0  Unprovoked              PANAMA            Unknown   \n",
       "6301     0  Unprovoked  CEYLON (SRI LANKA)   Eastern Province   \n",
       "\n",
       "                       name gender      age           time          species  \\\n",
       "0               Julie Wolfe      F       57          18h00      White shark   \n",
       "1           Adyson McNeely       F       11  14h00  -15h00          Unknown   \n",
       "2               John Denges      M       48          07h45          Unknown   \n",
       "3                      male      M  Unknown        Unknown        2 m shark   \n",
       "4            Gustavo Ramos       M  Unknown        Unknown  Tiger shark, 3m   \n",
       "...                     ...    ...      ...            ...              ...   \n",
       "6297                   male      M  Unknown        Unknown          Unknown   \n",
       "6298                  Ahmun      M  Unknown        Unknown          Unknown   \n",
       "6299  Coast Guard personnel      M  Unknown        Unknown          Unknown   \n",
       "6300        Jules Patterson      M  Unknown        Unknown          Unknown   \n",
       "6301                   male      M       15        Unknown          Unknown   \n",
       "\n",
       "     activities      injuries fatality  \n",
       "0      paddling     no injury       NO  \n",
       "1      standing         thigh       NO  \n",
       "2          surf           leg       NO  \n",
       "3          surf           leg       NO  \n",
       "4        diving           leg       NO  \n",
       "...         ...           ...      ...  \n",
       "6297     diving  minor injury      YES  \n",
       "6298     diving  minor injury      YES  \n",
       "6299   swimming  minor injury      YES  \n",
       "6300     others  minor injury      YES  \n",
       "6301   swimming  minor injury      YES  \n",
       "\n",
       "[6300 rows x 12 columns]"
      ]
     },
     "execution_count": 116,
     "metadata": {},
     "output_type": "execute_result"
    }
   ],
   "source": [
    "df_final"
   ]
  },
  {
   "cell_type": "code",
   "execution_count": 69,
   "metadata": {
    "ExecuteTime": {
     "end_time": "2021-01-13T23:51:55.355913Z",
     "start_time": "2021-01-13T23:51:55.353101Z"
    }
   },
   "outputs": [],
   "source": [
    "# Para salvar o arquivo csv ---> df.to_csv(\"nomedoarquivo.csv\")"
   ]
  }
 ],
 "metadata": {
  "kernelspec": {
   "display_name": "Python 3",
   "language": "python",
   "name": "python3"
  },
  "language_info": {
   "codemirror_mode": {
    "name": "ipython",
    "version": 3
   },
   "file_extension": ".py",
   "mimetype": "text/x-python",
   "name": "python",
   "nbconvert_exporter": "python",
   "pygments_lexer": "ipython3",
   "version": "3.8.3"
  },
  "toc": {
   "base_numbering": 1,
   "nav_menu": {},
   "number_sections": true,
   "sideBar": true,
   "skip_h1_title": false,
   "title_cell": "Table of Contents",
   "title_sidebar": "Contents",
   "toc_cell": false,
   "toc_position": {},
   "toc_section_display": true,
   "toc_window_display": false
  },
  "varInspector": {
   "cols": {
    "lenName": 16,
    "lenType": 16,
    "lenVar": 40
   },
   "kernels_config": {
    "python": {
     "delete_cmd_postfix": "",
     "delete_cmd_prefix": "del ",
     "library": "var_list.py",
     "varRefreshCmd": "print(var_dic_list())"
    },
    "r": {
     "delete_cmd_postfix": ") ",
     "delete_cmd_prefix": "rm(",
     "library": "var_list.r",
     "varRefreshCmd": "cat(var_dic_list()) "
    }
   },
   "types_to_exclude": [
    "module",
    "function",
    "builtin_function_or_method",
    "instance",
    "_Feature"
   ],
   "window_display": false
  }
 },
 "nbformat": 4,
 "nbformat_minor": 4
}
