{
 "cells": [
  {
   "cell_type": "markdown",
   "metadata": {},
   "source": [
    "# SHARK ATTACK CLEANING DATE"
   ]
  },
  {
   "cell_type": "code",
   "execution_count": 1,
   "metadata": {
    "ExecuteTime": {
     "end_time": "2021-01-04T21:51:03.013203Z",
     "start_time": "2021-01-04T21:51:02.506458Z"
    }
   },
   "outputs": [],
   "source": [
    "import pandas as pd\n",
    "import numpy as np"
   ]
  },
  {
   "cell_type": "code",
   "execution_count": 2,
   "metadata": {
    "ExecuteTime": {
     "end_time": "2021-01-04T21:51:03.709757Z",
     "start_time": "2021-01-04T21:51:03.556917Z"
    }
   },
   "outputs": [],
   "source": [
    "df=pd.read_csv(\"data/attacks.csv\", sep=',',encoding='ISO-8859-1')"
   ]
  },
  {
   "cell_type": "code",
   "execution_count": 3,
   "metadata": {
    "ExecuteTime": {
     "end_time": "2021-01-04T21:51:04.783441Z",
     "start_time": "2021-01-04T21:51:04.725597Z"
    }
   },
   "outputs": [
    {
     "data": {
      "text/html": [
       "<div>\n",
       "<style scoped>\n",
       "    .dataframe tbody tr th:only-of-type {\n",
       "        vertical-align: middle;\n",
       "    }\n",
       "\n",
       "    .dataframe tbody tr th {\n",
       "        vertical-align: top;\n",
       "    }\n",
       "\n",
       "    .dataframe thead th {\n",
       "        text-align: right;\n",
       "    }\n",
       "</style>\n",
       "<table border=\"1\" class=\"dataframe\">\n",
       "  <thead>\n",
       "    <tr style=\"text-align: right;\">\n",
       "      <th></th>\n",
       "      <th>Case Number</th>\n",
       "      <th>Date</th>\n",
       "      <th>Year</th>\n",
       "      <th>Type</th>\n",
       "      <th>Country</th>\n",
       "      <th>Area</th>\n",
       "      <th>Location</th>\n",
       "      <th>Activity</th>\n",
       "      <th>Name</th>\n",
       "      <th>Sex</th>\n",
       "      <th>...</th>\n",
       "      <th>Species</th>\n",
       "      <th>Investigator or Source</th>\n",
       "      <th>pdf</th>\n",
       "      <th>href formula</th>\n",
       "      <th>href</th>\n",
       "      <th>Case Number.1</th>\n",
       "      <th>Case Number.2</th>\n",
       "      <th>original order</th>\n",
       "      <th>Unnamed: 22</th>\n",
       "      <th>Unnamed: 23</th>\n",
       "    </tr>\n",
       "  </thead>\n",
       "  <tbody>\n",
       "    <tr>\n",
       "      <th>0</th>\n",
       "      <td>2018.06.25</td>\n",
       "      <td>25-Jun-2018</td>\n",
       "      <td>2018.0</td>\n",
       "      <td>Boating</td>\n",
       "      <td>USA</td>\n",
       "      <td>California</td>\n",
       "      <td>Oceanside, San Diego County</td>\n",
       "      <td>Paddling</td>\n",
       "      <td>Julie Wolfe</td>\n",
       "      <td>F</td>\n",
       "      <td>...</td>\n",
       "      <td>White shark</td>\n",
       "      <td>R. Collier, GSAF</td>\n",
       "      <td>2018.06.25-Wolfe.pdf</td>\n",
       "      <td>http://sharkattackfile.net/spreadsheets/pdf_di...</td>\n",
       "      <td>http://sharkattackfile.net/spreadsheets/pdf_di...</td>\n",
       "      <td>2018.06.25</td>\n",
       "      <td>2018.06.25</td>\n",
       "      <td>6303.0</td>\n",
       "      <td>NaN</td>\n",
       "      <td>NaN</td>\n",
       "    </tr>\n",
       "    <tr>\n",
       "      <th>1</th>\n",
       "      <td>2018.06.18</td>\n",
       "      <td>18-Jun-2018</td>\n",
       "      <td>2018.0</td>\n",
       "      <td>Unprovoked</td>\n",
       "      <td>USA</td>\n",
       "      <td>Georgia</td>\n",
       "      <td>St. Simon Island, Glynn County</td>\n",
       "      <td>Standing</td>\n",
       "      <td>Adyson McNeely</td>\n",
       "      <td>F</td>\n",
       "      <td>...</td>\n",
       "      <td>NaN</td>\n",
       "      <td>K.McMurray, TrackingSharks.com</td>\n",
       "      <td>2018.06.18-McNeely.pdf</td>\n",
       "      <td>http://sharkattackfile.net/spreadsheets/pdf_di...</td>\n",
       "      <td>http://sharkattackfile.net/spreadsheets/pdf_di...</td>\n",
       "      <td>2018.06.18</td>\n",
       "      <td>2018.06.18</td>\n",
       "      <td>6302.0</td>\n",
       "      <td>NaN</td>\n",
       "      <td>NaN</td>\n",
       "    </tr>\n",
       "    <tr>\n",
       "      <th>2</th>\n",
       "      <td>2018.06.09</td>\n",
       "      <td>09-Jun-2018</td>\n",
       "      <td>2018.0</td>\n",
       "      <td>Invalid</td>\n",
       "      <td>USA</td>\n",
       "      <td>Hawaii</td>\n",
       "      <td>Habush, Oahu</td>\n",
       "      <td>Surfing</td>\n",
       "      <td>John Denges</td>\n",
       "      <td>M</td>\n",
       "      <td>...</td>\n",
       "      <td>NaN</td>\n",
       "      <td>K.McMurray, TrackingSharks.com</td>\n",
       "      <td>2018.06.09-Denges.pdf</td>\n",
       "      <td>http://sharkattackfile.net/spreadsheets/pdf_di...</td>\n",
       "      <td>http://sharkattackfile.net/spreadsheets/pdf_di...</td>\n",
       "      <td>2018.06.09</td>\n",
       "      <td>2018.06.09</td>\n",
       "      <td>6301.0</td>\n",
       "      <td>NaN</td>\n",
       "      <td>NaN</td>\n",
       "    </tr>\n",
       "    <tr>\n",
       "      <th>3</th>\n",
       "      <td>2018.06.08</td>\n",
       "      <td>08-Jun-2018</td>\n",
       "      <td>2018.0</td>\n",
       "      <td>Unprovoked</td>\n",
       "      <td>AUSTRALIA</td>\n",
       "      <td>New South Wales</td>\n",
       "      <td>Arrawarra Headland</td>\n",
       "      <td>Surfing</td>\n",
       "      <td>male</td>\n",
       "      <td>M</td>\n",
       "      <td>...</td>\n",
       "      <td>2 m shark</td>\n",
       "      <td>B. Myatt, GSAF</td>\n",
       "      <td>2018.06.08-Arrawarra.pdf</td>\n",
       "      <td>http://sharkattackfile.net/spreadsheets/pdf_di...</td>\n",
       "      <td>http://sharkattackfile.net/spreadsheets/pdf_di...</td>\n",
       "      <td>2018.06.08</td>\n",
       "      <td>2018.06.08</td>\n",
       "      <td>6300.0</td>\n",
       "      <td>NaN</td>\n",
       "      <td>NaN</td>\n",
       "    </tr>\n",
       "    <tr>\n",
       "      <th>4</th>\n",
       "      <td>2018.06.04</td>\n",
       "      <td>04-Jun-2018</td>\n",
       "      <td>2018.0</td>\n",
       "      <td>Provoked</td>\n",
       "      <td>MEXICO</td>\n",
       "      <td>Colima</td>\n",
       "      <td>La Ticla</td>\n",
       "      <td>Free diving</td>\n",
       "      <td>Gustavo Ramos</td>\n",
       "      <td>M</td>\n",
       "      <td>...</td>\n",
       "      <td>Tiger shark, 3m</td>\n",
       "      <td>A .Kipper</td>\n",
       "      <td>2018.06.04-Ramos.pdf</td>\n",
       "      <td>http://sharkattackfile.net/spreadsheets/pdf_di...</td>\n",
       "      <td>http://sharkattackfile.net/spreadsheets/pdf_di...</td>\n",
       "      <td>2018.06.04</td>\n",
       "      <td>2018.06.04</td>\n",
       "      <td>6299.0</td>\n",
       "      <td>NaN</td>\n",
       "      <td>NaN</td>\n",
       "    </tr>\n",
       "    <tr>\n",
       "      <th>...</th>\n",
       "      <td>...</td>\n",
       "      <td>...</td>\n",
       "      <td>...</td>\n",
       "      <td>...</td>\n",
       "      <td>...</td>\n",
       "      <td>...</td>\n",
       "      <td>...</td>\n",
       "      <td>...</td>\n",
       "      <td>...</td>\n",
       "      <td>...</td>\n",
       "      <td>...</td>\n",
       "      <td>...</td>\n",
       "      <td>...</td>\n",
       "      <td>...</td>\n",
       "      <td>...</td>\n",
       "      <td>...</td>\n",
       "      <td>...</td>\n",
       "      <td>...</td>\n",
       "      <td>...</td>\n",
       "      <td>...</td>\n",
       "      <td>...</td>\n",
       "    </tr>\n",
       "    <tr>\n",
       "      <th>75</th>\n",
       "      <td>2017.10.05</td>\n",
       "      <td>05-Oct-2017</td>\n",
       "      <td>2017.0</td>\n",
       "      <td>Unprovoked</td>\n",
       "      <td>USA</td>\n",
       "      <td>Hawaii</td>\n",
       "      <td>Kamaole Beach Park, Maui</td>\n",
       "      <td>Snorkeling</td>\n",
       "      <td>female</td>\n",
       "      <td>F</td>\n",
       "      <td>...</td>\n",
       "      <td>8' shark</td>\n",
       "      <td>Maui Now, 10/5/2017</td>\n",
       "      <td>2017.10.05-Hawaii.pdf</td>\n",
       "      <td>http://sharkattackfile.net/spreadsheets/pdf_di...</td>\n",
       "      <td>http://sharkattackfile.net/spreadsheets/pdf_di...</td>\n",
       "      <td>2017.10.05</td>\n",
       "      <td>2017.10.05</td>\n",
       "      <td>6228.0</td>\n",
       "      <td>NaN</td>\n",
       "      <td>NaN</td>\n",
       "    </tr>\n",
       "    <tr>\n",
       "      <th>76</th>\n",
       "      <td>2017.10.01</td>\n",
       "      <td>01-Oct-2017</td>\n",
       "      <td>2017.0</td>\n",
       "      <td>Invalid</td>\n",
       "      <td>SOUTH AFRICA</td>\n",
       "      <td>Western Cape Province</td>\n",
       "      <td>Dyer Island</td>\n",
       "      <td>Scuba Diving</td>\n",
       "      <td>Bradley Fick</td>\n",
       "      <td>M</td>\n",
       "      <td>...</td>\n",
       "      <td>Death may have been due to drowning</td>\n",
       "      <td>All Africa, 10/11/2017</td>\n",
       "      <td>2017.10.01-Fick.pdf</td>\n",
       "      <td>http://sharkattackfile.net/spreadsheets/pdf_di...</td>\n",
       "      <td>http://sharkattackfile.net/spreadsheets/pdf_di...</td>\n",
       "      <td>2017.10.01</td>\n",
       "      <td>2017.10.01</td>\n",
       "      <td>6227.0</td>\n",
       "      <td>NaN</td>\n",
       "      <td>NaN</td>\n",
       "    </tr>\n",
       "    <tr>\n",
       "      <th>77</th>\n",
       "      <td>2017.09.25.b</td>\n",
       "      <td>25-Sep-2017</td>\n",
       "      <td>2017.0</td>\n",
       "      <td>Unprovoked</td>\n",
       "      <td>USA</td>\n",
       "      <td>Florida</td>\n",
       "      <td>Hanna Park, Jacksonville, Duval County</td>\n",
       "      <td>Surfing</td>\n",
       "      <td>Justin White</td>\n",
       "      <td>M</td>\n",
       "      <td>...</td>\n",
       "      <td>5' shark</td>\n",
       "      <td>News4Jax, 9/26/2017</td>\n",
       "      <td>2017.09.25.b-White.pdf</td>\n",
       "      <td>http://sharkattackfile.net/spreadsheets/pdf_di...</td>\n",
       "      <td>http://sharkattackfile.net/spreadsheets/pdf_di...</td>\n",
       "      <td>2017.09.25.b</td>\n",
       "      <td>2017.09.25.b</td>\n",
       "      <td>6226.0</td>\n",
       "      <td>NaN</td>\n",
       "      <td>NaN</td>\n",
       "    </tr>\n",
       "    <tr>\n",
       "      <th>78</th>\n",
       "      <td>2017.09.25.a</td>\n",
       "      <td>25-Sep-2017</td>\n",
       "      <td>2017.0</td>\n",
       "      <td>Unprovoked</td>\n",
       "      <td>AUSTRALIA</td>\n",
       "      <td>Western Australia</td>\n",
       "      <td>Gracetown</td>\n",
       "      <td>Surfing</td>\n",
       "      <td>Catherine Vissers</td>\n",
       "      <td>M</td>\n",
       "      <td>...</td>\n",
       "      <td>White shark, 3.5 m</td>\n",
       "      <td>Stab Magazine, 9/26/2017</td>\n",
       "      <td>2017.09.25.a-Vissers.pdf</td>\n",
       "      <td>http://sharkattackfile.net/spreadsheets/pdf_di...</td>\n",
       "      <td>http://sharkattackfile.net/spreadsheets/pdf_di...</td>\n",
       "      <td>2017.09.25.a</td>\n",
       "      <td>2017.09.25.a</td>\n",
       "      <td>6225.0</td>\n",
       "      <td>NaN</td>\n",
       "      <td>NaN</td>\n",
       "    </tr>\n",
       "    <tr>\n",
       "      <th>79</th>\n",
       "      <td>2017.09.24.b</td>\n",
       "      <td>24-Sep-2017</td>\n",
       "      <td>2017.0</td>\n",
       "      <td>Invalid</td>\n",
       "      <td>USA</td>\n",
       "      <td>New York</td>\n",
       "      <td>Rockaway</td>\n",
       "      <td>Surfing</td>\n",
       "      <td>Michah Behrend</td>\n",
       "      <td>M</td>\n",
       "      <td>...</td>\n",
       "      <td>Questionable</td>\n",
       "      <td>S. Curatolo-Wageman, GSAF</td>\n",
       "      <td>2017.09.24.b-Behrend.pdf</td>\n",
       "      <td>http://sharkattackfile.net/spreadsheets/pdf_di...</td>\n",
       "      <td>http://sharkattackfile.net/spreadsheets/pdf_di...</td>\n",
       "      <td>2017.09.24.b</td>\n",
       "      <td>2017.09.24.b</td>\n",
       "      <td>6224.0</td>\n",
       "      <td>NaN</td>\n",
       "      <td>NaN</td>\n",
       "    </tr>\n",
       "  </tbody>\n",
       "</table>\n",
       "<p>80 rows × 24 columns</p>\n",
       "</div>"
      ],
      "text/plain": [
       "     Case Number         Date    Year        Type       Country  \\\n",
       "0     2018.06.25  25-Jun-2018  2018.0     Boating           USA   \n",
       "1     2018.06.18  18-Jun-2018  2018.0  Unprovoked           USA   \n",
       "2     2018.06.09  09-Jun-2018  2018.0     Invalid           USA   \n",
       "3     2018.06.08  08-Jun-2018  2018.0  Unprovoked     AUSTRALIA   \n",
       "4     2018.06.04  04-Jun-2018  2018.0    Provoked        MEXICO   \n",
       "..           ...          ...     ...         ...           ...   \n",
       "75    2017.10.05  05-Oct-2017  2017.0  Unprovoked           USA   \n",
       "76    2017.10.01  01-Oct-2017  2017.0     Invalid  SOUTH AFRICA   \n",
       "77  2017.09.25.b  25-Sep-2017  2017.0  Unprovoked           USA   \n",
       "78  2017.09.25.a  25-Sep-2017  2017.0  Unprovoked     AUSTRALIA   \n",
       "79  2017.09.24.b  24-Sep-2017  2017.0     Invalid           USA   \n",
       "\n",
       "                     Area                                Location  \\\n",
       "0              California             Oceanside, San Diego County   \n",
       "1                 Georgia          St. Simon Island, Glynn County   \n",
       "2                  Hawaii                            Habush, Oahu   \n",
       "3         New South Wales                      Arrawarra Headland   \n",
       "4                  Colima                                La Ticla   \n",
       "..                    ...                                     ...   \n",
       "75                 Hawaii              Kamaole Beach Park, Maui    \n",
       "76  Western Cape Province                             Dyer Island   \n",
       "77                Florida  Hanna Park, Jacksonville, Duval County   \n",
       "78      Western Australia                               Gracetown   \n",
       "79               New York                                Rockaway   \n",
       "\n",
       "        Activity               Name Sex   ...  \\\n",
       "0       Paddling        Julie Wolfe    F  ...   \n",
       "1       Standing    Adyson McNeely     F  ...   \n",
       "2        Surfing        John Denges    M  ...   \n",
       "3        Surfing               male    M  ...   \n",
       "4    Free diving     Gustavo Ramos     M  ...   \n",
       "..           ...                ...  ...  ...   \n",
       "75    Snorkeling             female    F  ...   \n",
       "76  Scuba Diving       Bradley Fick    M  ...   \n",
       "77       Surfing       Justin White    M  ...   \n",
       "78       Surfing  Catherine Vissers    M  ...   \n",
       "79       Surfing     Michah Behrend    M  ...   \n",
       "\n",
       "                               Species           Investigator or Source  \\\n",
       "0                           White shark                R. Collier, GSAF   \n",
       "1                                   NaN  K.McMurray, TrackingSharks.com   \n",
       "2                                   NaN  K.McMurray, TrackingSharks.com   \n",
       "3                             2 m shark                  B. Myatt, GSAF   \n",
       "4                       Tiger shark, 3m                       A .Kipper   \n",
       "..                                  ...                             ...   \n",
       "75                             8' shark             Maui Now, 10/5/2017   \n",
       "76  Death may have been due to drowning         All Africa, 10/11/2017    \n",
       "77                             5' shark             News4Jax, 9/26/2017   \n",
       "78                   White shark, 3.5 m        Stab Magazine, 9/26/2017   \n",
       "79                         Questionable       S. Curatolo-Wageman, GSAF   \n",
       "\n",
       "                         pdf  \\\n",
       "0       2018.06.25-Wolfe.pdf   \n",
       "1     2018.06.18-McNeely.pdf   \n",
       "2      2018.06.09-Denges.pdf   \n",
       "3   2018.06.08-Arrawarra.pdf   \n",
       "4       2018.06.04-Ramos.pdf   \n",
       "..                       ...   \n",
       "75     2017.10.05-Hawaii.pdf   \n",
       "76       2017.10.01-Fick.pdf   \n",
       "77    2017.09.25.b-White.pdf   \n",
       "78  2017.09.25.a-Vissers.pdf   \n",
       "79  2017.09.24.b-Behrend.pdf   \n",
       "\n",
       "                                         href formula  \\\n",
       "0   http://sharkattackfile.net/spreadsheets/pdf_di...   \n",
       "1   http://sharkattackfile.net/spreadsheets/pdf_di...   \n",
       "2   http://sharkattackfile.net/spreadsheets/pdf_di...   \n",
       "3   http://sharkattackfile.net/spreadsheets/pdf_di...   \n",
       "4   http://sharkattackfile.net/spreadsheets/pdf_di...   \n",
       "..                                                ...   \n",
       "75  http://sharkattackfile.net/spreadsheets/pdf_di...   \n",
       "76  http://sharkattackfile.net/spreadsheets/pdf_di...   \n",
       "77  http://sharkattackfile.net/spreadsheets/pdf_di...   \n",
       "78  http://sharkattackfile.net/spreadsheets/pdf_di...   \n",
       "79  http://sharkattackfile.net/spreadsheets/pdf_di...   \n",
       "\n",
       "                                                 href Case Number.1  \\\n",
       "0   http://sharkattackfile.net/spreadsheets/pdf_di...    2018.06.25   \n",
       "1   http://sharkattackfile.net/spreadsheets/pdf_di...    2018.06.18   \n",
       "2   http://sharkattackfile.net/spreadsheets/pdf_di...    2018.06.09   \n",
       "3   http://sharkattackfile.net/spreadsheets/pdf_di...    2018.06.08   \n",
       "4   http://sharkattackfile.net/spreadsheets/pdf_di...    2018.06.04   \n",
       "..                                                ...           ...   \n",
       "75  http://sharkattackfile.net/spreadsheets/pdf_di...    2017.10.05   \n",
       "76  http://sharkattackfile.net/spreadsheets/pdf_di...    2017.10.01   \n",
       "77  http://sharkattackfile.net/spreadsheets/pdf_di...  2017.09.25.b   \n",
       "78  http://sharkattackfile.net/spreadsheets/pdf_di...  2017.09.25.a   \n",
       "79  http://sharkattackfile.net/spreadsheets/pdf_di...  2017.09.24.b   \n",
       "\n",
       "   Case Number.2 original order Unnamed: 22 Unnamed: 23  \n",
       "0     2018.06.25         6303.0         NaN         NaN  \n",
       "1     2018.06.18         6302.0         NaN         NaN  \n",
       "2     2018.06.09         6301.0         NaN         NaN  \n",
       "3     2018.06.08         6300.0         NaN         NaN  \n",
       "4     2018.06.04         6299.0         NaN         NaN  \n",
       "..           ...            ...         ...         ...  \n",
       "75    2017.10.05         6228.0         NaN         NaN  \n",
       "76    2017.10.01         6227.0         NaN         NaN  \n",
       "77  2017.09.25.b         6226.0         NaN         NaN  \n",
       "78  2017.09.25.a         6225.0         NaN         NaN  \n",
       "79  2017.09.24.b         6224.0         NaN         NaN  \n",
       "\n",
       "[80 rows x 24 columns]"
      ]
     },
     "execution_count": 3,
     "metadata": {},
     "output_type": "execute_result"
    }
   ],
   "source": [
    "df.head(80)"
   ]
  },
  {
   "cell_type": "code",
   "execution_count": 4,
   "metadata": {
    "ExecuteTime": {
     "end_time": "2021-01-04T21:51:10.485823Z",
     "start_time": "2021-01-04T21:51:10.476853Z"
    },
    "cell_style": "center"
   },
   "outputs": [
    {
     "data": {
      "text/plain": [
       "(25723, 24)"
      ]
     },
     "execution_count": 4,
     "metadata": {},
     "output_type": "execute_result"
    }
   ],
   "source": [
    "df.shape"
   ]
  },
  {
   "cell_type": "code",
   "execution_count": 5,
   "metadata": {
    "ExecuteTime": {
     "end_time": "2021-01-04T21:51:13.120902Z",
     "start_time": "2021-01-04T21:51:13.100247Z"
    },
    "cell_style": "split",
    "scrolled": true
   },
   "outputs": [
    {
     "data": {
      "text/plain": [
       "Case Number                object\n",
       "Date                       object\n",
       "Year                      float64\n",
       "Type                       object\n",
       "Country                    object\n",
       "Area                       object\n",
       "Location                   object\n",
       "Activity                   object\n",
       "Name                       object\n",
       "Sex                        object\n",
       "Age                        object\n",
       "Injury                     object\n",
       "Fatal (Y/N)                object\n",
       "Time                       object\n",
       "Species                    object\n",
       "Investigator or Source     object\n",
       "pdf                        object\n",
       "href formula               object\n",
       "href                       object\n",
       "Case Number.1              object\n",
       "Case Number.2              object\n",
       "original order            float64\n",
       "Unnamed: 22                object\n",
       "Unnamed: 23                object\n",
       "dtype: object"
      ]
     },
     "execution_count": 5,
     "metadata": {},
     "output_type": "execute_result"
    }
   ],
   "source": [
    "df.dtypes"
   ]
  },
  {
   "cell_type": "code",
   "execution_count": 6,
   "metadata": {
    "ExecuteTime": {
     "end_time": "2021-01-04T21:51:15.942951Z",
     "start_time": "2021-01-04T21:51:15.924969Z"
    },
    "cell_style": "split",
    "scrolled": true
   },
   "outputs": [
    {
     "data": {
      "text/plain": [
       "Index(['Case Number', 'Date', 'Year', 'Type', 'Country', 'Area', 'Location',\n",
       "       'Activity', 'Name', 'Sex ', 'Age', 'Injury', 'Fatal (Y/N)', 'Time',\n",
       "       'Species ', 'Investigator or Source', 'pdf', 'href formula', 'href',\n",
       "       'Case Number.1', 'Case Number.2', 'original order', 'Unnamed: 22',\n",
       "       'Unnamed: 23'],\n",
       "      dtype='object')"
      ]
     },
     "execution_count": 6,
     "metadata": {},
     "output_type": "execute_result"
    }
   ],
   "source": [
    "df.columns"
   ]
  },
  {
   "cell_type": "markdown",
   "metadata": {},
   "source": [
    "# DROP - Excluindo colunas irrelevantes ou redundantes"
   ]
  },
  {
   "cell_type": "code",
   "execution_count": 7,
   "metadata": {
    "ExecuteTime": {
     "end_time": "2021-01-04T21:51:17.215420Z",
     "start_time": "2021-01-04T21:51:17.204453Z"
    },
    "cell_style": "center"
   },
   "outputs": [
    {
     "data": {
      "text/plain": [
       "True     25722\n",
       "False        1\n",
       "Name: Unnamed: 22, dtype: int64"
      ]
     },
     "execution_count": 7,
     "metadata": {},
     "output_type": "execute_result"
    }
   ],
   "source": [
    "#testando valores nulos\n",
    "df['Unnamed: 22'].isnull().value_counts()"
   ]
  },
  {
   "cell_type": "code",
   "execution_count": 8,
   "metadata": {
    "ExecuteTime": {
     "end_time": "2021-01-04T21:51:18.423021Z",
     "start_time": "2021-01-04T21:51:18.375148Z"
    },
    "scrolled": true
   },
   "outputs": [
    {
     "data": {
      "text/plain": [
       "Case Number               17021\n",
       "Date                      19421\n",
       "Year                      19423\n",
       "Type                      19425\n",
       "Country                   19471\n",
       "Area                      19876\n",
       "Location                  19961\n",
       "Activity                  19965\n",
       "Name                      19631\n",
       "Sex                       19986\n",
       "Age                       22252\n",
       "Injury                    19449\n",
       "Fatal (Y/N)               19960\n",
       "Time                      22775\n",
       "Species                   22259\n",
       "Investigator or Source    19438\n",
       "pdf                       19421\n",
       "href formula              19422\n",
       "href                      19421\n",
       "Case Number.1             19421\n",
       "Case Number.2             19421\n",
       "original order            19414\n",
       "Unnamed: 22               25722\n",
       "Unnamed: 23               25721\n",
       "dtype: int64"
      ]
     },
     "execution_count": 8,
     "metadata": {},
     "output_type": "execute_result"
    }
   ],
   "source": [
    "df.isnull().sum()"
   ]
  },
  {
   "cell_type": "code",
   "execution_count": 9,
   "metadata": {
    "ExecuteTime": {
     "end_time": "2021-01-04T21:51:19.046381Z",
     "start_time": "2021-01-04T21:51:19.034383Z"
    }
   },
   "outputs": [],
   "source": [
    "#droppando colunas desnecessárias\n",
    "df.drop(['Investigator or Source', 'pdf', 'href formula', 'href','Case Number.1', 'Case Number.2', 'original order', 'Unnamed: 22','Unnamed: 23', 'Case Number'],axis=1,inplace=True)"
   ]
  },
  {
   "cell_type": "markdown",
   "metadata": {},
   "source": [
    "# Novo DataFrame - removido as colunas:\n",
    "\n",
    "    'Investigator or Source', 'pdf', 'href formula', 'href','Case Number.1', 'Case Number.2', 'original order', 'Unnamed: 22','Unnamed: 23', 'Case Number'"
   ]
  },
  {
   "cell_type": "code",
   "execution_count": 10,
   "metadata": {
    "ExecuteTime": {
     "end_time": "2021-01-04T21:51:20.827680Z",
     "start_time": "2021-01-04T21:51:20.801748Z"
    },
    "scrolled": false
   },
   "outputs": [
    {
     "data": {
      "text/html": [
       "<div>\n",
       "<style scoped>\n",
       "    .dataframe tbody tr th:only-of-type {\n",
       "        vertical-align: middle;\n",
       "    }\n",
       "\n",
       "    .dataframe tbody tr th {\n",
       "        vertical-align: top;\n",
       "    }\n",
       "\n",
       "    .dataframe thead th {\n",
       "        text-align: right;\n",
       "    }\n",
       "</style>\n",
       "<table border=\"1\" class=\"dataframe\">\n",
       "  <thead>\n",
       "    <tr style=\"text-align: right;\">\n",
       "      <th></th>\n",
       "      <th>Date</th>\n",
       "      <th>Year</th>\n",
       "      <th>Type</th>\n",
       "      <th>Country</th>\n",
       "      <th>Area</th>\n",
       "      <th>Location</th>\n",
       "      <th>Activity</th>\n",
       "      <th>Name</th>\n",
       "      <th>Sex</th>\n",
       "      <th>Age</th>\n",
       "      <th>Injury</th>\n",
       "      <th>Fatal (Y/N)</th>\n",
       "      <th>Time</th>\n",
       "      <th>Species</th>\n",
       "    </tr>\n",
       "  </thead>\n",
       "  <tbody>\n",
       "    <tr>\n",
       "      <th>0</th>\n",
       "      <td>25-Jun-2018</td>\n",
       "      <td>2018.0</td>\n",
       "      <td>Boating</td>\n",
       "      <td>USA</td>\n",
       "      <td>California</td>\n",
       "      <td>Oceanside, San Diego County</td>\n",
       "      <td>Paddling</td>\n",
       "      <td>Julie Wolfe</td>\n",
       "      <td>F</td>\n",
       "      <td>57</td>\n",
       "      <td>No injury to occupant, outrigger canoe and pad...</td>\n",
       "      <td>N</td>\n",
       "      <td>18h00</td>\n",
       "      <td>White shark</td>\n",
       "    </tr>\n",
       "    <tr>\n",
       "      <th>1</th>\n",
       "      <td>18-Jun-2018</td>\n",
       "      <td>2018.0</td>\n",
       "      <td>Unprovoked</td>\n",
       "      <td>USA</td>\n",
       "      <td>Georgia</td>\n",
       "      <td>St. Simon Island, Glynn County</td>\n",
       "      <td>Standing</td>\n",
       "      <td>Adyson McNeely</td>\n",
       "      <td>F</td>\n",
       "      <td>11</td>\n",
       "      <td>Minor injury to left thigh</td>\n",
       "      <td>N</td>\n",
       "      <td>14h00  -15h00</td>\n",
       "      <td>NaN</td>\n",
       "    </tr>\n",
       "    <tr>\n",
       "      <th>2</th>\n",
       "      <td>09-Jun-2018</td>\n",
       "      <td>2018.0</td>\n",
       "      <td>Invalid</td>\n",
       "      <td>USA</td>\n",
       "      <td>Hawaii</td>\n",
       "      <td>Habush, Oahu</td>\n",
       "      <td>Surfing</td>\n",
       "      <td>John Denges</td>\n",
       "      <td>M</td>\n",
       "      <td>48</td>\n",
       "      <td>Injury to left lower leg from surfboard skeg</td>\n",
       "      <td>N</td>\n",
       "      <td>07h45</td>\n",
       "      <td>NaN</td>\n",
       "    </tr>\n",
       "  </tbody>\n",
       "</table>\n",
       "</div>"
      ],
      "text/plain": [
       "          Date    Year        Type Country        Area  \\\n",
       "0  25-Jun-2018  2018.0     Boating     USA  California   \n",
       "1  18-Jun-2018  2018.0  Unprovoked     USA     Georgia   \n",
       "2  09-Jun-2018  2018.0     Invalid     USA      Hawaii   \n",
       "\n",
       "                         Location  Activity             Name Sex  Age  \\\n",
       "0     Oceanside, San Diego County  Paddling      Julie Wolfe    F  57   \n",
       "1  St. Simon Island, Glynn County  Standing  Adyson McNeely     F  11   \n",
       "2                    Habush, Oahu   Surfing      John Denges    M  48   \n",
       "\n",
       "                                              Injury Fatal (Y/N)  \\\n",
       "0  No injury to occupant, outrigger canoe and pad...           N   \n",
       "1                         Minor injury to left thigh           N   \n",
       "2       Injury to left lower leg from surfboard skeg           N   \n",
       "\n",
       "            Time     Species   \n",
       "0          18h00  White shark  \n",
       "1  14h00  -15h00          NaN  \n",
       "2          07h45          NaN  "
      ]
     },
     "execution_count": 10,
     "metadata": {},
     "output_type": "execute_result"
    }
   ],
   "source": [
    "df.head(3)"
   ]
  },
  {
   "cell_type": "code",
   "execution_count": 11,
   "metadata": {
    "ExecuteTime": {
     "end_time": "2021-01-04T21:51:22.113944Z",
     "start_time": "2021-01-04T21:51:22.099602Z"
    },
    "scrolled": false
   },
   "outputs": [
    {
     "data": {
      "text/plain": [
       "Index(['Date', 'Year', 'Type', 'Country', 'Area', 'Location', 'Activity',\n",
       "       'Name', 'Sex ', 'Age', 'Injury', 'Fatal (Y/N)', 'Time', 'Species '],\n",
       "      dtype='object')"
      ]
     },
     "execution_count": 11,
     "metadata": {},
     "output_type": "execute_result"
    }
   ],
   "source": [
    "df.columns"
   ]
  },
  {
   "cell_type": "code",
   "execution_count": 12,
   "metadata": {
    "ExecuteTime": {
     "end_time": "2021-01-04T21:51:22.784105Z",
     "start_time": "2021-01-04T21:51:22.771139Z"
    }
   },
   "outputs": [],
   "source": [
    "#padronizando nomes das colunas em letras minúsculas e sem espaços\n",
    "colnames = []\n",
    "for col in df.columns:\n",
    "    colnames.append(col.lower())"
   ]
  },
  {
   "cell_type": "code",
   "execution_count": 13,
   "metadata": {
    "ExecuteTime": {
     "end_time": "2021-01-04T21:51:23.292815Z",
     "start_time": "2021-01-04T21:51:23.272866Z"
    }
   },
   "outputs": [],
   "source": [
    "df.columns = [col.lower().replace(' ','') for col in df.columns]"
   ]
  },
  {
   "cell_type": "code",
   "execution_count": 14,
   "metadata": {
    "ExecuteTime": {
     "end_time": "2021-01-04T21:51:23.849421Z",
     "start_time": "2021-01-04T21:51:23.838453Z"
    }
   },
   "outputs": [],
   "source": [
    "#alterando de SEX para GENDER\n",
    "df.rename(columns = {'sex':'gender'}, inplace = True)\n",
    "df.rename(columns = {'fatal(y/n)':'fatality'}, inplace = True)"
   ]
  },
  {
   "cell_type": "markdown",
   "metadata": {},
   "source": [
    "# Removendo as linhas em que todas as colunas são nulas --- NaN"
   ]
  },
  {
   "cell_type": "code",
   "execution_count": 15,
   "metadata": {
    "ExecuteTime": {
     "end_time": "2021-01-04T21:51:25.105285Z",
     "start_time": "2021-01-04T21:51:25.044450Z"
    }
   },
   "outputs": [],
   "source": [
    "#removendo as linhas em que todas as colunas são nulas --- NaN\n",
    "df.dropna(how='all', inplace=True)"
   ]
  },
  {
   "cell_type": "code",
   "execution_count": 16,
   "metadata": {
    "ExecuteTime": {
     "end_time": "2021-01-04T21:51:25.943358Z",
     "start_time": "2021-01-04T21:51:25.918394Z"
    }
   },
   "outputs": [
    {
     "name": "stdout",
     "output_type": "stream",
     "text": [
      "date         0.000000\n",
      "year         0.031736\n",
      "type         0.063472\n",
      "country      0.793399\n",
      "area         7.219930\n",
      "location     8.568708\n",
      "activity     8.632180\n",
      "name         3.332275\n",
      "gender       8.965408\n",
      "age         44.922247\n",
      "injury       0.444303\n",
      "fatality     8.552840\n",
      "time        53.221200\n",
      "species     45.033323\n",
      "dtype: float64\n"
     ]
    }
   ],
   "source": [
    "faltantes = (df.isnull().sum() / (len(df['date'])))*100\n",
    "print(faltantes)"
   ]
  },
  {
   "cell_type": "markdown",
   "metadata": {},
   "source": [
    "# Verificando valores de cada coluna"
   ]
  },
  {
   "cell_type": "code",
   "execution_count": 17,
   "metadata": {
    "ExecuteTime": {
     "end_time": "2021-01-04T21:51:27.492739Z",
     "start_time": "2021-01-04T21:51:27.482768Z"
    },
    "cell_style": "split"
   },
   "outputs": [
    {
     "data": {
      "text/plain": [
       "False    6302\n",
       "Name: date, dtype: int64"
      ]
     },
     "execution_count": 17,
     "metadata": {},
     "output_type": "execute_result"
    }
   ],
   "source": [
    "#100% dos casos possuem datas\n",
    "df['date'].isnull().value_counts()"
   ]
  },
  {
   "cell_type": "code",
   "execution_count": 18,
   "metadata": {
    "ExecuteTime": {
     "end_time": "2021-01-04T21:51:28.129847Z",
     "start_time": "2021-01-04T21:51:28.120871Z"
    },
    "cell_style": "split"
   },
   "outputs": [
    {
     "data": {
      "text/plain": [
       "False    6300\n",
       "True        2\n",
       "Name: year, dtype: int64"
      ]
     },
     "execution_count": 18,
     "metadata": {},
     "output_type": "execute_result"
    }
   ],
   "source": [
    "#não há informação de ano para 2 casos\n",
    "df['year'].isnull().value_counts()"
   ]
  },
  {
   "cell_type": "code",
   "execution_count": 19,
   "metadata": {
    "ExecuteTime": {
     "end_time": "2021-01-04T21:51:28.719656Z",
     "start_time": "2021-01-04T21:51:28.707688Z"
    },
    "cell_style": "split"
   },
   "outputs": [
    {
     "data": {
      "text/plain": [
       "False    6298\n",
       "True        4\n",
       "Name: type, dtype: int64"
      ]
     },
     "execution_count": 19,
     "metadata": {},
     "output_type": "execute_result"
    }
   ],
   "source": [
    "#não há informação de tipo para 4 casos\n",
    "df['type'].isnull().value_counts()"
   ]
  },
  {
   "cell_type": "code",
   "execution_count": 20,
   "metadata": {
    "ExecuteTime": {
     "end_time": "2021-01-04T21:51:29.446619Z",
     "start_time": "2021-01-04T21:51:29.423680Z"
    },
    "cell_style": "split"
   },
   "outputs": [
    {
     "data": {
      "text/plain": [
       "False    6252\n",
       "True       50\n",
       "Name: country, dtype: int64"
      ]
     },
     "execution_count": 20,
     "metadata": {},
     "output_type": "execute_result"
    }
   ],
   "source": [
    "#não há informação de país para 50 casos\n",
    "df['country'].isnull().value_counts()"
   ]
  },
  {
   "cell_type": "code",
   "execution_count": 21,
   "metadata": {
    "ExecuteTime": {
     "end_time": "2021-01-04T21:51:30.067355Z",
     "start_time": "2021-01-04T21:51:30.055391Z"
    },
    "cell_style": "split"
   },
   "outputs": [
    {
     "data": {
      "text/plain": [
       "False    5847\n",
       "True      455\n",
       "Name: area, dtype: int64"
      ]
     },
     "execution_count": 21,
     "metadata": {},
     "output_type": "execute_result"
    }
   ],
   "source": [
    "#não há informação de area para 455 casos\n",
    "df['area'].isnull().value_counts()"
   ]
  },
  {
   "cell_type": "code",
   "execution_count": 22,
   "metadata": {
    "ExecuteTime": {
     "end_time": "2021-01-04T21:51:30.534143Z",
     "start_time": "2021-01-04T21:51:30.523172Z"
    },
    "cell_style": "split"
   },
   "outputs": [
    {
     "data": {
      "text/plain": [
       "False    5762\n",
       "True      540\n",
       "Name: location, dtype: int64"
      ]
     },
     "execution_count": 22,
     "metadata": {},
     "output_type": "execute_result"
    }
   ],
   "source": [
    "#não há informação de localização para 540 casos\n",
    "df['location'].isnull().value_counts()"
   ]
  },
  {
   "cell_type": "code",
   "execution_count": 23,
   "metadata": {
    "ExecuteTime": {
     "end_time": "2021-01-04T21:51:30.952110Z",
     "start_time": "2021-01-04T21:51:30.935147Z"
    },
    "cell_style": "split"
   },
   "outputs": [
    {
     "data": {
      "text/plain": [
       "False    5758\n",
       "True      544\n",
       "Name: activity, dtype: int64"
      ]
     },
     "execution_count": 23,
     "metadata": {},
     "output_type": "execute_result"
    }
   ],
   "source": [
    "#não há informação de atividade para 544 casos\n",
    "df['activity'].isnull().value_counts()"
   ]
  },
  {
   "cell_type": "code",
   "execution_count": 24,
   "metadata": {
    "ExecuteTime": {
     "end_time": "2021-01-04T21:51:31.447238Z",
     "start_time": "2021-01-04T21:51:31.428247Z"
    },
    "cell_style": "split"
   },
   "outputs": [
    {
     "data": {
      "text/plain": [
       "False    6092\n",
       "True      210\n",
       "Name: name, dtype: int64"
      ]
     },
     "execution_count": 24,
     "metadata": {},
     "output_type": "execute_result"
    }
   ],
   "source": [
    "#não há informação de nome pessoa para 210 casos\n",
    "df['name'].isnull().value_counts()"
   ]
  },
  {
   "cell_type": "code",
   "execution_count": 25,
   "metadata": {
    "ExecuteTime": {
     "end_time": "2021-01-04T21:51:31.927561Z",
     "start_time": "2021-01-04T21:51:31.909610Z"
    },
    "cell_style": "split"
   },
   "outputs": [
    {
     "data": {
      "text/plain": [
       "False    5737\n",
       "True      565\n",
       "Name: gender, dtype: int64"
      ]
     },
     "execution_count": 25,
     "metadata": {},
     "output_type": "execute_result"
    }
   ],
   "source": [
    "#não há informação de gênero para 565 casos\n",
    "df['gender'].isnull().value_counts()"
   ]
  },
  {
   "cell_type": "code",
   "execution_count": 26,
   "metadata": {
    "ExecuteTime": {
     "end_time": "2021-01-04T21:51:32.407905Z",
     "start_time": "2021-01-04T21:51:32.390949Z"
    },
    "cell_style": "split"
   },
   "outputs": [
    {
     "data": {
      "text/plain": [
       "False    3471\n",
       "True     2831\n",
       "Name: age, dtype: int64"
      ]
     },
     "execution_count": 26,
     "metadata": {},
     "output_type": "execute_result"
    }
   ],
   "source": [
    "#não há informação de idade para 2831 casos\n",
    "df['age'].isnull().value_counts()"
   ]
  },
  {
   "cell_type": "code",
   "execution_count": 27,
   "metadata": {
    "ExecuteTime": {
     "end_time": "2021-01-04T21:51:32.887595Z",
     "start_time": "2021-01-04T21:51:32.872666Z"
    },
    "cell_style": "split"
   },
   "outputs": [
    {
     "data": {
      "text/plain": [
       "False    6274\n",
       "True       28\n",
       "Name: injury, dtype: int64"
      ]
     },
     "execution_count": 27,
     "metadata": {},
     "output_type": "execute_result"
    }
   ],
   "source": [
    "#não há informação de dano para 28 casos\n",
    "df['injury'].isnull().value_counts()"
   ]
  },
  {
   "cell_type": "code",
   "execution_count": 28,
   "metadata": {
    "ExecuteTime": {
     "end_time": "2021-01-04T21:51:33.435132Z",
     "start_time": "2021-01-04T21:51:33.412192Z"
    },
    "cell_style": "split"
   },
   "outputs": [
    {
     "data": {
      "text/plain": [
       "False    5763\n",
       "True      539\n",
       "Name: fatality, dtype: int64"
      ]
     },
     "execution_count": 28,
     "metadata": {},
     "output_type": "execute_result"
    }
   ],
   "source": [
    "#não há informação sobre fatalidade para 539 casos\n",
    "df['fatality'].isnull().value_counts()"
   ]
  },
  {
   "cell_type": "code",
   "execution_count": 29,
   "metadata": {
    "ExecuteTime": {
     "end_time": "2021-01-04T21:51:33.991640Z",
     "start_time": "2021-01-04T21:51:33.968704Z"
    },
    "cell_style": "split"
   },
   "outputs": [
    {
     "data": {
      "text/plain": [
       "True     3354\n",
       "False    2948\n",
       "Name: time, dtype: int64"
      ]
     },
     "execution_count": 29,
     "metadata": {},
     "output_type": "execute_result"
    }
   ],
   "source": [
    "#não há informação de hora para 2948 casos\n",
    "df['time'].isnull().value_counts()"
   ]
  },
  {
   "cell_type": "code",
   "execution_count": 30,
   "metadata": {
    "ExecuteTime": {
     "end_time": "2021-01-04T21:51:34.548517Z",
     "start_time": "2021-01-04T21:51:34.524542Z"
    },
    "cell_style": "split"
   },
   "outputs": [
    {
     "data": {
      "text/plain": [
       "False    3464\n",
       "True     2838\n",
       "Name: species, dtype: int64"
      ]
     },
     "execution_count": 30,
     "metadata": {},
     "output_type": "execute_result"
    }
   ],
   "source": [
    "#não há informação de espécie do tubarão para 2838 casos\n",
    "df['species'].isnull().value_counts()"
   ]
  },
  {
   "cell_type": "code",
   "execution_count": 31,
   "metadata": {
    "ExecuteTime": {
     "end_time": "2021-01-04T21:51:35.120202Z",
     "start_time": "2021-01-04T21:51:35.092242Z"
    },
    "cell_style": "split"
   },
   "outputs": [
    {
     "data": {
      "text/plain": [
       "1957           11\n",
       "1942            9\n",
       "1956            8\n",
       "1950            7\n",
       "1941            7\n",
       "               ..\n",
       "13-Aug-2006     1\n",
       "16-Dec-2013     1\n",
       "11-Mar-2016     1\n",
       "18-Oct-1924     1\n",
       "15-Jul-2011     1\n",
       "Name: date, Length: 5433, dtype: int64"
      ]
     },
     "execution_count": 31,
     "metadata": {},
     "output_type": "execute_result"
    }
   ],
   "source": [
    "df['date'].value_counts()"
   ]
  },
  {
   "cell_type": "code",
   "execution_count": 32,
   "metadata": {
    "ExecuteTime": {
     "end_time": "2021-01-04T21:51:35.633595Z",
     "start_time": "2021-01-04T21:51:35.616636Z"
    },
    "cell_style": "split"
   },
   "outputs": [
    {
     "data": {
      "text/plain": [
       "2015.0    143\n",
       "2017.0    136\n",
       "2016.0    130\n",
       "2011.0    128\n",
       "2014.0    127\n",
       "         ... \n",
       "1801.0      1\n",
       "1638.0      1\n",
       "1834.0      1\n",
       "1723.0      1\n",
       "1786.0      1\n",
       "Name: year, Length: 249, dtype: int64"
      ]
     },
     "execution_count": 32,
     "metadata": {},
     "output_type": "execute_result"
    }
   ],
   "source": [
    "df['year'].value_counts()"
   ]
  },
  {
   "cell_type": "code",
   "execution_count": 33,
   "metadata": {
    "ExecuteTime": {
     "end_time": "2021-01-04T21:51:36.054183Z",
     "start_time": "2021-01-04T21:51:36.041218Z"
    },
    "cell_style": "split"
   },
   "outputs": [
    {
     "data": {
      "text/plain": [
       "Unprovoked      4595\n",
       "Provoked         574\n",
       "Invalid          547\n",
       "Sea Disaster     239\n",
       "Boating          203\n",
       "Boat             137\n",
       "Questionable       2\n",
       "Boatomg            1\n",
       "Name: type, dtype: int64"
      ]
     },
     "execution_count": 33,
     "metadata": {},
     "output_type": "execute_result"
    }
   ],
   "source": [
    "df['type'].value_counts()"
   ]
  },
  {
   "cell_type": "code",
   "execution_count": 34,
   "metadata": {
    "ExecuteTime": {
     "end_time": "2021-01-04T21:51:36.534910Z",
     "start_time": "2021-01-04T21:51:36.525929Z"
    },
    "cell_style": "split",
    "scrolled": true
   },
   "outputs": [
    {
     "data": {
      "text/plain": [
       "USA                           2229\n",
       "AUSTRALIA                     1338\n",
       "SOUTH AFRICA                   579\n",
       "PAPUA NEW GUINEA               134\n",
       "NEW ZEALAND                    128\n",
       "                              ... \n",
       "GRAND CAYMAN                     1\n",
       "ANDAMAN / NICOBAR ISLANDAS       1\n",
       "IRAN / IRAQ                      1\n",
       "ANDAMAN ISLANDS                  1\n",
       "KUWAIT                           1\n",
       "Name: country, Length: 212, dtype: int64"
      ]
     },
     "execution_count": 34,
     "metadata": {},
     "output_type": "execute_result"
    }
   ],
   "source": [
    "df['country'].value_counts()"
   ]
  },
  {
   "cell_type": "code",
   "execution_count": 35,
   "metadata": {
    "ExecuteTime": {
     "end_time": "2021-01-04T21:51:37.000142Z",
     "start_time": "2021-01-04T21:51:36.976209Z"
    },
    "cell_style": "split"
   },
   "outputs": [
    {
     "data": {
      "text/plain": [
       "Florida                        1037\n",
       "New South Wales                 486\n",
       "Queensland                      311\n",
       "Hawaii                          298\n",
       "California                      290\n",
       "                               ... \n",
       "Sharon                            1\n",
       "Anjouan                           1\n",
       "Ralik Chain                       1\n",
       "300 miles east of Mauritius       1\n",
       "Kagoshima Prefecture              1\n",
       "Name: area, Length: 825, dtype: int64"
      ]
     },
     "execution_count": 35,
     "metadata": {},
     "output_type": "execute_result"
    }
   ],
   "source": [
    "df['area'].value_counts()"
   ]
  },
  {
   "cell_type": "code",
   "execution_count": 36,
   "metadata": {
    "ExecuteTime": {
     "end_time": "2021-01-04T21:51:37.574391Z",
     "start_time": "2021-01-04T21:51:37.554445Z"
    },
    "cell_style": "split"
   },
   "outputs": [
    {
     "data": {
      "text/plain": [
       "New Smyrna Beach, Volusia County                                                     163\n",
       "Daytona Beach, Volusia County                                                         30\n",
       "Ponce Inlet, Volusia County                                                           20\n",
       "Melbourne Beach, Brevard County                                                       18\n",
       "Myrtle Beach, Horry County                                                            17\n",
       "                                                                                    ... \n",
       "Revillagigedo Islands                                                                  1\n",
       "Monastery Beach, Carmel River State Park, Monterey Peninsula, Monterey California      1\n",
       "Port Bolivar, Galveston County                                                         1\n",
       "Ewa, O'ahu                                                                             1\n",
       "LaJolla Shores, San Diego County                                                       1\n",
       "Name: location, Length: 4108, dtype: int64"
      ]
     },
     "execution_count": 36,
     "metadata": {},
     "output_type": "execute_result"
    }
   ],
   "source": [
    "df['location'].value_counts()"
   ]
  },
  {
   "cell_type": "code",
   "execution_count": 37,
   "metadata": {
    "ExecuteTime": {
     "end_time": "2021-01-04T21:51:38.102478Z",
     "start_time": "2021-01-04T21:51:38.085529Z"
    },
    "cell_style": "split"
   },
   "outputs": [
    {
     "data": {
      "text/plain": [
       "Surfing                                                         971\n",
       "Swimming                                                        869\n",
       "Fishing                                                         431\n",
       "Spearfishing                                                    333\n",
       "Bathing                                                         162\n",
       "                                                               ... \n",
       "Swimming in strong current with 3 others when he disappeared      1\n",
       "Removing shark from a trap                                        1\n",
       "Fishing boat swamped in a storm                                   1\n",
       "Fishing for octopus                                               1\n",
       "Diving (Helmet) for sponges                                       1\n",
       "Name: activity, Length: 1532, dtype: int64"
      ]
     },
     "execution_count": 37,
     "metadata": {},
     "output_type": "execute_result"
    }
   ],
   "source": [
    "df['activity'].value_counts()"
   ]
  },
  {
   "cell_type": "code",
   "execution_count": 38,
   "metadata": {
    "ExecuteTime": {
     "end_time": "2021-01-04T21:51:38.629342Z",
     "start_time": "2021-01-04T21:51:38.608396Z"
    },
    "cell_style": "split"
   },
   "outputs": [
    {
     "data": {
      "text/plain": [
       "M      5094\n",
       "F       637\n",
       "M         2\n",
       "N         2\n",
       ".         1\n",
       "lli       1\n",
       "Name: gender, dtype: int64"
      ]
     },
     "execution_count": 38,
     "metadata": {},
     "output_type": "execute_result"
    }
   ],
   "source": [
    "df['gender'].value_counts()"
   ]
  },
  {
   "cell_type": "code",
   "execution_count": 39,
   "metadata": {
    "ExecuteTime": {
     "end_time": "2021-01-04T21:51:39.109003Z",
     "start_time": "2021-01-04T21:51:39.098046Z"
    },
    "cell_style": "split"
   },
   "outputs": [
    {
     "data": {
      "text/plain": [
       "17           154\n",
       "18           150\n",
       "19           142\n",
       "20           141\n",
       "15           139\n",
       "            ... \n",
       "74             1\n",
       "18 months      1\n",
       "F              1\n",
       "13 or 18       1\n",
       "23 & 26        1\n",
       "Name: age, Length: 157, dtype: int64"
      ]
     },
     "execution_count": 39,
     "metadata": {},
     "output_type": "execute_result"
    }
   ],
   "source": [
    "df['age'].value_counts()"
   ]
  },
  {
   "cell_type": "code",
   "execution_count": 40,
   "metadata": {
    "ExecuteTime": {
     "end_time": "2021-01-04T21:51:39.650806Z",
     "start_time": "2021-01-04T21:51:39.633851Z"
    },
    "cell_style": "split"
   },
   "outputs": [
    {
     "data": {
      "text/plain": [
       "FATAL                                                                                         802\n",
       "Survived                                                                                       97\n",
       "Foot bitten                                                                                    87\n",
       "No injury                                                                                      82\n",
       "Leg bitten                                                                                     72\n",
       "                                                                                             ... \n",
       "Severe bite to right hand                                                                       1\n",
       "2 cm laceration on knee PROVOKED INCIDENT                                                       1\n",
       "FATAL, \"Nearly bitten in two through loin\".                                                     1\n",
       "No injury, shark bit bodyboard                                                                  1\n",
       "FATAL, lost consciousness at depth of 180'. Large sharks seen near partial remains of body      1\n",
       "Name: injury, Length: 3737, dtype: int64"
      ]
     },
     "execution_count": 40,
     "metadata": {},
     "output_type": "execute_result"
    }
   ],
   "source": [
    "df['injury'].value_counts()"
   ]
  },
  {
   "cell_type": "code",
   "execution_count": 41,
   "metadata": {
    "ExecuteTime": {
     "end_time": "2021-01-04T21:51:40.255904Z",
     "start_time": "2021-01-04T21:51:40.244935Z"
    },
    "cell_style": "split"
   },
   "outputs": [
    {
     "data": {
      "text/plain": [
       "N          4293\n",
       "Y          1388\n",
       "UNKNOWN      71\n",
       " N            7\n",
       "y             1\n",
       "2017          1\n",
       "M             1\n",
       "N             1\n",
       "Name: fatality, dtype: int64"
      ]
     },
     "execution_count": 41,
     "metadata": {},
     "output_type": "execute_result"
    }
   ],
   "source": [
    "df['fatality'].value_counts()"
   ]
  },
  {
   "cell_type": "code",
   "execution_count": 42,
   "metadata": {
    "ExecuteTime": {
     "end_time": "2021-01-04T21:51:40.877658Z",
     "start_time": "2021-01-04T21:51:40.861667Z"
    },
    "cell_style": "split"
   },
   "outputs": [
    {
     "data": {
      "text/plain": [
       "Afternoon        187\n",
       "11h00            128\n",
       "Morning          121\n",
       "12h00            109\n",
       "15h00            108\n",
       "                ... \n",
       "12h45 / 13h45      1\n",
       "17h42              1\n",
       "13h10              1\n",
       "15h06              1\n",
       "10h27              1\n",
       "Name: time, Length: 366, dtype: int64"
      ]
     },
     "execution_count": 42,
     "metadata": {},
     "output_type": "execute_result"
    }
   ],
   "source": [
    "df['time'].value_counts()"
   ]
  },
  {
   "cell_type": "code",
   "execution_count": 43,
   "metadata": {
    "ExecuteTime": {
     "end_time": "2021-01-04T21:51:41.682424Z",
     "start_time": "2021-01-04T21:51:41.665428Z"
    },
    "cell_style": "split"
   },
   "outputs": [
    {
     "data": {
      "text/plain": [
       "White shark                                                   163\n",
       "Shark involvement prior to death was not confirmed            105\n",
       "Invalid                                                       102\n",
       "Shark involvement not confirmed                                88\n",
       "Tiger shark                                                    73\n",
       "                                                             ... \n",
       "2' to 3.5' shark                                                1\n",
       "Bronze whaler shark,3.7 m [12']                                 1\n",
       "2.1 m [7'] lemon shark or bull shark                            1\n",
       "Mako shark, 1.8 m [6']                                          1\n",
       "Two sharks seen in vicinity: 2.4 m & 4.25 m  [8' & 14'] TL      1\n",
       "Name: species, Length: 1549, dtype: int64"
      ]
     },
     "execution_count": 43,
     "metadata": {},
     "output_type": "execute_result"
    }
   ],
   "source": [
    "df['species'].value_counts()"
   ]
  },
  {
   "cell_type": "markdown",
   "metadata": {},
   "source": [
    "# Atribuindo valores para nulos em cada coluna"
   ]
  },
  {
   "cell_type": "code",
   "execution_count": 44,
   "metadata": {
    "ExecuteTime": {
     "end_time": "2021-01-04T21:51:44.093633Z",
     "start_time": "2021-01-04T21:51:44.078669Z"
    },
    "cell_style": "split",
    "scrolled": false
   },
   "outputs": [
    {
     "data": {
      "text/plain": [
       "date        False\n",
       "year         True\n",
       "type         True\n",
       "country      True\n",
       "area         True\n",
       "location     True\n",
       "activity     True\n",
       "name         True\n",
       "gender       True\n",
       "age          True\n",
       "injury       True\n",
       "fatality     True\n",
       "time         True\n",
       "species      True\n",
       "dtype: bool"
      ]
     },
     "execution_count": 44,
     "metadata": {},
     "output_type": "execute_result"
    }
   ],
   "source": [
    "#teste 1: todas as colunas possuem valores nulos\n",
    "df.isnull().any()"
   ]
  },
  {
   "cell_type": "code",
   "execution_count": 45,
   "metadata": {
    "ExecuteTime": {
     "end_time": "2021-01-04T21:51:44.592382Z",
     "start_time": "2021-01-04T21:51:44.570454Z"
    },
    "cell_style": "split"
   },
   "outputs": [
    {
     "data": {
      "text/plain": [
       "date         True\n",
       "year        False\n",
       "type        False\n",
       "country     False\n",
       "area        False\n",
       "location    False\n",
       "activity    False\n",
       "name        False\n",
       "gender      False\n",
       "age         False\n",
       "injury      False\n",
       "fatality    False\n",
       "time        False\n",
       "species     False\n",
       "dtype: bool"
      ]
     },
     "execution_count": 45,
     "metadata": {},
     "output_type": "execute_result"
    }
   ],
   "source": [
    "#teste 1: todas as colunas possuem valores em branco\n",
    "df.notnull().all()"
   ]
  },
  {
   "cell_type": "code",
   "execution_count": 46,
   "metadata": {
    "ExecuteTime": {
     "end_time": "2021-01-04T21:51:45.351945Z",
     "start_time": "2021-01-04T21:51:45.323054Z"
    }
   },
   "outputs": [],
   "source": [
    "#Atribuindo string 'UNKNOWN' para todas as células sem valores\n",
    "df['date'].fillna('Unknown', inplace = True)\n",
    "df['year'].fillna('Unknown', inplace = True)\n",
    "df['type'].fillna('Unknown', inplace = True)\n",
    "df['country'].fillna('Unknown', inplace = True)\n",
    "df['area'].fillna('Unknown', inplace = True)\n",
    "df['location'].fillna('Unknown', inplace = True)\n",
    "df['activity'].fillna('Unknown', inplace = True)\n",
    "df['name'].fillna('Unknown', inplace = True)\n",
    "df['gender'].fillna('Unknown', inplace = True)\n",
    "df['age'].fillna('Unknown', inplace = True)\n",
    "df['injury'].fillna('Unknown', inplace = True)\n",
    "df['fatality'].fillna('Unknown', inplace = True)\n",
    "df['time'].fillna('Unknown', inplace = True)\n",
    "df['species'].fillna('Unknown', inplace = True)\n"
   ]
  },
  {
   "cell_type": "code",
   "execution_count": 47,
   "metadata": {
    "ExecuteTime": {
     "end_time": "2021-01-04T21:51:46.660493Z",
     "start_time": "2021-01-04T21:51:46.628547Z"
    },
    "cell_style": "split",
    "scrolled": true
   },
   "outputs": [
    {
     "data": {
      "text/html": [
       "<div>\n",
       "<style scoped>\n",
       "    .dataframe tbody tr th:only-of-type {\n",
       "        vertical-align: middle;\n",
       "    }\n",
       "\n",
       "    .dataframe tbody tr th {\n",
       "        vertical-align: top;\n",
       "    }\n",
       "\n",
       "    .dataframe thead th {\n",
       "        text-align: right;\n",
       "    }\n",
       "</style>\n",
       "<table border=\"1\" class=\"dataframe\">\n",
       "  <thead>\n",
       "    <tr style=\"text-align: right;\">\n",
       "      <th></th>\n",
       "      <th>date</th>\n",
       "      <th>year</th>\n",
       "      <th>type</th>\n",
       "      <th>country</th>\n",
       "      <th>area</th>\n",
       "      <th>location</th>\n",
       "      <th>activity</th>\n",
       "      <th>name</th>\n",
       "      <th>gender</th>\n",
       "      <th>age</th>\n",
       "      <th>injury</th>\n",
       "      <th>fatality</th>\n",
       "      <th>time</th>\n",
       "      <th>species</th>\n",
       "    </tr>\n",
       "  </thead>\n",
       "  <tbody>\n",
       "    <tr>\n",
       "      <th>0</th>\n",
       "      <td>25-Jun-2018</td>\n",
       "      <td>2018</td>\n",
       "      <td>Boating</td>\n",
       "      <td>USA</td>\n",
       "      <td>California</td>\n",
       "      <td>Oceanside, San Diego County</td>\n",
       "      <td>Paddling</td>\n",
       "      <td>Julie Wolfe</td>\n",
       "      <td>F</td>\n",
       "      <td>57</td>\n",
       "      <td>No injury to occupant, outrigger canoe and pad...</td>\n",
       "      <td>N</td>\n",
       "      <td>18h00</td>\n",
       "      <td>White shark</td>\n",
       "    </tr>\n",
       "    <tr>\n",
       "      <th>1</th>\n",
       "      <td>18-Jun-2018</td>\n",
       "      <td>2018</td>\n",
       "      <td>Unprovoked</td>\n",
       "      <td>USA</td>\n",
       "      <td>Georgia</td>\n",
       "      <td>St. Simon Island, Glynn County</td>\n",
       "      <td>Standing</td>\n",
       "      <td>Adyson McNeely</td>\n",
       "      <td>F</td>\n",
       "      <td>11</td>\n",
       "      <td>Minor injury to left thigh</td>\n",
       "      <td>N</td>\n",
       "      <td>14h00  -15h00</td>\n",
       "      <td>Unknown</td>\n",
       "    </tr>\n",
       "    <tr>\n",
       "      <th>2</th>\n",
       "      <td>09-Jun-2018</td>\n",
       "      <td>2018</td>\n",
       "      <td>Invalid</td>\n",
       "      <td>USA</td>\n",
       "      <td>Hawaii</td>\n",
       "      <td>Habush, Oahu</td>\n",
       "      <td>Surfing</td>\n",
       "      <td>John Denges</td>\n",
       "      <td>M</td>\n",
       "      <td>48</td>\n",
       "      <td>Injury to left lower leg from surfboard skeg</td>\n",
       "      <td>N</td>\n",
       "      <td>07h45</td>\n",
       "      <td>Unknown</td>\n",
       "    </tr>\n",
       "    <tr>\n",
       "      <th>3</th>\n",
       "      <td>08-Jun-2018</td>\n",
       "      <td>2018</td>\n",
       "      <td>Unprovoked</td>\n",
       "      <td>AUSTRALIA</td>\n",
       "      <td>New South Wales</td>\n",
       "      <td>Arrawarra Headland</td>\n",
       "      <td>Surfing</td>\n",
       "      <td>male</td>\n",
       "      <td>M</td>\n",
       "      <td>Unknown</td>\n",
       "      <td>Minor injury to lower leg</td>\n",
       "      <td>N</td>\n",
       "      <td>Unknown</td>\n",
       "      <td>2 m shark</td>\n",
       "    </tr>\n",
       "    <tr>\n",
       "      <th>4</th>\n",
       "      <td>04-Jun-2018</td>\n",
       "      <td>2018</td>\n",
       "      <td>Provoked</td>\n",
       "      <td>MEXICO</td>\n",
       "      <td>Colima</td>\n",
       "      <td>La Ticla</td>\n",
       "      <td>Free diving</td>\n",
       "      <td>Gustavo Ramos</td>\n",
       "      <td>M</td>\n",
       "      <td>Unknown</td>\n",
       "      <td>Lacerations to leg &amp; hand shark PROVOKED INCIDENT</td>\n",
       "      <td>N</td>\n",
       "      <td>Unknown</td>\n",
       "      <td>Tiger shark, 3m</td>\n",
       "    </tr>\n",
       "    <tr>\n",
       "      <th>...</th>\n",
       "      <td>...</td>\n",
       "      <td>...</td>\n",
       "      <td>...</td>\n",
       "      <td>...</td>\n",
       "      <td>...</td>\n",
       "      <td>...</td>\n",
       "      <td>...</td>\n",
       "      <td>...</td>\n",
       "      <td>...</td>\n",
       "      <td>...</td>\n",
       "      <td>...</td>\n",
       "      <td>...</td>\n",
       "      <td>...</td>\n",
       "      <td>...</td>\n",
       "    </tr>\n",
       "    <tr>\n",
       "      <th>6297</th>\n",
       "      <td>Before 1903</td>\n",
       "      <td>0</td>\n",
       "      <td>Unprovoked</td>\n",
       "      <td>AUSTRALIA</td>\n",
       "      <td>Western Australia</td>\n",
       "      <td>Roebuck Bay</td>\n",
       "      <td>Diving</td>\n",
       "      <td>male</td>\n",
       "      <td>M</td>\n",
       "      <td>Unknown</td>\n",
       "      <td>FATAL</td>\n",
       "      <td>Y</td>\n",
       "      <td>Unknown</td>\n",
       "      <td>Unknown</td>\n",
       "    </tr>\n",
       "    <tr>\n",
       "      <th>6298</th>\n",
       "      <td>Before 1903</td>\n",
       "      <td>0</td>\n",
       "      <td>Unprovoked</td>\n",
       "      <td>AUSTRALIA</td>\n",
       "      <td>Western Australia</td>\n",
       "      <td>Unknown</td>\n",
       "      <td>Pearl diving</td>\n",
       "      <td>Ahmun</td>\n",
       "      <td>M</td>\n",
       "      <td>Unknown</td>\n",
       "      <td>FATAL</td>\n",
       "      <td>Y</td>\n",
       "      <td>Unknown</td>\n",
       "      <td>Unknown</td>\n",
       "    </tr>\n",
       "    <tr>\n",
       "      <th>6299</th>\n",
       "      <td>1900-1905</td>\n",
       "      <td>0</td>\n",
       "      <td>Unprovoked</td>\n",
       "      <td>USA</td>\n",
       "      <td>North Carolina</td>\n",
       "      <td>Ocracoke Inlet</td>\n",
       "      <td>Swimming</td>\n",
       "      <td>Coast Guard personnel</td>\n",
       "      <td>M</td>\n",
       "      <td>Unknown</td>\n",
       "      <td>FATAL</td>\n",
       "      <td>Y</td>\n",
       "      <td>Unknown</td>\n",
       "      <td>Unknown</td>\n",
       "    </tr>\n",
       "    <tr>\n",
       "      <th>6300</th>\n",
       "      <td>1883-1889</td>\n",
       "      <td>0</td>\n",
       "      <td>Unprovoked</td>\n",
       "      <td>PANAMA</td>\n",
       "      <td>Unknown</td>\n",
       "      <td>Panama Bay 8ºN, 79ºW</td>\n",
       "      <td>Unknown</td>\n",
       "      <td>Jules Patterson</td>\n",
       "      <td>M</td>\n",
       "      <td>Unknown</td>\n",
       "      <td>FATAL</td>\n",
       "      <td>Y</td>\n",
       "      <td>Unknown</td>\n",
       "      <td>Unknown</td>\n",
       "    </tr>\n",
       "    <tr>\n",
       "      <th>6301</th>\n",
       "      <td>1845-1853</td>\n",
       "      <td>0</td>\n",
       "      <td>Unprovoked</td>\n",
       "      <td>CEYLON (SRI LANKA)</td>\n",
       "      <td>Eastern Province</td>\n",
       "      <td>Below the English fort, Trincomalee</td>\n",
       "      <td>Swimming</td>\n",
       "      <td>male</td>\n",
       "      <td>M</td>\n",
       "      <td>15</td>\n",
       "      <td>FATAL. \"Shark bit him in half, carrying away t...</td>\n",
       "      <td>Y</td>\n",
       "      <td>Unknown</td>\n",
       "      <td>Unknown</td>\n",
       "    </tr>\n",
       "  </tbody>\n",
       "</table>\n",
       "<p>6302 rows × 14 columns</p>\n",
       "</div>"
      ],
      "text/plain": [
       "             date  year        type             country               area  \\\n",
       "0     25-Jun-2018  2018     Boating                 USA         California   \n",
       "1     18-Jun-2018  2018  Unprovoked                 USA            Georgia   \n",
       "2     09-Jun-2018  2018     Invalid                 USA             Hawaii   \n",
       "3     08-Jun-2018  2018  Unprovoked           AUSTRALIA    New South Wales   \n",
       "4     04-Jun-2018  2018    Provoked              MEXICO             Colima   \n",
       "...           ...   ...         ...                 ...                ...   \n",
       "6297  Before 1903     0  Unprovoked           AUSTRALIA  Western Australia   \n",
       "6298  Before 1903     0  Unprovoked           AUSTRALIA  Western Australia   \n",
       "6299    1900-1905     0  Unprovoked                 USA     North Carolina   \n",
       "6300    1883-1889     0  Unprovoked              PANAMA            Unknown   \n",
       "6301    1845-1853     0  Unprovoked  CEYLON (SRI LANKA)   Eastern Province   \n",
       "\n",
       "                                 location      activity  \\\n",
       "0             Oceanside, San Diego County      Paddling   \n",
       "1          St. Simon Island, Glynn County      Standing   \n",
       "2                            Habush, Oahu       Surfing   \n",
       "3                      Arrawarra Headland       Surfing   \n",
       "4                                La Ticla   Free diving   \n",
       "...                                   ...           ...   \n",
       "6297                          Roebuck Bay        Diving   \n",
       "6298                              Unknown  Pearl diving   \n",
       "6299                       Ocracoke Inlet      Swimming   \n",
       "6300                 Panama Bay 8ºN, 79ºW       Unknown   \n",
       "6301  Below the English fort, Trincomalee      Swimming   \n",
       "\n",
       "                       name gender      age  \\\n",
       "0               Julie Wolfe      F       57   \n",
       "1           Adyson McNeely       F       11   \n",
       "2               John Denges      M       48   \n",
       "3                      male      M  Unknown   \n",
       "4            Gustavo Ramos       M  Unknown   \n",
       "...                     ...    ...      ...   \n",
       "6297                   male      M  Unknown   \n",
       "6298                  Ahmun      M  Unknown   \n",
       "6299  Coast Guard personnel      M  Unknown   \n",
       "6300        Jules Patterson      M  Unknown   \n",
       "6301                   male      M       15   \n",
       "\n",
       "                                                 injury fatality  \\\n",
       "0     No injury to occupant, outrigger canoe and pad...        N   \n",
       "1                            Minor injury to left thigh        N   \n",
       "2          Injury to left lower leg from surfboard skeg        N   \n",
       "3                             Minor injury to lower leg        N   \n",
       "4     Lacerations to leg & hand shark PROVOKED INCIDENT        N   \n",
       "...                                                 ...      ...   \n",
       "6297                                              FATAL        Y   \n",
       "6298                                              FATAL        Y   \n",
       "6299                                              FATAL        Y   \n",
       "6300                                              FATAL        Y   \n",
       "6301  FATAL. \"Shark bit him in half, carrying away t...        Y   \n",
       "\n",
       "               time          species  \n",
       "0             18h00      White shark  \n",
       "1     14h00  -15h00          Unknown  \n",
       "2             07h45          Unknown  \n",
       "3           Unknown        2 m shark  \n",
       "4           Unknown  Tiger shark, 3m  \n",
       "...             ...              ...  \n",
       "6297        Unknown          Unknown  \n",
       "6298        Unknown          Unknown  \n",
       "6299        Unknown          Unknown  \n",
       "6300        Unknown          Unknown  \n",
       "6301        Unknown          Unknown  \n",
       "\n",
       "[6302 rows x 14 columns]"
      ]
     },
     "execution_count": 47,
     "metadata": {},
     "output_type": "execute_result"
    }
   ],
   "source": [
    "df"
   ]
  },
  {
   "cell_type": "code",
   "execution_count": 48,
   "metadata": {
    "ExecuteTime": {
     "end_time": "2021-01-04T21:51:47.822787Z",
     "start_time": "2021-01-04T21:51:47.809829Z"
    },
    "cell_style": "split",
    "scrolled": true
   },
   "outputs": [],
   "source": [
    "#teste 2: agora todas as colunas possuem valores e podemos encontrá-los"
   ]
  },
  {
   "cell_type": "markdown",
   "metadata": {},
   "source": [
    "# Tratando dados individualmente em cada coluna"
   ]
  },
  {
   "cell_type": "markdown",
   "metadata": {},
   "source": [
    "   ## COLUNA GENDER"
   ]
  },
  {
   "cell_type": "code",
   "execution_count": 49,
   "metadata": {
    "ExecuteTime": {
     "end_time": "2021-01-04T21:51:50.004254Z",
     "start_time": "2021-01-04T21:51:49.983301Z"
    }
   },
   "outputs": [
    {
     "data": {
      "text/plain": [
       "array(['F', 'M', 'Unknown', 'M ', 'lli', 'N', '.'], dtype=object)"
      ]
     },
     "execution_count": 49,
     "metadata": {},
     "output_type": "execute_result"
    }
   ],
   "source": [
    "df.gender.unique()"
   ]
  },
  {
   "cell_type": "code",
   "execution_count": 50,
   "metadata": {
    "ExecuteTime": {
     "end_time": "2021-01-04T21:51:50.594824Z",
     "start_time": "2021-01-04T21:51:50.587843Z"
    }
   },
   "outputs": [],
   "source": [
    "df['gender'].replace(['lli','N', '.'], 'Unknown', inplace = True)\n",
    "df['gender'].replace(['M '], 'M', inplace = True)"
   ]
  },
  {
   "cell_type": "code",
   "execution_count": 51,
   "metadata": {
    "ExecuteTime": {
     "end_time": "2021-01-04T21:51:51.463095Z",
     "start_time": "2021-01-04T21:51:51.451131Z"
    }
   },
   "outputs": [
    {
     "data": {
      "text/plain": [
       "array(['F', 'M', 'Unknown'], dtype=object)"
      ]
     },
     "execution_count": 51,
     "metadata": {},
     "output_type": "execute_result"
    }
   ],
   "source": [
    "df.gender.unique()"
   ]
  },
  {
   "cell_type": "markdown",
   "metadata": {},
   "source": [
    "## COLUNA FATALITY"
   ]
  },
  {
   "cell_type": "code",
   "execution_count": 52,
   "metadata": {
    "ExecuteTime": {
     "end_time": "2021-01-04T21:51:53.405389Z",
     "start_time": "2021-01-04T21:51:53.387473Z"
    }
   },
   "outputs": [
    {
     "data": {
      "text/plain": [
       "array(['N', 'Y', 'Unknown', 'M', 'UNKNOWN', '2017', ' N', 'N ', 'y'],\n",
       "      dtype=object)"
      ]
     },
     "execution_count": 52,
     "metadata": {},
     "output_type": "execute_result"
    }
   ],
   "source": [
    "df.fatality.unique()"
   ]
  },
  {
   "cell_type": "code",
   "execution_count": 55,
   "metadata": {
    "ExecuteTime": {
     "end_time": "2021-01-04T21:52:25.047565Z",
     "start_time": "2021-01-04T21:52:25.021634Z"
    }
   },
   "outputs": [],
   "source": [
    "df['fatality'].replace(['M',' N', 'N ','N'], 'NO', inplace = True)\n",
    "df['fatality'].replace(['2017','UNKNOWN'], 'Unknown', inplace = True)\n",
    "df['fatality'].replace(['y', 'Y'], 'YES', inplace = True)"
   ]
  },
  {
   "cell_type": "code",
   "execution_count": 57,
   "metadata": {
    "ExecuteTime": {
     "end_time": "2021-01-04T21:52:35.582479Z",
     "start_time": "2021-01-04T21:52:35.563500Z"
    }
   },
   "outputs": [
    {
     "data": {
      "text/plain": [
       "array(['NO', 'YES', 'Unknown'], dtype=object)"
      ]
     },
     "execution_count": 57,
     "metadata": {},
     "output_type": "execute_result"
    }
   ],
   "source": [
    "df.fatality.unique()"
   ]
  },
  {
   "cell_type": "markdown",
   "metadata": {},
   "source": [
    "## COLUNA TYPE"
   ]
  },
  {
   "cell_type": "code",
   "execution_count": 58,
   "metadata": {
    "ExecuteTime": {
     "end_time": "2021-01-04T21:52:36.761270Z",
     "start_time": "2021-01-04T21:52:36.745312Z"
    },
    "scrolled": true
   },
   "outputs": [
    {
     "data": {
      "text/plain": [
       "array(['Boating', 'Unprovoked', 'Invalid', 'Provoked', 'Questionable',\n",
       "       'Sea Disaster', 'Unknown', 'Boat', 'Boatomg'], dtype=object)"
      ]
     },
     "execution_count": 58,
     "metadata": {},
     "output_type": "execute_result"
    }
   ],
   "source": [
    "df['type'].unique()"
   ]
  },
  {
   "cell_type": "code",
   "execution_count": 59,
   "metadata": {
    "ExecuteTime": {
     "end_time": "2021-01-04T21:52:38.757987Z",
     "start_time": "2021-01-04T21:52:38.746022Z"
    }
   },
   "outputs": [],
   "source": [
    "df['type'].replace(['Boat','Boatomg'], 'Boating', inplace = True)\n",
    "df['type'].replace(['Invalid','Questionable'], 'Unknown', inplace = True)"
   ]
  },
  {
   "cell_type": "code",
   "execution_count": 60,
   "metadata": {
    "ExecuteTime": {
     "end_time": "2021-01-04T21:52:39.254413Z",
     "start_time": "2021-01-04T21:52:39.234500Z"
    }
   },
   "outputs": [
    {
     "data": {
      "text/plain": [
       "array(['Boating', 'Unprovoked', 'Unknown', 'Provoked', 'Sea Disaster'],\n",
       "      dtype=object)"
      ]
     },
     "execution_count": 60,
     "metadata": {},
     "output_type": "execute_result"
    }
   ],
   "source": [
    "df['type'].unique()"
   ]
  },
  {
   "cell_type": "markdown",
   "metadata": {},
   "source": [
    "# REMOVENDO LINHAS DUPLICADAS"
   ]
  },
  {
   "cell_type": "code",
   "execution_count": 64,
   "metadata": {
    "ExecuteTime": {
     "end_time": "2021-01-04T21:53:28.130897Z",
     "start_time": "2021-01-04T21:53:28.094010Z"
    }
   },
   "outputs": [
    {
     "data": {
      "text/html": [
       "<div>\n",
       "<style scoped>\n",
       "    .dataframe tbody tr th:only-of-type {\n",
       "        vertical-align: middle;\n",
       "    }\n",
       "\n",
       "    .dataframe tbody tr th {\n",
       "        vertical-align: top;\n",
       "    }\n",
       "\n",
       "    .dataframe thead th {\n",
       "        text-align: right;\n",
       "    }\n",
       "</style>\n",
       "<table border=\"1\" class=\"dataframe\">\n",
       "  <thead>\n",
       "    <tr style=\"text-align: right;\">\n",
       "      <th></th>\n",
       "      <th>date</th>\n",
       "      <th>year</th>\n",
       "      <th>type</th>\n",
       "      <th>country</th>\n",
       "      <th>area</th>\n",
       "      <th>location</th>\n",
       "      <th>activity</th>\n",
       "      <th>name</th>\n",
       "      <th>gender</th>\n",
       "      <th>age</th>\n",
       "      <th>injury</th>\n",
       "      <th>fatality</th>\n",
       "      <th>time</th>\n",
       "      <th>species</th>\n",
       "    </tr>\n",
       "  </thead>\n",
       "  <tbody>\n",
       "  </tbody>\n",
       "</table>\n",
       "</div>"
      ],
      "text/plain": [
       "Empty DataFrame\n",
       "Columns: [date, year, type, country, area, location, activity, name, gender, age, injury, fatality, time, species]\n",
       "Index: []"
      ]
     },
     "execution_count": 64,
     "metadata": {},
     "output_type": "execute_result"
    }
   ],
   "source": [
    "df.loc[df.duplicated(keep=False), :]"
   ]
  },
  {
   "cell_type": "code",
   "execution_count": 61,
   "metadata": {
    "ExecuteTime": {
     "end_time": "2021-01-04T21:52:42.587088Z",
     "start_time": "2021-01-04T21:52:42.573124Z"
    }
   },
   "outputs": [],
   "source": [
    "# removidas apenas estas duas linhas, antes de executar o DROP em 'name'\n",
    "df.drop([4688, 5709],inplace=True)"
   ]
  },
  {
   "cell_type": "code",
   "execution_count": 62,
   "metadata": {
    "ExecuteTime": {
     "end_time": "2021-01-04T21:52:49.130394Z",
     "start_time": "2021-01-04T21:52:49.117426Z"
    }
   },
   "outputs": [
    {
     "data": {
      "text/plain": [
       "(6300, 14)"
      ]
     },
     "execution_count": 62,
     "metadata": {},
     "output_type": "execute_result"
    }
   ],
   "source": [
    "df.shape"
   ]
  },
  {
   "cell_type": "code",
   "execution_count": null,
   "metadata": {},
   "outputs": [],
   "source": []
  },
  {
   "cell_type": "code",
   "execution_count": 69,
   "metadata": {
    "ExecuteTime": {
     "end_time": "2021-01-04T22:01:11.414041Z",
     "start_time": "2021-01-04T22:01:11.396049Z"
    }
   },
   "outputs": [
    {
     "data": {
      "text/plain": [
       "0        True\n",
       "1        True\n",
       "2        True\n",
       "3        True\n",
       "4        True\n",
       "        ...  \n",
       "6297    False\n",
       "6298    False\n",
       "6299    False\n",
       "6300    False\n",
       "6301    False\n",
       "Name: fatality, Length: 6300, dtype: bool"
      ]
     },
     "execution_count": 69,
     "metadata": {},
     "output_type": "execute_result"
    }
   ],
   "source": [
    "df['fatality'] == 'NO'"
   ]
  },
  {
   "cell_type": "code",
   "execution_count": null,
   "metadata": {},
   "outputs": [],
   "source": []
  },
  {
   "cell_type": "code",
   "execution_count": null,
   "metadata": {},
   "outputs": [],
   "source": []
  },
  {
   "cell_type": "code",
   "execution_count": 65,
   "metadata": {
    "ExecuteTime": {
     "end_time": "2021-01-04T21:53:53.195272Z",
     "start_time": "2021-01-04T21:53:53.189292Z"
    }
   },
   "outputs": [],
   "source": [
    "condition1 = (df['year']==0)\n",
    "condition2 = (df['date'])\n"
   ]
  },
  {
   "cell_type": "code",
   "execution_count": 66,
   "metadata": {
    "ExecuteTime": {
     "end_time": "2021-01-04T21:53:53.768493Z",
     "start_time": "2021-01-04T21:53:53.736569Z"
    }
   },
   "outputs": [
    {
     "data": {
      "text/html": [
       "<div>\n",
       "<style scoped>\n",
       "    .dataframe tbody tr th:only-of-type {\n",
       "        vertical-align: middle;\n",
       "    }\n",
       "\n",
       "    .dataframe tbody tr th {\n",
       "        vertical-align: top;\n",
       "    }\n",
       "\n",
       "    .dataframe thead th {\n",
       "        text-align: right;\n",
       "    }\n",
       "</style>\n",
       "<table border=\"1\" class=\"dataframe\">\n",
       "  <thead>\n",
       "    <tr style=\"text-align: right;\">\n",
       "      <th></th>\n",
       "      <th>date</th>\n",
       "      <th>year</th>\n",
       "      <th>type</th>\n",
       "      <th>country</th>\n",
       "      <th>area</th>\n",
       "      <th>location</th>\n",
       "      <th>activity</th>\n",
       "      <th>name</th>\n",
       "      <th>gender</th>\n",
       "      <th>age</th>\n",
       "      <th>injury</th>\n",
       "      <th>fatality</th>\n",
       "      <th>time</th>\n",
       "      <th>species</th>\n",
       "    </tr>\n",
       "  </thead>\n",
       "  <tbody>\n",
       "    <tr>\n",
       "      <th>6177</th>\n",
       "      <td>Ca. 214 B.C.</td>\n",
       "      <td>0</td>\n",
       "      <td>Unprovoked</td>\n",
       "      <td>Unknown</td>\n",
       "      <td>Ionian Sea</td>\n",
       "      <td>Unknown</td>\n",
       "      <td>Ascending from a dive</td>\n",
       "      <td>Tharsys, a sponge diver</td>\n",
       "      <td>M</td>\n",
       "      <td>Unknown</td>\n",
       "      <td>FATAL, shark/s bit him in two</td>\n",
       "      <td>YES</td>\n",
       "      <td>Unknown</td>\n",
       "      <td>Unknown</td>\n",
       "    </tr>\n",
       "    <tr>\n",
       "      <th>6178</th>\n",
       "      <td>Ca. 336.B.C..</td>\n",
       "      <td>0</td>\n",
       "      <td>Unprovoked</td>\n",
       "      <td>GREECE</td>\n",
       "      <td>Piraeus</td>\n",
       "      <td>In the haven of Cantharus</td>\n",
       "      <td>Washing his pig in preparation for a religious...</td>\n",
       "      <td>A candidate for initiation</td>\n",
       "      <td>M</td>\n",
       "      <td>Unknown</td>\n",
       "      <td>FATAL, shark \"bit off all lower parts of him u...</td>\n",
       "      <td>YES</td>\n",
       "      <td>Unknown</td>\n",
       "      <td>Unknown</td>\n",
       "    </tr>\n",
       "    <tr>\n",
       "      <th>6179</th>\n",
       "      <td>493 B.C.</td>\n",
       "      <td>0</td>\n",
       "      <td>Sea Disaster</td>\n",
       "      <td>GREECE</td>\n",
       "      <td>Off Thessaly</td>\n",
       "      <td>Unknown</td>\n",
       "      <td>Shipwrecked Persian Fleet</td>\n",
       "      <td>males</td>\n",
       "      <td>M</td>\n",
       "      <td>Unknown</td>\n",
       "      <td>Herodotus tells of sharks attacking men in the...</td>\n",
       "      <td>YES</td>\n",
       "      <td>Unknown</td>\n",
       "      <td>Unknown</td>\n",
       "    </tr>\n",
       "    <tr>\n",
       "      <th>6180</th>\n",
       "      <td>Ca. 725 B.C.</td>\n",
       "      <td>0</td>\n",
       "      <td>Sea Disaster</td>\n",
       "      <td>ITALY</td>\n",
       "      <td>Tyrrhenian Sea</td>\n",
       "      <td>Krater found during excavations at Lacco Ameno...</td>\n",
       "      <td>Shipwreck</td>\n",
       "      <td>males</td>\n",
       "      <td>M</td>\n",
       "      <td>Unknown</td>\n",
       "      <td>Depicts shipwrecked sailors  attacked by a sha...</td>\n",
       "      <td>YES</td>\n",
       "      <td>Unknown</td>\n",
       "      <td>Unknown</td>\n",
       "    </tr>\n",
       "    <tr>\n",
       "      <th>6181</th>\n",
       "      <td>Before 1939</td>\n",
       "      <td>0</td>\n",
       "      <td>Unprovoked</td>\n",
       "      <td>CANADA</td>\n",
       "      <td>Unknown</td>\n",
       "      <td>Grand Banks</td>\n",
       "      <td>Fishing</td>\n",
       "      <td>Joe Folsom</td>\n",
       "      <td>M</td>\n",
       "      <td>Unknown</td>\n",
       "      <td>Arm bitten</td>\n",
       "      <td>NO</td>\n",
       "      <td>Unknown</td>\n",
       "      <td>Unknown</td>\n",
       "    </tr>\n",
       "    <tr>\n",
       "      <th>...</th>\n",
       "      <td>...</td>\n",
       "      <td>...</td>\n",
       "      <td>...</td>\n",
       "      <td>...</td>\n",
       "      <td>...</td>\n",
       "      <td>...</td>\n",
       "      <td>...</td>\n",
       "      <td>...</td>\n",
       "      <td>...</td>\n",
       "      <td>...</td>\n",
       "      <td>...</td>\n",
       "      <td>...</td>\n",
       "      <td>...</td>\n",
       "      <td>...</td>\n",
       "    </tr>\n",
       "    <tr>\n",
       "      <th>6297</th>\n",
       "      <td>Before 1903</td>\n",
       "      <td>0</td>\n",
       "      <td>Unprovoked</td>\n",
       "      <td>AUSTRALIA</td>\n",
       "      <td>Western Australia</td>\n",
       "      <td>Roebuck Bay</td>\n",
       "      <td>Diving</td>\n",
       "      <td>male</td>\n",
       "      <td>M</td>\n",
       "      <td>Unknown</td>\n",
       "      <td>FATAL</td>\n",
       "      <td>YES</td>\n",
       "      <td>Unknown</td>\n",
       "      <td>Unknown</td>\n",
       "    </tr>\n",
       "    <tr>\n",
       "      <th>6298</th>\n",
       "      <td>Before 1903</td>\n",
       "      <td>0</td>\n",
       "      <td>Unprovoked</td>\n",
       "      <td>AUSTRALIA</td>\n",
       "      <td>Western Australia</td>\n",
       "      <td>Unknown</td>\n",
       "      <td>Pearl diving</td>\n",
       "      <td>Ahmun</td>\n",
       "      <td>M</td>\n",
       "      <td>Unknown</td>\n",
       "      <td>FATAL</td>\n",
       "      <td>YES</td>\n",
       "      <td>Unknown</td>\n",
       "      <td>Unknown</td>\n",
       "    </tr>\n",
       "    <tr>\n",
       "      <th>6299</th>\n",
       "      <td>1900-1905</td>\n",
       "      <td>0</td>\n",
       "      <td>Unprovoked</td>\n",
       "      <td>USA</td>\n",
       "      <td>North Carolina</td>\n",
       "      <td>Ocracoke Inlet</td>\n",
       "      <td>Swimming</td>\n",
       "      <td>Coast Guard personnel</td>\n",
       "      <td>M</td>\n",
       "      <td>Unknown</td>\n",
       "      <td>FATAL</td>\n",
       "      <td>YES</td>\n",
       "      <td>Unknown</td>\n",
       "      <td>Unknown</td>\n",
       "    </tr>\n",
       "    <tr>\n",
       "      <th>6300</th>\n",
       "      <td>1883-1889</td>\n",
       "      <td>0</td>\n",
       "      <td>Unprovoked</td>\n",
       "      <td>PANAMA</td>\n",
       "      <td>Unknown</td>\n",
       "      <td>Panama Bay 8ºN, 79ºW</td>\n",
       "      <td>Unknown</td>\n",
       "      <td>Jules Patterson</td>\n",
       "      <td>M</td>\n",
       "      <td>Unknown</td>\n",
       "      <td>FATAL</td>\n",
       "      <td>YES</td>\n",
       "      <td>Unknown</td>\n",
       "      <td>Unknown</td>\n",
       "    </tr>\n",
       "    <tr>\n",
       "      <th>6301</th>\n",
       "      <td>1845-1853</td>\n",
       "      <td>0</td>\n",
       "      <td>Unprovoked</td>\n",
       "      <td>CEYLON (SRI LANKA)</td>\n",
       "      <td>Eastern Province</td>\n",
       "      <td>Below the English fort, Trincomalee</td>\n",
       "      <td>Swimming</td>\n",
       "      <td>male</td>\n",
       "      <td>M</td>\n",
       "      <td>15</td>\n",
       "      <td>FATAL. \"Shark bit him in half, carrying away t...</td>\n",
       "      <td>YES</td>\n",
       "      <td>Unknown</td>\n",
       "      <td>Unknown</td>\n",
       "    </tr>\n",
       "  </tbody>\n",
       "</table>\n",
       "<p>125 rows × 14 columns</p>\n",
       "</div>"
      ],
      "text/plain": [
       "               date year          type             country               area  \\\n",
       "6177   Ca. 214 B.C.    0    Unprovoked             Unknown         Ionian Sea   \n",
       "6178  Ca. 336.B.C..    0    Unprovoked              GREECE            Piraeus   \n",
       "6179       493 B.C.    0  Sea Disaster              GREECE       Off Thessaly   \n",
       "6180   Ca. 725 B.C.    0  Sea Disaster               ITALY     Tyrrhenian Sea   \n",
       "6181    Before 1939    0    Unprovoked              CANADA            Unknown   \n",
       "...             ...  ...           ...                 ...                ...   \n",
       "6297    Before 1903    0    Unprovoked           AUSTRALIA  Western Australia   \n",
       "6298    Before 1903    0    Unprovoked           AUSTRALIA  Western Australia   \n",
       "6299      1900-1905    0    Unprovoked                 USA     North Carolina   \n",
       "6300      1883-1889    0    Unprovoked              PANAMA            Unknown   \n",
       "6301      1845-1853    0    Unprovoked  CEYLON (SRI LANKA)   Eastern Province   \n",
       "\n",
       "                                               location  \\\n",
       "6177                                            Unknown   \n",
       "6178                          In the haven of Cantharus   \n",
       "6179                                            Unknown   \n",
       "6180  Krater found during excavations at Lacco Ameno...   \n",
       "6181                                        Grand Banks   \n",
       "...                                                 ...   \n",
       "6297                                        Roebuck Bay   \n",
       "6298                                            Unknown   \n",
       "6299                                     Ocracoke Inlet   \n",
       "6300                               Panama Bay 8ºN, 79ºW   \n",
       "6301                Below the English fort, Trincomalee   \n",
       "\n",
       "                                               activity  \\\n",
       "6177                              Ascending from a dive   \n",
       "6178  Washing his pig in preparation for a religious...   \n",
       "6179                          Shipwrecked Persian Fleet   \n",
       "6180                                          Shipwreck   \n",
       "6181                                            Fishing   \n",
       "...                                                 ...   \n",
       "6297                                             Diving   \n",
       "6298                                       Pearl diving   \n",
       "6299                                           Swimming   \n",
       "6300                                            Unknown   \n",
       "6301                                           Swimming   \n",
       "\n",
       "                            name gender      age  \\\n",
       "6177     Tharsys, a sponge diver      M  Unknown   \n",
       "6178  A candidate for initiation      M  Unknown   \n",
       "6179                       males      M  Unknown   \n",
       "6180                       males      M  Unknown   \n",
       "6181                  Joe Folsom      M  Unknown   \n",
       "...                          ...    ...      ...   \n",
       "6297                        male      M  Unknown   \n",
       "6298                       Ahmun      M  Unknown   \n",
       "6299       Coast Guard personnel      M  Unknown   \n",
       "6300             Jules Patterson      M  Unknown   \n",
       "6301                        male      M       15   \n",
       "\n",
       "                                                 injury fatality     time  \\\n",
       "6177                      FATAL, shark/s bit him in two      YES  Unknown   \n",
       "6178  FATAL, shark \"bit off all lower parts of him u...      YES  Unknown   \n",
       "6179  Herodotus tells of sharks attacking men in the...      YES  Unknown   \n",
       "6180  Depicts shipwrecked sailors  attacked by a sha...      YES  Unknown   \n",
       "6181                                         Arm bitten       NO  Unknown   \n",
       "...                                                 ...      ...      ...   \n",
       "6297                                              FATAL      YES  Unknown   \n",
       "6298                                              FATAL      YES  Unknown   \n",
       "6299                                              FATAL      YES  Unknown   \n",
       "6300                                              FATAL      YES  Unknown   \n",
       "6301  FATAL. \"Shark bit him in half, carrying away t...      YES  Unknown   \n",
       "\n",
       "      species  \n",
       "6177  Unknown  \n",
       "6178  Unknown  \n",
       "6179  Unknown  \n",
       "6180  Unknown  \n",
       "6181  Unknown  \n",
       "...       ...  \n",
       "6297  Unknown  \n",
       "6298  Unknown  \n",
       "6299  Unknown  \n",
       "6300  Unknown  \n",
       "6301  Unknown  \n",
       "\n",
       "[125 rows x 14 columns]"
      ]
     },
     "execution_count": 66,
     "metadata": {},
     "output_type": "execute_result"
    }
   ],
   "source": [
    "df.loc[condition1 & condition2, :]"
   ]
  },
  {
   "cell_type": "code",
   "execution_count": 330,
   "metadata": {
    "ExecuteTime": {
     "end_time": "2021-01-04T21:14:58.531503Z",
     "start_time": "2021-01-04T21:14:58.487657Z"
    }
   },
   "outputs": [
    {
     "data": {
      "text/html": [
       "<div>\n",
       "<style scoped>\n",
       "    .dataframe tbody tr th:only-of-type {\n",
       "        vertical-align: middle;\n",
       "    }\n",
       "\n",
       "    .dataframe tbody tr th {\n",
       "        vertical-align: top;\n",
       "    }\n",
       "\n",
       "    .dataframe thead th {\n",
       "        text-align: right;\n",
       "    }\n",
       "</style>\n",
       "<table border=\"1\" class=\"dataframe\">\n",
       "  <thead>\n",
       "    <tr style=\"text-align: right;\">\n",
       "      <th></th>\n",
       "      <th>date</th>\n",
       "      <th>year</th>\n",
       "      <th>type</th>\n",
       "      <th>country</th>\n",
       "      <th>area</th>\n",
       "      <th>location</th>\n",
       "      <th>activity</th>\n",
       "      <th>name</th>\n",
       "      <th>gender</th>\n",
       "      <th>age</th>\n",
       "      <th>injury</th>\n",
       "      <th>fatality</th>\n",
       "      <th>time</th>\n",
       "      <th>species</th>\n",
       "    </tr>\n",
       "  </thead>\n",
       "  <tbody>\n",
       "    <tr>\n",
       "      <th>6177</th>\n",
       "      <td>Ca. 214 B.C.</td>\n",
       "      <td>0</td>\n",
       "      <td>Unprovoked</td>\n",
       "      <td>UNKNOWN</td>\n",
       "      <td>Ionian Sea</td>\n",
       "      <td>UNKNOWN</td>\n",
       "      <td>Ascending from a dive</td>\n",
       "      <td>Tharsys, a sponge diver</td>\n",
       "      <td>M</td>\n",
       "      <td>UNKNOWN</td>\n",
       "      <td>FATAL, shark/s bit him in two</td>\n",
       "      <td>YES</td>\n",
       "      <td>UNKNOWN</td>\n",
       "      <td>UNKNOWN</td>\n",
       "    </tr>\n",
       "    <tr>\n",
       "      <th>6178</th>\n",
       "      <td>Ca. 336.B.C..</td>\n",
       "      <td>0</td>\n",
       "      <td>Unprovoked</td>\n",
       "      <td>GREECE</td>\n",
       "      <td>Piraeus</td>\n",
       "      <td>In the haven of Cantharus</td>\n",
       "      <td>Washing his pig in preparation for a religious...</td>\n",
       "      <td>A candidate for initiation</td>\n",
       "      <td>M</td>\n",
       "      <td>UNKNOWN</td>\n",
       "      <td>FATAL, shark \"bit off all lower parts of him u...</td>\n",
       "      <td>YES</td>\n",
       "      <td>UNKNOWN</td>\n",
       "      <td>UNKNOWN</td>\n",
       "    </tr>\n",
       "    <tr>\n",
       "      <th>6179</th>\n",
       "      <td>493 B.C.</td>\n",
       "      <td>0</td>\n",
       "      <td>Sea Disaster</td>\n",
       "      <td>GREECE</td>\n",
       "      <td>Off Thessaly</td>\n",
       "      <td>UNKNOWN</td>\n",
       "      <td>Shipwrecked Persian Fleet</td>\n",
       "      <td>males</td>\n",
       "      <td>M</td>\n",
       "      <td>UNKNOWN</td>\n",
       "      <td>Herodotus tells of sharks attacking men in the...</td>\n",
       "      <td>YES</td>\n",
       "      <td>UNKNOWN</td>\n",
       "      <td>UNKNOWN</td>\n",
       "    </tr>\n",
       "    <tr>\n",
       "      <th>6180</th>\n",
       "      <td>Ca. 725 B.C.</td>\n",
       "      <td>0</td>\n",
       "      <td>Sea Disaster</td>\n",
       "      <td>ITALY</td>\n",
       "      <td>Tyrrhenian Sea</td>\n",
       "      <td>Krater found during excavations at Lacco Ameno...</td>\n",
       "      <td>Shipwreck</td>\n",
       "      <td>males</td>\n",
       "      <td>M</td>\n",
       "      <td>UNKNOWN</td>\n",
       "      <td>Depicts shipwrecked sailors  attacked by a sha...</td>\n",
       "      <td>YES</td>\n",
       "      <td>UNKNOWN</td>\n",
       "      <td>UNKNOWN</td>\n",
       "    </tr>\n",
       "    <tr>\n",
       "      <th>6181</th>\n",
       "      <td>Before 1939</td>\n",
       "      <td>0</td>\n",
       "      <td>Unprovoked</td>\n",
       "      <td>CANADA</td>\n",
       "      <td>UNKNOWN</td>\n",
       "      <td>Grand Banks</td>\n",
       "      <td>Fishing</td>\n",
       "      <td>Joe Folsom</td>\n",
       "      <td>M</td>\n",
       "      <td>UNKNOWN</td>\n",
       "      <td>Arm bitten</td>\n",
       "      <td>NO</td>\n",
       "      <td>UNKNOWN</td>\n",
       "      <td>UNKNOWN</td>\n",
       "    </tr>\n",
       "    <tr>\n",
       "      <th>...</th>\n",
       "      <td>...</td>\n",
       "      <td>...</td>\n",
       "      <td>...</td>\n",
       "      <td>...</td>\n",
       "      <td>...</td>\n",
       "      <td>...</td>\n",
       "      <td>...</td>\n",
       "      <td>...</td>\n",
       "      <td>...</td>\n",
       "      <td>...</td>\n",
       "      <td>...</td>\n",
       "      <td>...</td>\n",
       "      <td>...</td>\n",
       "      <td>...</td>\n",
       "    </tr>\n",
       "    <tr>\n",
       "      <th>6297</th>\n",
       "      <td>Before 1903</td>\n",
       "      <td>0</td>\n",
       "      <td>Unprovoked</td>\n",
       "      <td>AUSTRALIA</td>\n",
       "      <td>Western Australia</td>\n",
       "      <td>Roebuck Bay</td>\n",
       "      <td>Diving</td>\n",
       "      <td>male</td>\n",
       "      <td>M</td>\n",
       "      <td>UNKNOWN</td>\n",
       "      <td>FATAL</td>\n",
       "      <td>YES</td>\n",
       "      <td>UNKNOWN</td>\n",
       "      <td>UNKNOWN</td>\n",
       "    </tr>\n",
       "    <tr>\n",
       "      <th>6298</th>\n",
       "      <td>Before 1903</td>\n",
       "      <td>0</td>\n",
       "      <td>Unprovoked</td>\n",
       "      <td>AUSTRALIA</td>\n",
       "      <td>Western Australia</td>\n",
       "      <td>UNKNOWN</td>\n",
       "      <td>Pearl diving</td>\n",
       "      <td>Ahmun</td>\n",
       "      <td>M</td>\n",
       "      <td>UNKNOWN</td>\n",
       "      <td>FATAL</td>\n",
       "      <td>YES</td>\n",
       "      <td>UNKNOWN</td>\n",
       "      <td>UNKNOWN</td>\n",
       "    </tr>\n",
       "    <tr>\n",
       "      <th>6299</th>\n",
       "      <td>1900-1905</td>\n",
       "      <td>0</td>\n",
       "      <td>Unprovoked</td>\n",
       "      <td>USA</td>\n",
       "      <td>North Carolina</td>\n",
       "      <td>Ocracoke Inlet</td>\n",
       "      <td>Swimming</td>\n",
       "      <td>Coast Guard personnel</td>\n",
       "      <td>M</td>\n",
       "      <td>UNKNOWN</td>\n",
       "      <td>FATAL</td>\n",
       "      <td>YES</td>\n",
       "      <td>UNKNOWN</td>\n",
       "      <td>UNKNOWN</td>\n",
       "    </tr>\n",
       "    <tr>\n",
       "      <th>6300</th>\n",
       "      <td>1883-1889</td>\n",
       "      <td>0</td>\n",
       "      <td>Unprovoked</td>\n",
       "      <td>PANAMA</td>\n",
       "      <td>UNKNOWN</td>\n",
       "      <td>Panama Bay 8ºN, 79ºW</td>\n",
       "      <td>UNKNOWN</td>\n",
       "      <td>Jules Patterson</td>\n",
       "      <td>M</td>\n",
       "      <td>UNKNOWN</td>\n",
       "      <td>FATAL</td>\n",
       "      <td>YES</td>\n",
       "      <td>UNKNOWN</td>\n",
       "      <td>UNKNOWN</td>\n",
       "    </tr>\n",
       "    <tr>\n",
       "      <th>6301</th>\n",
       "      <td>1845-1853</td>\n",
       "      <td>0</td>\n",
       "      <td>Unprovoked</td>\n",
       "      <td>CEYLON (SRI LANKA)</td>\n",
       "      <td>Eastern Province</td>\n",
       "      <td>Below the English fort, Trincomalee</td>\n",
       "      <td>Swimming</td>\n",
       "      <td>male</td>\n",
       "      <td>M</td>\n",
       "      <td>15</td>\n",
       "      <td>FATAL. \"Shark bit him in half, carrying away t...</td>\n",
       "      <td>YES</td>\n",
       "      <td>UNKNOWN</td>\n",
       "      <td>UNKNOWN</td>\n",
       "    </tr>\n",
       "  </tbody>\n",
       "</table>\n",
       "<p>125 rows × 14 columns</p>\n",
       "</div>"
      ],
      "text/plain": [
       "               date year          type             country               area  \\\n",
       "6177   Ca. 214 B.C.    0    Unprovoked             UNKNOWN         Ionian Sea   \n",
       "6178  Ca. 336.B.C..    0    Unprovoked              GREECE            Piraeus   \n",
       "6179       493 B.C.    0  Sea Disaster              GREECE       Off Thessaly   \n",
       "6180   Ca. 725 B.C.    0  Sea Disaster               ITALY     Tyrrhenian Sea   \n",
       "6181    Before 1939    0    Unprovoked              CANADA            UNKNOWN   \n",
       "...             ...  ...           ...                 ...                ...   \n",
       "6297    Before 1903    0    Unprovoked           AUSTRALIA  Western Australia   \n",
       "6298    Before 1903    0    Unprovoked           AUSTRALIA  Western Australia   \n",
       "6299      1900-1905    0    Unprovoked                 USA     North Carolina   \n",
       "6300      1883-1889    0    Unprovoked              PANAMA            UNKNOWN   \n",
       "6301      1845-1853    0    Unprovoked  CEYLON (SRI LANKA)   Eastern Province   \n",
       "\n",
       "                                               location  \\\n",
       "6177                                            UNKNOWN   \n",
       "6178                          In the haven of Cantharus   \n",
       "6179                                            UNKNOWN   \n",
       "6180  Krater found during excavations at Lacco Ameno...   \n",
       "6181                                        Grand Banks   \n",
       "...                                                 ...   \n",
       "6297                                        Roebuck Bay   \n",
       "6298                                            UNKNOWN   \n",
       "6299                                     Ocracoke Inlet   \n",
       "6300                               Panama Bay 8ºN, 79ºW   \n",
       "6301                Below the English fort, Trincomalee   \n",
       "\n",
       "                                               activity  \\\n",
       "6177                              Ascending from a dive   \n",
       "6178  Washing his pig in preparation for a religious...   \n",
       "6179                          Shipwrecked Persian Fleet   \n",
       "6180                                          Shipwreck   \n",
       "6181                                            Fishing   \n",
       "...                                                 ...   \n",
       "6297                                             Diving   \n",
       "6298                                       Pearl diving   \n",
       "6299                                           Swimming   \n",
       "6300                                            UNKNOWN   \n",
       "6301                                           Swimming   \n",
       "\n",
       "                            name gender      age  \\\n",
       "6177     Tharsys, a sponge diver      M  UNKNOWN   \n",
       "6178  A candidate for initiation      M  UNKNOWN   \n",
       "6179                       males      M  UNKNOWN   \n",
       "6180                       males      M  UNKNOWN   \n",
       "6181                  Joe Folsom      M  UNKNOWN   \n",
       "...                          ...    ...      ...   \n",
       "6297                        male      M  UNKNOWN   \n",
       "6298                       Ahmun      M  UNKNOWN   \n",
       "6299       Coast Guard personnel      M  UNKNOWN   \n",
       "6300             Jules Patterson      M  UNKNOWN   \n",
       "6301                        male      M       15   \n",
       "\n",
       "                                                 injury fatality     time  \\\n",
       "6177                      FATAL, shark/s bit him in two      YES  UNKNOWN   \n",
       "6178  FATAL, shark \"bit off all lower parts of him u...      YES  UNKNOWN   \n",
       "6179  Herodotus tells of sharks attacking men in the...      YES  UNKNOWN   \n",
       "6180  Depicts shipwrecked sailors  attacked by a sha...      YES  UNKNOWN   \n",
       "6181                                         Arm bitten       NO  UNKNOWN   \n",
       "...                                                 ...      ...      ...   \n",
       "6297                                              FATAL      YES  UNKNOWN   \n",
       "6298                                              FATAL      YES  UNKNOWN   \n",
       "6299                                              FATAL      YES  UNKNOWN   \n",
       "6300                                              FATAL      YES  UNKNOWN   \n",
       "6301  FATAL. \"Shark bit him in half, carrying away t...      YES  UNKNOWN   \n",
       "\n",
       "      species  \n",
       "6177  UNKNOWN  \n",
       "6178  UNKNOWN  \n",
       "6179  UNKNOWN  \n",
       "6180  UNKNOWN  \n",
       "6181  UNKNOWN  \n",
       "...       ...  \n",
       "6297  UNKNOWN  \n",
       "6298  UNKNOWN  \n",
       "6299  UNKNOWN  \n",
       "6300  UNKNOWN  \n",
       "6301  UNKNOWN  \n",
       "\n",
       "[125 rows x 14 columns]"
      ]
     },
     "execution_count": 330,
     "metadata": {},
     "output_type": "execute_result"
    }
   ],
   "source": [
    "anos500 = df.loc[df['year'] == 0, :]\n",
    "anos500"
   ]
  }
 ],
 "metadata": {
  "kernelspec": {
   "display_name": "Python 3",
   "language": "python",
   "name": "python3"
  },
  "language_info": {
   "codemirror_mode": {
    "name": "ipython",
    "version": 3
   },
   "file_extension": ".py",
   "mimetype": "text/x-python",
   "name": "python",
   "nbconvert_exporter": "python",
   "pygments_lexer": "ipython3",
   "version": "3.8.3"
  },
  "toc": {
   "base_numbering": 1,
   "nav_menu": {},
   "number_sections": true,
   "sideBar": true,
   "skip_h1_title": false,
   "title_cell": "Table of Contents",
   "title_sidebar": "Contents",
   "toc_cell": false,
   "toc_position": {},
   "toc_section_display": true,
   "toc_window_display": false
  },
  "varInspector": {
   "cols": {
    "lenName": 16,
    "lenType": 16,
    "lenVar": 40
   },
   "kernels_config": {
    "python": {
     "delete_cmd_postfix": "",
     "delete_cmd_prefix": "del ",
     "library": "var_list.py",
     "varRefreshCmd": "print(var_dic_list())"
    },
    "r": {
     "delete_cmd_postfix": ") ",
     "delete_cmd_prefix": "rm(",
     "library": "var_list.r",
     "varRefreshCmd": "cat(var_dic_list()) "
    }
   },
   "types_to_exclude": [
    "module",
    "function",
    "builtin_function_or_method",
    "instance",
    "_Feature"
   ],
   "window_display": false
  }
 },
 "nbformat": 4,
 "nbformat_minor": 4
}
